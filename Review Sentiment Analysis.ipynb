{
 "cells": [
  {
   "cell_type": "markdown",
   "metadata": {},
   "source": [
    "# Review Sentiment Analysis"
   ]
  },
  {
   "cell_type": "markdown",
   "metadata": {},
   "source": [
    "### What we can do :\n",
    "1. [-1.1]的感情评分进行[1,5]的归一化\n",
    "2. 评论情感评分的总分布\n",
    "3. category内的情感评分分布\n",
    "4. overall和情感分析的correlation关系\n",
    "5. 与overall进行比较查看是否有虚高（评分和overall的差值）\n",
    "6. 对虚高进行分析\n",
    "7. group by each product 进行overall mean和评分mean\n",
    "8. 对于单一的产品的评分进行虚高分析\n",
    "9. group by category 以情感评分为指标寻找最受欢迎的子类\n",
    "10. 使用情感评分作为popular的指标，筛选出最popular和最不popular的top10产品\n",
    "11. 时间变化的受欢迎程度分析"
   ]
  },
  {
   "cell_type": "code",
   "execution_count": 24,
   "metadata": {},
   "outputs": [],
   "source": [
    "# Math Packages\n",
    "import math\n",
    "import pandas as pd\n",
    "import numpy as np\n",
    "\n",
    "# Plot Packages \n",
    "import matplotlib.pyplot as plt\n",
    "import seaborn as sns\n",
    "%matplotlib inline\n",
    "\n",
    "#Vader\n",
    "import vaderSentiment\n",
    "from vaderSentiment.vaderSentiment import SentimentIntensityAnalyzer\n",
    "\n",
    "import warnings; warnings.simplefilter('ignore')"
   ]
  },
  {
   "cell_type": "code",
   "execution_count": 33,
   "metadata": {},
   "outputs": [],
   "source": [
    "#NLP libraries\n",
    "import spacy"
   ]
  },
  {
   "cell_type": "code",
   "execution_count": 7,
   "metadata": {},
   "outputs": [],
   "source": [
    "DATA_FOLDER = \"./data/\"\n",
    "META_HEALTH_CARE = \"health_metadata.pkl\"\n",
    "REVIEWS_HEALTH_CARE = \"health_review.pkl\"\n",
    "HEALTH_CARE = \"health_merge.pkl\"\n",
    "PRODUCT_REVIEW_INFO = \"product_review_info.pkl\""
   ]
  },
  {
   "cell_type": "markdown",
   "metadata": {},
   "source": [
    "## Sentiment Analysis and Normalization"
   ]
  },
  {
   "cell_type": "code",
   "execution_count": 31,
   "metadata": {},
   "outputs": [
    {
     "data": {
      "text/html": [
       "<div>\n",
       "<style scoped>\n",
       "    .dataframe tbody tr th:only-of-type {\n",
       "        vertical-align: middle;\n",
       "    }\n",
       "\n",
       "    .dataframe tbody tr th {\n",
       "        vertical-align: top;\n",
       "    }\n",
       "\n",
       "    .dataframe thead th {\n",
       "        text-align: right;\n",
       "    }\n",
       "</style>\n",
       "<table border=\"1\" class=\"dataframe\">\n",
       "  <thead>\n",
       "    <tr style=\"text-align: right;\">\n",
       "      <th></th>\n",
       "      <th>asin</th>\n",
       "      <th>title</th>\n",
       "      <th>reviewText</th>\n",
       "      <th>ReviewTime</th>\n",
       "      <th>categories</th>\n",
       "      <th>reviewScore</th>\n",
       "      <th>overall</th>\n",
       "      <th>reviewScoreNorm</th>\n",
       "    </tr>\n",
       "  </thead>\n",
       "  <tbody>\n",
       "    <tr>\n",
       "      <th>0</th>\n",
       "      <td>0077614992</td>\n",
       "      <td>Principles of Mgmt + Oper-CSUF Custom C</td>\n",
       "      <td>This book was a requirement for a college clas...</td>\n",
       "      <td>2013-02-15</td>\n",
       "      <td>[[Health &amp; Personal Care]]</td>\n",
       "      <td>0.2263</td>\n",
       "      <td>5</td>\n",
       "      <td>3.4526</td>\n",
       "    </tr>\n",
       "    <tr>\n",
       "      <th>1</th>\n",
       "      <td>0615208479</td>\n",
       "      <td>Brain Fitness Exercises Software</td>\n",
       "      <td>This is a great gift for anyone who wants to h...</td>\n",
       "      <td>2008-12-01</td>\n",
       "      <td>[[Health &amp; Personal Care, Personal Care]]</td>\n",
       "      <td>0.9748</td>\n",
       "      <td>5</td>\n",
       "      <td>4.9496</td>\n",
       "    </tr>\n",
       "    <tr>\n",
       "      <th>2</th>\n",
       "      <td>0615269990</td>\n",
       "      <td>Occam's Razor</td>\n",
       "      <td>Very helpful in learning about different disea...</td>\n",
       "      <td>2014-04-06</td>\n",
       "      <td>[[Health &amp; Personal Care, Personal Care, Shavi...</td>\n",
       "      <td>0.8313</td>\n",
       "      <td>5</td>\n",
       "      <td>4.6626</td>\n",
       "    </tr>\n",
       "    <tr>\n",
       "      <th>3</th>\n",
       "      <td>0615269990</td>\n",
       "      <td>Occam's Razor</td>\n",
       "      <td>Occam's Razor is an unbelievably intuitive and...</td>\n",
       "      <td>2013-12-04</td>\n",
       "      <td>[[Health &amp; Personal Care, Personal Care, Shavi...</td>\n",
       "      <td>0.9984</td>\n",
       "      <td>5</td>\n",
       "      <td>4.9968</td>\n",
       "    </tr>\n",
       "    <tr>\n",
       "      <th>4</th>\n",
       "      <td>0615269990</td>\n",
       "      <td>Occam's Razor</td>\n",
       "      <td>I met the guys from Nerdcore at a medical conf...</td>\n",
       "      <td>2014-04-24</td>\n",
       "      <td>[[Health &amp; Personal Care, Personal Care, Shavi...</td>\n",
       "      <td>0.4664</td>\n",
       "      <td>2</td>\n",
       "      <td>3.9328</td>\n",
       "    </tr>\n",
       "  </tbody>\n",
       "</table>\n",
       "</div>"
      ],
      "text/plain": [
       "         asin                                    title  \\\n",
       "0  0077614992  Principles of Mgmt + Oper-CSUF Custom C   \n",
       "1  0615208479         Brain Fitness Exercises Software   \n",
       "2  0615269990                            Occam's Razor   \n",
       "3  0615269990                            Occam's Razor   \n",
       "4  0615269990                            Occam's Razor   \n",
       "\n",
       "                                          reviewText ReviewTime  \\\n",
       "0  This book was a requirement for a college clas... 2013-02-15   \n",
       "1  This is a great gift for anyone who wants to h... 2008-12-01   \n",
       "2  Very helpful in learning about different disea... 2014-04-06   \n",
       "3  Occam's Razor is an unbelievably intuitive and... 2013-12-04   \n",
       "4  I met the guys from Nerdcore at a medical conf... 2014-04-24   \n",
       "\n",
       "                                          categories  reviewScore  overall  \\\n",
       "0                         [[Health & Personal Care]]       0.2263        5   \n",
       "1          [[Health & Personal Care, Personal Care]]       0.9748        5   \n",
       "2  [[Health & Personal Care, Personal Care, Shavi...       0.8313        5   \n",
       "3  [[Health & Personal Care, Personal Care, Shavi...       0.9984        5   \n",
       "4  [[Health & Personal Care, Personal Care, Shavi...       0.4664        2   \n",
       "\n",
       "   reviewScoreNorm  \n",
       "0           3.4526  \n",
       "1           4.9496  \n",
       "2           4.6626  \n",
       "3           4.9968  \n",
       "4           3.9328  "
      ]
     },
     "execution_count": 31,
     "metadata": {},
     "output_type": "execute_result"
    }
   ],
   "source": [
    "# Read product information in Health care including reviews\n",
    "df_health_care = pd.read_pickle(DATA_FOLDER+ HEALTH_CARE)\n",
    "\n",
    "df_product_review = df_health_care[[\"asin\",\"title\",\"reviewText\",\"ReviewTime\",\"categories\",\"overall\"]]\n",
    "\n",
    "analyzer = SentimentIntensityAnalyzer()\n",
    "df_product_review['reviewScore'] = df_product_review['reviewText'].apply(lambda x: analyzer.polarity_scores(x)['compound'])\n",
    "df_product_review['reviewScoreNorm'] = df_product_review[['reviewScore']] * 2 + 3\n",
    "\n",
    "df_product_review.head()"
   ]
  },
  {
   "cell_type": "code",
   "execution_count": 32,
   "metadata": {},
   "outputs": [],
   "source": [
    "# save as pickle\n",
    "df_product_review.to_pickle(DATA_FOLDER + PRODUCT_REVIEW_INFO)"
   ]
  },
  {
   "cell_type": "markdown",
   "metadata": {},
   "source": [
    "## Sentiment Distribution Analysis"
   ]
  },
  {
   "cell_type": "code",
   "execution_count": null,
   "metadata": {},
   "outputs": [],
   "source": [
    "# read from pickle\n",
    "df_product_review = pd.read_pickle(DATA_FOLDER + PRODUCT_REVIEW_INFO)"
   ]
  },
  {
   "cell_type": "code",
   "execution_count": 49,
   "metadata": {},
   "outputs": [
    {
     "data": {
      "image/png": "[encoded data removed]",
      "text/plain": [
       "<Figure size 432x288 with 1 Axes>"
      ]
     },
     "metadata": {
      "needs_background": "light"
     },
     "output_type": "display_data"
    }
   ],
   "source": [
    "# plot distribution\n",
    "df_product_review[\"reviewScore\"].hist(bins=10)\n",
    "plt.xlabel(\"review score\")\n",
    "plt.ylabel(\"counts\")\n",
    "plt.title(\"The counts of reviewScore\")\n",
    "plt.show()"
   ]
  },
  {
   "cell_type": "code",
   "execution_count": 48,
   "metadata": {},
   "outputs": [
    {
     "name": "stdout",
     "output_type": "stream",
     "text": [
      "The number of positive reviews is :2353432 and occupies 0.792% in the review\n",
      "The number of neutral reviews is :124861 and occupies 0.042% in the review\n",
      "The number of negative reviews is :494893and occupies 0.166% in the review\n"
     ]
    }
   ],
   "source": [
    "pos_num = len(df_product_review[df_product_review[\"reviewScore\"]>=0.05])\n",
    "neu_num = len(df_product_review[(df_product_review[\"reviewScore\"]>-0.05) & (df_product_review[\"reviewScore\"]<0.05)])\n",
    "neg_num = len(df_product_review[df_product_review[\"reviewScore\"]<=-0.05])\n",
    "total_num = len(df_product_review)\n",
    "\n",
    "print(\"The number of positive reviews is :{pn} and occupies {p:.3f}% in the review\".format(pn=pos_num,p=pos_num/total_num))\n",
    "print(\"The number of neutral reviews is :{nu} and occupies {p:.3f}% in the review\".format(nu=neu_num,p=neu_num/total_num))\n",
    "print(\"The number of negative reviews is :{nu}and occupies {p:.3f}% in the review\".format(nu=neg_num,p=neg_num/total_num))"
   ]
  },
  {
   "cell_type": "code",
   "execution_count": 51,
   "metadata": {},
   "outputs": [],
   "source": [
    "df_product_review.loc[df_product_review[\"reviewScore\"]>=0.05,\"label\"]=\"positive\"\n",
    "df_product_review.loc[(df_product_review[\"reviewScore\"]>-0.05) & (df_product_review[\"reviewScore\"]<0.05),\"label\"]=\"neutral\"\n",
    "df_product_review.loc[df_product_review[\"reviewScore\"]<=-0.05,\"label\"]=\"negative\""
   ]
  },
  {
   "cell_type": "code",
   "execution_count": 53,
   "metadata": {},
   "outputs": [
    {
     "data": {
      "text/html": [
       "<div>\n",
       "<style scoped>\n",
       "    .dataframe tbody tr th:only-of-type {\n",
       "        vertical-align: middle;\n",
       "    }\n",
       "\n",
       "    .dataframe tbody tr th {\n",
       "        vertical-align: top;\n",
       "    }\n",
       "\n",
       "    .dataframe thead th {\n",
       "        text-align: right;\n",
       "    }\n",
       "</style>\n",
       "<table border=\"1\" class=\"dataframe\">\n",
       "  <thead>\n",
       "    <tr style=\"text-align: right;\">\n",
       "      <th></th>\n",
       "      <th>asin</th>\n",
       "      <th>title</th>\n",
       "      <th>reviewText</th>\n",
       "      <th>ReviewTime</th>\n",
       "      <th>categories</th>\n",
       "      <th>reviewScore</th>\n",
       "      <th>overall</th>\n",
       "      <th>reviewScoreNorm</th>\n",
       "      <th>label</th>\n",
       "    </tr>\n",
       "  </thead>\n",
       "  <tbody>\n",
       "    <tr>\n",
       "      <th>0</th>\n",
       "      <td>0077614992</td>\n",
       "      <td>Principles of Mgmt + Oper-CSUF Custom C</td>\n",
       "      <td>This book was a requirement for a college clas...</td>\n",
       "      <td>2013-02-15</td>\n",
       "      <td>[[Health &amp; Personal Care]]</td>\n",
       "      <td>0.2263</td>\n",
       "      <td>5</td>\n",
       "      <td>3.4526</td>\n",
       "      <td>positive</td>\n",
       "    </tr>\n",
       "    <tr>\n",
       "      <th>1</th>\n",
       "      <td>0615208479</td>\n",
       "      <td>Brain Fitness Exercises Software</td>\n",
       "      <td>This is a great gift for anyone who wants to h...</td>\n",
       "      <td>2008-12-01</td>\n",
       "      <td>[[Health &amp; Personal Care, Personal Care]]</td>\n",
       "      <td>0.9748</td>\n",
       "      <td>5</td>\n",
       "      <td>4.9496</td>\n",
       "      <td>positive</td>\n",
       "    </tr>\n",
       "    <tr>\n",
       "      <th>2</th>\n",
       "      <td>0615269990</td>\n",
       "      <td>Occam's Razor</td>\n",
       "      <td>Very helpful in learning about different disea...</td>\n",
       "      <td>2014-04-06</td>\n",
       "      <td>[[Health &amp; Personal Care, Personal Care, Shavi...</td>\n",
       "      <td>0.8313</td>\n",
       "      <td>5</td>\n",
       "      <td>4.6626</td>\n",
       "      <td>positive</td>\n",
       "    </tr>\n",
       "    <tr>\n",
       "      <th>3</th>\n",
       "      <td>0615269990</td>\n",
       "      <td>Occam's Razor</td>\n",
       "      <td>Occam's Razor is an unbelievably intuitive and...</td>\n",
       "      <td>2013-12-04</td>\n",
       "      <td>[[Health &amp; Personal Care, Personal Care, Shavi...</td>\n",
       "      <td>0.9984</td>\n",
       "      <td>5</td>\n",
       "      <td>4.9968</td>\n",
       "      <td>positive</td>\n",
       "    </tr>\n",
       "    <tr>\n",
       "      <th>4</th>\n",
       "      <td>0615269990</td>\n",
       "      <td>Occam's Razor</td>\n",
       "      <td>I met the guys from Nerdcore at a medical conf...</td>\n",
       "      <td>2014-04-24</td>\n",
       "      <td>[[Health &amp; Personal Care, Personal Care, Shavi...</td>\n",
       "      <td>0.4664</td>\n",
       "      <td>2</td>\n",
       "      <td>3.9328</td>\n",
       "      <td>positive</td>\n",
       "    </tr>\n",
       "  </tbody>\n",
       "</table>\n",
       "</div>"
      ],
      "text/plain": [
       "         asin                                    title  \\\n",
       "0  0077614992  Principles of Mgmt + Oper-CSUF Custom C   \n",
       "1  0615208479         Brain Fitness Exercises Software   \n",
       "2  0615269990                            Occam's Razor   \n",
       "3  0615269990                            Occam's Razor   \n",
       "4  0615269990                            Occam's Razor   \n",
       "\n",
       "                                          reviewText ReviewTime  \\\n",
       "0  This book was a requirement for a college clas... 2013-02-15   \n",
       "1  This is a great gift for anyone who wants to h... 2008-12-01   \n",
       "2  Very helpful in learning about different disea... 2014-04-06   \n",
       "3  Occam's Razor is an unbelievably intuitive and... 2013-12-04   \n",
       "4  I met the guys from Nerdcore at a medical conf... 2014-04-24   \n",
       "\n",
       "                                          categories  reviewScore  overall  \\\n",
       "0                         [[Health & Personal Care]]       0.2263        5   \n",
       "1          [[Health & Personal Care, Personal Care]]       0.9748        5   \n",
       "2  [[Health & Personal Care, Personal Care, Shavi...       0.8313        5   \n",
       "3  [[Health & Personal Care, Personal Care, Shavi...       0.9984        5   \n",
       "4  [[Health & Personal Care, Personal Care, Shavi...       0.4664        2   \n",
       "\n",
       "   reviewScoreNorm     label  \n",
       "0           3.4526  positive  \n",
       "1           4.9496  positive  \n",
       "2           4.6626  positive  \n",
       "3           4.9968  positive  \n",
       "4           3.9328  positive  "
      ]
     },
     "execution_count": 53,
     "metadata": {},
     "output_type": "execute_result"
    }
   ],
   "source": [
    "df_product_review.head()"
   ]
  },
  {
   "cell_type": "code",
   "execution_count": 57,
   "metadata": {},
   "outputs": [
    {
     "data": {
      "image/png": "[encoded data removed]",
      "text/plain": [
       "<Figure size 360x360 with 1 Axes>"
      ]
     },
     "metadata": {
      "needs_background": "light"
     },
     "output_type": "display_data"
    }
   ],
   "source": [
    "plt.figure(figsize=(5,5))\n",
    "sns.boxplot(x=\"label\", y=\"reviewScore\", data=df_product_review,order=[\"positive\", \"neutral\",\"negative\"])\n",
    "plt.xlabel(\"Review Sentiment\")\n",
    "plt.title(\"Review Sentiment distribution\")\n",
    "plt.show()"
   ]
  },
  {
   "cell_type": "code",
   "execution_count": 60,
   "metadata": {},
   "outputs": [
    {
     "data": {
      "text/html": [
       "<div>\n",
       "<style scoped>\n",
       "    .dataframe tbody tr th:only-of-type {\n",
       "        vertical-align: middle;\n",
       "    }\n",
       "\n",
       "    .dataframe tbody tr th {\n",
       "        vertical-align: top;\n",
       "    }\n",
       "\n",
       "    .dataframe thead th {\n",
       "        text-align: right;\n",
       "    }\n",
       "</style>\n",
       "<table border=\"1\" class=\"dataframe\">\n",
       "  <thead>\n",
       "    <tr style=\"text-align: right;\">\n",
       "      <th></th>\n",
       "      <th>reviewScore</th>\n",
       "    </tr>\n",
       "  </thead>\n",
       "  <tbody>\n",
       "    <tr>\n",
       "      <th>count</th>\n",
       "      <td>2.973186e+06</td>\n",
       "    </tr>\n",
       "    <tr>\n",
       "      <th>mean</th>\n",
       "      <td>4.938181e-01</td>\n",
       "    </tr>\n",
       "    <tr>\n",
       "      <th>std</th>\n",
       "      <td>5.216410e-01</td>\n",
       "    </tr>\n",
       "    <tr>\n",
       "      <th>min</th>\n",
       "      <td>-9.999000e-01</td>\n",
       "    </tr>\n",
       "    <tr>\n",
       "      <th>25%</th>\n",
       "      <td>2.382000e-01</td>\n",
       "    </tr>\n",
       "    <tr>\n",
       "      <th>50%</th>\n",
       "      <td>7.156000e-01</td>\n",
       "    </tr>\n",
       "    <tr>\n",
       "      <th>75%</th>\n",
       "      <td>8.910000e-01</td>\n",
       "    </tr>\n",
       "    <tr>\n",
       "      <th>max</th>\n",
       "      <td>1.000000e+00</td>\n",
       "    </tr>\n",
       "  </tbody>\n",
       "</table>\n",
       "</div>"
      ],
      "text/plain": [
       "        reviewScore\n",
       "count  2.973186e+06\n",
       "mean   4.938181e-01\n",
       "std    5.216410e-01\n",
       "min   -9.999000e-01\n",
       "25%    2.382000e-01\n",
       "50%    7.156000e-01\n",
       "75%    8.910000e-01\n",
       "max    1.000000e+00"
      ]
     },
     "execution_count": 60,
     "metadata": {},
     "output_type": "execute_result"
    }
   ],
   "source": [
    "df_product_review[[\"reviewScore\"]].describe()"
   ]
  },
  {
   "cell_type": "code",
   "execution_count": 62,
   "metadata": {},
   "outputs": [
    {
     "data": {
      "text/plain": [
       "count    2.353432e+06\n",
       "mean     7.287716e-01\n",
       "std      2.335450e-01\n",
       "min      5.000000e-02\n",
       "25%      5.994000e-01\n",
       "50%      8.070000e-01\n",
       "75%      9.141000e-01\n",
       "max      1.000000e+00\n",
       "Name: reviewScore, dtype: float64"
      ]
     },
     "execution_count": 62,
     "metadata": {},
     "output_type": "execute_result"
    }
   ],
   "source": [
    "df_product_review.loc[df_product_review[\"reviewScore\"]>=0.05,\"reviewScore\"].describe()"
   ]
  },
  {
   "cell_type": "code",
   "execution_count": 63,
   "metadata": {},
   "outputs": [
    {
     "data": {
      "text/plain": [
       "count    124861.000000\n",
       "mean          0.000436\n",
       "std           0.015195\n",
       "min          -0.049900\n",
       "25%           0.000000\n",
       "50%           0.000000\n",
       "75%           0.000000\n",
       "max           0.049900\n",
       "Name: reviewScore, dtype: float64"
      ]
     },
     "execution_count": 63,
     "metadata": {},
     "output_type": "execute_result"
    }
   ],
   "source": [
    "df_product_review.loc[(df_product_review[\"reviewScore\"]>-0.05) & (df_product_review[\"reviewScore\"]<0.05),\"reviewScore\"].describe()"
   ]
  },
  {
   "cell_type": "code",
   "execution_count": 64,
   "metadata": {},
   "outputs": [
    {
     "data": {
      "text/plain": [
       "count    494893.000000\n",
       "mean         -0.499008\n",
       "std           0.256299\n",
       "min          -0.999900\n",
       "25%          -0.713000\n",
       "50%          -0.493900\n",
       "75%          -0.286900\n",
       "max          -0.050000\n",
       "Name: reviewScore, dtype: float64"
      ]
     },
     "execution_count": 64,
     "metadata": {},
     "output_type": "execute_result"
    }
   ],
   "source": [
    "df_product_review.loc[df_product_review[\"reviewScore\"]<=-0.05,\"reviewScore\"].describe()"
   ]
  },
  {
   "cell_type": "markdown",
   "metadata": {},
   "source": [
    "## Rating VS ReviewScore"
   ]
  },
  {
   "cell_type": "code",
   "execution_count": 67,
   "metadata": {},
   "outputs": [
    {
     "data": {
      "text/html": [
       "<div>\n",
       "<style scoped>\n",
       "    .dataframe tbody tr th:only-of-type {\n",
       "        vertical-align: middle;\n",
       "    }\n",
       "\n",
       "    .dataframe tbody tr th {\n",
       "        vertical-align: top;\n",
       "    }\n",
       "\n",
       "    .dataframe thead th {\n",
       "        text-align: right;\n",
       "    }\n",
       "</style>\n",
       "<table border=\"1\" class=\"dataframe\">\n",
       "  <thead>\n",
       "    <tr style=\"text-align: right;\">\n",
       "      <th></th>\n",
       "      <th>asin</th>\n",
       "      <th>title</th>\n",
       "      <th>reviewText</th>\n",
       "      <th>ReviewTime</th>\n",
       "      <th>categories</th>\n",
       "      <th>reviewScore</th>\n",
       "      <th>overall</th>\n",
       "      <th>reviewScoreNorm</th>\n",
       "      <th>label</th>\n",
       "      <th>Diff</th>\n",
       "    </tr>\n",
       "  </thead>\n",
       "  <tbody>\n",
       "    <tr>\n",
       "      <th>0</th>\n",
       "      <td>0077614992</td>\n",
       "      <td>Principles of Mgmt + Oper-CSUF Custom C</td>\n",
       "      <td>This book was a requirement for a college clas...</td>\n",
       "      <td>2013-02-15</td>\n",
       "      <td>[[Health &amp; Personal Care]]</td>\n",
       "      <td>0.2263</td>\n",
       "      <td>5</td>\n",
       "      <td>3.4526</td>\n",
       "      <td>positive</td>\n",
       "      <td>1.5474</td>\n",
       "    </tr>\n",
       "    <tr>\n",
       "      <th>1</th>\n",
       "      <td>0615208479</td>\n",
       "      <td>Brain Fitness Exercises Software</td>\n",
       "      <td>This is a great gift for anyone who wants to h...</td>\n",
       "      <td>2008-12-01</td>\n",
       "      <td>[[Health &amp; Personal Care, Personal Care]]</td>\n",
       "      <td>0.9748</td>\n",
       "      <td>5</td>\n",
       "      <td>4.9496</td>\n",
       "      <td>positive</td>\n",
       "      <td>0.0504</td>\n",
       "    </tr>\n",
       "    <tr>\n",
       "      <th>2</th>\n",
       "      <td>0615269990</td>\n",
       "      <td>Occam's Razor</td>\n",
       "      <td>Very helpful in learning about different disea...</td>\n",
       "      <td>2014-04-06</td>\n",
       "      <td>[[Health &amp; Personal Care, Personal Care, Shavi...</td>\n",
       "      <td>0.8313</td>\n",
       "      <td>5</td>\n",
       "      <td>4.6626</td>\n",
       "      <td>positive</td>\n",
       "      <td>0.3374</td>\n",
       "    </tr>\n",
       "    <tr>\n",
       "      <th>3</th>\n",
       "      <td>0615269990</td>\n",
       "      <td>Occam's Razor</td>\n",
       "      <td>Occam's Razor is an unbelievably intuitive and...</td>\n",
       "      <td>2013-12-04</td>\n",
       "      <td>[[Health &amp; Personal Care, Personal Care, Shavi...</td>\n",
       "      <td>0.9984</td>\n",
       "      <td>5</td>\n",
       "      <td>4.9968</td>\n",
       "      <td>positive</td>\n",
       "      <td>0.0032</td>\n",
       "    </tr>\n",
       "    <tr>\n",
       "      <th>4</th>\n",
       "      <td>0615269990</td>\n",
       "      <td>Occam's Razor</td>\n",
       "      <td>I met the guys from Nerdcore at a medical conf...</td>\n",
       "      <td>2014-04-24</td>\n",
       "      <td>[[Health &amp; Personal Care, Personal Care, Shavi...</td>\n",
       "      <td>0.4664</td>\n",
       "      <td>2</td>\n",
       "      <td>3.9328</td>\n",
       "      <td>positive</td>\n",
       "      <td>1.9328</td>\n",
       "    </tr>\n",
       "  </tbody>\n",
       "</table>\n",
       "</div>"
      ],
      "text/plain": [
       "         asin                                    title  \\\n",
       "0  0077614992  Principles of Mgmt + Oper-CSUF Custom C   \n",
       "1  0615208479         Brain Fitness Exercises Software   \n",
       "2  0615269990                            Occam's Razor   \n",
       "3  0615269990                            Occam's Razor   \n",
       "4  0615269990                            Occam's Razor   \n",
       "\n",
       "                                          reviewText ReviewTime  \\\n",
       "0  This book was a requirement for a college clas... 2013-02-15   \n",
       "1  This is a great gift for anyone who wants to h... 2008-12-01   \n",
       "2  Very helpful in learning about different disea... 2014-04-06   \n",
       "3  Occam's Razor is an unbelievably intuitive and... 2013-12-04   \n",
       "4  I met the guys from Nerdcore at a medical conf... 2014-04-24   \n",
       "\n",
       "                                          categories  reviewScore  overall  \\\n",
       "0                         [[Health & Personal Care]]       0.2263        5   \n",
       "1          [[Health & Personal Care, Personal Care]]       0.9748        5   \n",
       "2  [[Health & Personal Care, Personal Care, Shavi...       0.8313        5   \n",
       "3  [[Health & Personal Care, Personal Care, Shavi...       0.9984        5   \n",
       "4  [[Health & Personal Care, Personal Care, Shavi...       0.4664        2   \n",
       "\n",
       "   reviewScoreNorm     label    Diff  \n",
       "0           3.4526  positive  1.5474  \n",
       "1           4.9496  positive  0.0504  \n",
       "2           4.6626  positive  0.3374  \n",
       "3           4.9968  positive  0.0032  \n",
       "4           3.9328  positive  1.9328  "
      ]
     },
     "execution_count": 67,
     "metadata": {},
     "output_type": "execute_result"
    }
   ],
   "source": [
    "df_product_review[\"Diff\"] = abs(df_product_review[\"overall\"] - df_product_review[\"reviewScoreNorm\"])\n",
    "df_product_review.head()"
   ]
  },
  {
   "cell_type": "code",
   "execution_count": 69,
   "metadata": {},
   "outputs": [
    {
     "data": {
      "image/png": "[encoded data removed]",
      "text/plain": [
       "<Figure size 432x288 with 1 Axes>"
      ]
     },
     "metadata": {
      "needs_background": "light"
     },
     "output_type": "display_data"
    }
   ],
   "source": [
    "df_product_review[\"Diff\"].hist(bins=10)\n",
    "plt.xlabel(\"Difference of rating and reviewScore\")\n",
    "plt.ylabel(\"Counts\")\n",
    "plt.title(\"Distribution of difference\")\n",
    "plt.show()"
   ]
  },
  {
   "cell_type": "code",
   "execution_count": 70,
   "metadata": {},
   "outputs": [],
   "source": [
    "# set threshold representing that the reviewScore is consistent with the rating, otherwise it's not.\n",
    "# and the number of inconsistence and consistence\n",
    "threshold = 1.0\n",
    "diff_g1 = df_product_review[df_product_review[\"Diff\"]>threshold]\n",
    "diff_s1 = df_product_review[df_product_review[\"Diff\"]<=threshold]"
   ]
  },
  {
   "cell_type": "code",
   "execution_count": null,
   "metadata": {},
   "outputs": [],
   "source": []
  }
 ],
 "metadata": {
  "kernelspec": {
   "display_name": "Python 3",
   "language": "python",
   "name": "python3"
  },
  "language_info": {
   "codemirror_mode": {
    "name": "ipython",
    "version": 3
   },
   "file_extension": ".py",
   "mimetype": "text/x-python",
   "name": "python",
   "nbconvert_exporter": "python",
   "pygments_lexer": "ipython3",
   "version": "3.6.7"
  }
 },
 "nbformat": 4,
 "nbformat_minor": 2
}
