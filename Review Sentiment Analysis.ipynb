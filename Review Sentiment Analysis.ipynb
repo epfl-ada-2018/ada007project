{
 "cells": [
  {
   "cell_type": "markdown",
   "metadata": {},
   "source": [
    "# Review Sentiment Analysis"
   ]
  },
  {
   "cell_type": "markdown",
   "metadata": {},
   "source": [
    "### What we can do :\n",
    "缺textual\n",
    "- [✔][-1.1]的感情评分进行[1,5]的归一化\n",
    "- Normalized the range of the sentiment compound score from [-1,1] to [1,5]\n",
    "- [✔]评论情感评分的总分布\n",
    "- The distribution of total sentiment score\n",
    "- [✔]category内的情感评分分布\n",
    "- The distribution of sentiment score of each category\n",
    "- [✔]category内的情感评分mean分析\n",
    "- Analysis for the mean of each category\n",
    "- [✔]overall和情感分析的correlation关系\n",
    "- the correlation between rating and sentiment score\n",
    "- [✔]与overall进行比较查看是否有虚高和虚低（评分和overall的差值）\n",
    "- Check if there are large difference (greater than 1) of rating and sentiment score\n",
    "- [✔]对虚高和虚低进行分析\n",
    "- Analysis the difference of rating and sentiment score\n",
    "    - High rating but low score\n",
    "    - Low rating but high score\n",
    "- [✔]group by category 以情感评分为指标寻找最受欢迎的子类\n",
    "- Find the most popular category according to categories' score\n",
    "- [✔]使用情感评分作为popular的指标，筛选出最popular的top10产品\n",
    "- Find top10 popular product\n",
    "- [✔]时间变化的受欢迎程度分析(以日、月为单位）\n",
    "- The trend of popularity with unit date and month"
   ]
  },
  {
   "cell_type": "code",
   "execution_count": null,
   "metadata": {},
   "outputs": [],
   "source": [
    "import warnings; warnings.simplefilter('ignore')\n",
    "\n",
    "# Math Packages\n",
    "import math\n",
    "import pandas as pd\n",
    "import numpy as n\n",
    "# Plot Packages \n",
    "import matplotlib.pyplot as plt\n",
    "import seaborn as sns\n",
    "%matplotlib inline\n",
    "\n",
    "#Vader\n",
    "import vaderSentiment\n",
    "from vaderSentiment.vaderSentiment import SentimentIntensityAnalyzer\n",
    "\n",
    "#NLP libraries\n",
    "import spacy\n",
    "# datetime\n",
    "import datetime\n",
    "# from datetime import *"
   ]
  },
  {
   "cell_type": "code",
   "execution_count": 3,
   "metadata": {},
   "outputs": [],
   "source": [
    "DATA_FOLDER = \"./data/\"\n",
    "META_HEALTH_CARE = \"health_metadata.pkl\"\n",
    "REVIEWS_HEALTH_CARE = \"health_review.pkl\"\n",
    "HEALTH_CARE = \"health_merge.pkl\"\n",
    "PRODUCT_REVIEW_INFO = \"product_review_info.pkl\""
   ]
  },
  {
   "cell_type": "markdown",
   "metadata": {},
   "source": [
    "## Sentiment Analysis and Normalization"
   ]
  },
  {
   "cell_type": "markdown",
   "metadata": {},
   "source": [
    "We use compound score to define whether the review is positive, neutral or negative. According to difinition:\n",
    "- positive: compound score > 0.05\n",
    "- neutral: -0.05 < compound score < 0.05\n",
    "- negative:compound score < -0.05"
   ]
  },
  {
   "cell_type": "code",
   "execution_count": null,
   "metadata": {},
   "outputs": [],
   "source": [
    "# Read product information in Health care including reviews\n",
    "df_health_care = pd.read_pickle(DATA_FOLDER+ HEALTH_CARE)\n",
    "\n",
    "df_product_review = df_health_care[[\"asin\",\"title\",\"reviewText\",\"ReviewTime\",\"categories\",\"overall\"]]\n",
    "\n",
    "analyzer = SentimentIntensityAnalyzer()\n",
    "df_product_review['reviewScore'] = df_product_review['reviewText'].apply(lambda x: analyzer.polarity_scores(x)['compound'])\n",
    "df_product_review['reviewScoreNorm'] = df_product_review[['reviewScore']] * 2 + 3\n",
    "\n",
    "df_product_review.head()"
   ]
  },
  {
   "cell_type": "code",
   "execution_count": null,
   "metadata": {},
   "outputs": [],
   "source": [
    "# save as pickle\n",
    "df_product_review.to_pickle(DATA_FOLDER + PRODUCT_REVIEW_INFO)"
   ]
  },
  {
   "cell_type": "markdown",
   "metadata": {},
   "source": [
    "## Sentiment Distribution Analysis"
   ]
  },
  {
   "cell_type": "markdown",
   "metadata": {},
   "source": [
    "### Total"
   ]
  },
  {
   "cell_type": "markdown",
   "metadata": {},
   "source": [
    "In this part, we mainly analysis the sentiment score for total products by their ```distribution``` and ```proportion``` of different sentiment occupied in the whole reviews. In addition, the ```extent``` of each sentiment are also provided inside."
   ]
  },
  {
   "cell_type": "code",
   "execution_count": 4,
   "metadata": {},
   "outputs": [],
   "source": [
    "# read from pickle\n",
    "df_product_review = pd.read_pickle(DATA_FOLDER + PRODUCT_REVIEW_INFO)"
   ]
  },
  {
   "cell_type": "markdown",
   "metadata": {},
   "source": [
    "Plot the distribution of total reviews' sentiment score"
   ]
  },
  {
   "cell_type": "code",
   "execution_count": 16,
   "metadata": {
    "scrolled": true
   },
   "outputs": [
    {
     "data": {
      "image/png": "[encoded data removed]",
      "text/plain": [
       "<Figure size 432x288 with 1 Axes>"
      ]
     },
     "metadata": {
      "needs_background": "light"
     },
     "output_type": "display_data"
    }
   ],
   "source": [
    "# plot distribution for total\n",
    "df_product_review[\"reviewScore\"].hist(bins=10)\n",
    "plt.xlabel(\"review score\")\n",
    "plt.ylabel(\"counts\")\n",
    "plt.title(\"The counts of reviewScore\")\n",
    "plt.show()"
   ]
  },
  {
   "cell_type": "markdown",
   "metadata": {},
   "source": [
    "⬆ What we can see above is that:\n",
    "1. very large number of reviews are positive and most of them are close to extremely postive with socre higher than 0.75. \n",
    "2. The number of both negative reviews and neutral reviews are much more lower than the positive ones."
   ]
  },
  {
   "cell_type": "markdown",
   "metadata": {},
   "source": [
    "Print out the proportion for each sentiment."
   ]
  },
  {
   "cell_type": "code",
   "execution_count": 17,
   "metadata": {},
   "outputs": [
    {
     "name": "stdout",
     "output_type": "stream",
     "text": [
      "The number of positive reviews is :2353432 and occupies 79.155% in the review\n",
      "The number of neutral reviews is :124861 and occupies 4.200% in the review\n",
      "The number of negative reviews is :494893and occupies 16.645% in the review\n"
     ]
    }
   ],
   "source": [
    "pos_num = len(df_product_review[df_product_review[\"reviewScore\"]>=0.05])\n",
    "neu_num = len(df_product_review[(df_product_review[\"reviewScore\"]>-0.05) & (df_product_review[\"reviewScore\"]<0.05)])\n",
    "neg_num = len(df_product_review[df_product_review[\"reviewScore\"]<=-0.05])\n",
    "total_num = len(df_product_review)\n",
    "\n",
    "print(\"The number of positive reviews is :{pn} and occupies {p:.3f}% in the review\".format(pn=pos_num,p=pos_num*100/total_num))\n",
    "print(\"The number of neutral reviews is :{nu} and occupies {p:.3f}% in the review\".format(nu=neu_num,p=neu_num*100/total_num))\n",
    "print(\"The number of negative reviews is :{nu}and occupies {p:.3f}% in the review\".format(nu=neg_num,p=neg_num*100/total_num))"
   ]
  },
  {
   "cell_type": "markdown",
   "metadata": {},
   "source": [
    "⬆ As is shown above: \n",
    "1. The positive reviews occupied the largest part in total (which is the same conclusion as we drew above) with about 79%, which means many people thinks the products in Health and Care are good. \n",
    "2. But for the negative part, there is also a remarkable percentage at about 16.6%, which means there are still lots of people consider that some products cannot satisfy their needs. \n",
    "3. Compared to other two kinds, the percentage of neutral reviews is quite smaller, which means most people have very clear attitude towards the products in this category."
   ]
  },
  {
   "cell_type": "markdown",
   "metadata": {},
   "source": [
    "Label each sentiment score with ```postive```,```negative```,```neutral``` for convinence."
   ]
  },
  {
   "cell_type": "code",
   "execution_count": 18,
   "metadata": {},
   "outputs": [],
   "source": [
    "df_product_review.loc[df_product_review[\"reviewScore\"]>=0.05,\"label\"]=\"positive\"\n",
    "df_product_review.loc[(df_product_review[\"reviewScore\"]>-0.05) & (df_product_review[\"reviewScore\"]<0.05),\"label\"]=\"neutral\"\n",
    "df_product_review.loc[df_product_review[\"reviewScore\"]<=-0.05,\"label\"]=\"negative\""
   ]
  },
  {
   "cell_type": "code",
   "execution_count": 19,
   "metadata": {},
   "outputs": [
    {
     "data": {
      "text/html": [
       "<div>\n",
       "<style scoped>\n",
       "    .dataframe tbody tr th:only-of-type {\n",
       "        vertical-align: middle;\n",
       "    }\n",
       "\n",
       "    .dataframe tbody tr th {\n",
       "        vertical-align: top;\n",
       "    }\n",
       "\n",
       "    .dataframe thead th {\n",
       "        text-align: right;\n",
       "    }\n",
       "</style>\n",
       "<table border=\"1\" class=\"dataframe\">\n",
       "  <thead>\n",
       "    <tr style=\"text-align: right;\">\n",
       "      <th></th>\n",
       "      <th>asin</th>\n",
       "      <th>title</th>\n",
       "      <th>reviewText</th>\n",
       "      <th>ReviewTime</th>\n",
       "      <th>categories</th>\n",
       "      <th>reviewScore</th>\n",
       "      <th>overall</th>\n",
       "      <th>reviewScoreNorm</th>\n",
       "      <th>month-day</th>\n",
       "      <th>label</th>\n",
       "    </tr>\n",
       "  </thead>\n",
       "  <tbody>\n",
       "    <tr>\n",
       "      <th>0</th>\n",
       "      <td>0077614992</td>\n",
       "      <td>Principles of Mgmt + Oper-CSUF Custom C</td>\n",
       "      <td>This book was a requirement for a college clas...</td>\n",
       "      <td>2013-02-15</td>\n",
       "      <td>[[Health &amp; Personal Care]]</td>\n",
       "      <td>0.2263</td>\n",
       "      <td>5</td>\n",
       "      <td>3.4526</td>\n",
       "      <td>02-15</td>\n",
       "      <td>positive</td>\n",
       "    </tr>\n",
       "    <tr>\n",
       "      <th>1</th>\n",
       "      <td>0615208479</td>\n",
       "      <td>Brain Fitness Exercises Software</td>\n",
       "      <td>This is a great gift for anyone who wants to h...</td>\n",
       "      <td>2008-12-01</td>\n",
       "      <td>[[Health &amp; Personal Care, Personal Care]]</td>\n",
       "      <td>0.9748</td>\n",
       "      <td>5</td>\n",
       "      <td>4.9496</td>\n",
       "      <td>12-01</td>\n",
       "      <td>positive</td>\n",
       "    </tr>\n",
       "    <tr>\n",
       "      <th>2</th>\n",
       "      <td>0615269990</td>\n",
       "      <td>Occam's Razor</td>\n",
       "      <td>Very helpful in learning about different disea...</td>\n",
       "      <td>2014-04-06</td>\n",
       "      <td>[[Health &amp; Personal Care, Personal Care, Shavi...</td>\n",
       "      <td>0.8313</td>\n",
       "      <td>5</td>\n",
       "      <td>4.6626</td>\n",
       "      <td>04-06</td>\n",
       "      <td>positive</td>\n",
       "    </tr>\n",
       "    <tr>\n",
       "      <th>3</th>\n",
       "      <td>0615269990</td>\n",
       "      <td>Occam's Razor</td>\n",
       "      <td>Occam's Razor is an unbelievably intuitive and...</td>\n",
       "      <td>2013-12-04</td>\n",
       "      <td>[[Health &amp; Personal Care, Personal Care, Shavi...</td>\n",
       "      <td>0.9984</td>\n",
       "      <td>5</td>\n",
       "      <td>4.9968</td>\n",
       "      <td>12-04</td>\n",
       "      <td>positive</td>\n",
       "    </tr>\n",
       "    <tr>\n",
       "      <th>4</th>\n",
       "      <td>0615269990</td>\n",
       "      <td>Occam's Razor</td>\n",
       "      <td>I met the guys from Nerdcore at a medical conf...</td>\n",
       "      <td>2014-04-24</td>\n",
       "      <td>[[Health &amp; Personal Care, Personal Care, Shavi...</td>\n",
       "      <td>0.4664</td>\n",
       "      <td>2</td>\n",
       "      <td>3.9328</td>\n",
       "      <td>04-24</td>\n",
       "      <td>positive</td>\n",
       "    </tr>\n",
       "  </tbody>\n",
       "</table>\n",
       "</div>"
      ],
      "text/plain": [
       "         asin                                    title  \\\n",
       "0  0077614992  Principles of Mgmt + Oper-CSUF Custom C   \n",
       "1  0615208479         Brain Fitness Exercises Software   \n",
       "2  0615269990                            Occam's Razor   \n",
       "3  0615269990                            Occam's Razor   \n",
       "4  0615269990                            Occam's Razor   \n",
       "\n",
       "                                          reviewText ReviewTime  \\\n",
       "0  This book was a requirement for a college clas... 2013-02-15   \n",
       "1  This is a great gift for anyone who wants to h... 2008-12-01   \n",
       "2  Very helpful in learning about different disea... 2014-04-06   \n",
       "3  Occam's Razor is an unbelievably intuitive and... 2013-12-04   \n",
       "4  I met the guys from Nerdcore at a medical conf... 2014-04-24   \n",
       "\n",
       "                                          categories  reviewScore  overall  \\\n",
       "0                         [[Health & Personal Care]]       0.2263        5   \n",
       "1          [[Health & Personal Care, Personal Care]]       0.9748        5   \n",
       "2  [[Health & Personal Care, Personal Care, Shavi...       0.8313        5   \n",
       "3  [[Health & Personal Care, Personal Care, Shavi...       0.9984        5   \n",
       "4  [[Health & Personal Care, Personal Care, Shavi...       0.4664        2   \n",
       "\n",
       "   reviewScoreNorm month-day     label  \n",
       "0           3.4526     02-15  positive  \n",
       "1           4.9496     12-01  positive  \n",
       "2           4.6626     04-06  positive  \n",
       "3           4.9968     12-04  positive  \n",
       "4           3.9328     04-24  positive  "
      ]
     },
     "execution_count": 19,
     "metadata": {},
     "output_type": "execute_result"
    }
   ],
   "source": [
    "df_product_review.head()"
   ]
  },
  {
   "cell_type": "markdown",
   "metadata": {},
   "source": [
    "View the statistic of score for mainly positive reviews and negative reviews to see the averge extent of the sentiment in total and each kind of reviews."
   ]
  },
  {
   "cell_type": "code",
   "execution_count": 20,
   "metadata": {},
   "outputs": [
    {
     "data": {
      "text/html": [
       "<div>\n",
       "<style scoped>\n",
       "    .dataframe tbody tr th:only-of-type {\n",
       "        vertical-align: middle;\n",
       "    }\n",
       "\n",
       "    .dataframe tbody tr th {\n",
       "        vertical-align: top;\n",
       "    }\n",
       "\n",
       "    .dataframe thead th {\n",
       "        text-align: right;\n",
       "    }\n",
       "</style>\n",
       "<table border=\"1\" class=\"dataframe\">\n",
       "  <thead>\n",
       "    <tr style=\"text-align: right;\">\n",
       "      <th></th>\n",
       "      <th>reviewScore</th>\n",
       "    </tr>\n",
       "  </thead>\n",
       "  <tbody>\n",
       "    <tr>\n",
       "      <th>count</th>\n",
       "      <td>2.973186e+06</td>\n",
       "    </tr>\n",
       "    <tr>\n",
       "      <th>mean</th>\n",
       "      <td>4.938181e-01</td>\n",
       "    </tr>\n",
       "    <tr>\n",
       "      <th>std</th>\n",
       "      <td>5.216410e-01</td>\n",
       "    </tr>\n",
       "    <tr>\n",
       "      <th>min</th>\n",
       "      <td>-9.999000e-01</td>\n",
       "    </tr>\n",
       "    <tr>\n",
       "      <th>25%</th>\n",
       "      <td>2.382000e-01</td>\n",
       "    </tr>\n",
       "    <tr>\n",
       "      <th>50%</th>\n",
       "      <td>7.156000e-01</td>\n",
       "    </tr>\n",
       "    <tr>\n",
       "      <th>75%</th>\n",
       "      <td>8.910000e-01</td>\n",
       "    </tr>\n",
       "    <tr>\n",
       "      <th>max</th>\n",
       "      <td>1.000000e+00</td>\n",
       "    </tr>\n",
       "  </tbody>\n",
       "</table>\n",
       "</div>"
      ],
      "text/plain": [
       "        reviewScore\n",
       "count  2.973186e+06\n",
       "mean   4.938181e-01\n",
       "std    5.216410e-01\n",
       "min   -9.999000e-01\n",
       "25%    2.382000e-01\n",
       "50%    7.156000e-01\n",
       "75%    8.910000e-01\n",
       "max    1.000000e+00"
      ]
     },
     "execution_count": 20,
     "metadata": {},
     "output_type": "execute_result"
    }
   ],
   "source": [
    "df_product_review[[\"reviewScore\"]].describe()"
   ]
  },
  {
   "cell_type": "markdown",
   "metadata": {},
   "source": [
    "⬆ The average extent of sentiment in total is about 0.43, showing that the sentiment of the whole reviews are positive but not in very high level (if setting 0.75 as a threshold). The standard deviation is 0.5, which means the score is a little bit scattered (because the largest difference of the score is just 2)."
   ]
  },
  {
   "cell_type": "code",
   "execution_count": 21,
   "metadata": {},
   "outputs": [
    {
     "data": {
      "text/plain": [
       "count    2.353432e+06\n",
       "mean     7.287716e-01\n",
       "std      2.335450e-01\n",
       "min      5.000000e-02\n",
       "25%      5.994000e-01\n",
       "50%      8.070000e-01\n",
       "75%      9.141000e-01\n",
       "max      1.000000e+00\n",
       "Name: reviewScore, dtype: float64"
      ]
     },
     "execution_count": 21,
     "metadata": {},
     "output_type": "execute_result"
    }
   ],
   "source": [
    "df_product_review.loc[df_product_review[\"reviewScore\"]>=0.05,\"reviewScore\"].describe()"
   ]
  },
  {
   "cell_type": "code",
   "execution_count": 22,
   "metadata": {},
   "outputs": [
    {
     "data": {
      "text/plain": [
       "count    494893.000000\n",
       "mean         -0.499008\n",
       "std           0.256299\n",
       "min          -0.999900\n",
       "25%          -0.713000\n",
       "50%          -0.493900\n",
       "75%          -0.286900\n",
       "max          -0.050000\n",
       "Name: reviewScore, dtype: float64"
      ]
     },
     "execution_count": 22,
     "metadata": {},
     "output_type": "execute_result"
    }
   ],
   "source": [
    "df_product_review.loc[df_product_review[\"reviewScore\"]<=-0.05,\"reviewScore\"].describe()"
   ]
  },
  {
   "cell_type": "markdown",
   "metadata": {},
   "source": [
    "Plot the distribution of sentiment score of positive reviews, neutral reviews and negative reviews."
   ]
  },
  {
   "cell_type": "code",
   "execution_count": 23,
   "metadata": {},
   "outputs": [
    {
     "data": {
      "image/png": "[encoded data removed]",
      "text/plain": [
       "<Figure size 360x360 with 1 Axes>"
      ]
     },
     "metadata": {
      "needs_background": "light"
     },
     "output_type": "display_data"
    }
   ],
   "source": [
    "plt.figure(figsize=(5,5))\n",
    "sns.boxplot(x=\"label\", y=\"reviewScore\", data=df_product_review,order=[\"positive\", \"neutral\",\"negative\"])\n",
    "plt.xlabel(\"Review Sentiment\")\n",
    "plt.title(\"Review Sentiment distribution\")\n",
    "plt.show()"
   ]
  },
  {
   "cell_type": "markdown",
   "metadata": {},
   "source": [
    "Analysis the statistic of sentiment score of total reviews,positive reviews, neutral reviews and negative reviews."
   ]
  },
  {
   "cell_type": "markdown",
   "metadata": {},
   "source": [
    "### Sub-categories"
   ]
  },
  {
   "cell_type": "markdown",
   "metadata": {},
   "source": [
    "Difference analysis of each sub-categories (2nd)"
   ]
  },
  {
   "cell_type": "code",
   "execution_count": 24,
   "metadata": {
    "scrolled": true
   },
   "outputs": [
    {
     "data": {
      "text/html": [
       "<div>\n",
       "<style scoped>\n",
       "    .dataframe tbody tr th:only-of-type {\n",
       "        vertical-align: middle;\n",
       "    }\n",
       "\n",
       "    .dataframe tbody tr th {\n",
       "        vertical-align: top;\n",
       "    }\n",
       "\n",
       "    .dataframe thead th {\n",
       "        text-align: right;\n",
       "    }\n",
       "</style>\n",
       "<table border=\"1\" class=\"dataframe\">\n",
       "  <thead>\n",
       "    <tr style=\"text-align: right;\">\n",
       "      <th></th>\n",
       "      <th>subcategories</th>\n",
       "      <th>reviewScore</th>\n",
       "      <th>overall</th>\n",
       "      <th>reviewScoreNorm</th>\n",
       "    </tr>\n",
       "  </thead>\n",
       "  <tbody>\n",
       "    <tr>\n",
       "      <th>0</th>\n",
       "      <td>default</td>\n",
       "      <td>0.2263</td>\n",
       "      <td>5</td>\n",
       "      <td>3.4526</td>\n",
       "    </tr>\n",
       "    <tr>\n",
       "      <th>1</th>\n",
       "      <td>Personal Care</td>\n",
       "      <td>0.9748</td>\n",
       "      <td>5</td>\n",
       "      <td>4.9496</td>\n",
       "    </tr>\n",
       "    <tr>\n",
       "      <th>2</th>\n",
       "      <td>Personal Care</td>\n",
       "      <td>0.8313</td>\n",
       "      <td>5</td>\n",
       "      <td>4.6626</td>\n",
       "    </tr>\n",
       "    <tr>\n",
       "      <th>3</th>\n",
       "      <td>Personal Care</td>\n",
       "      <td>0.9984</td>\n",
       "      <td>5</td>\n",
       "      <td>4.9968</td>\n",
       "    </tr>\n",
       "    <tr>\n",
       "      <th>4</th>\n",
       "      <td>Personal Care</td>\n",
       "      <td>0.4664</td>\n",
       "      <td>2</td>\n",
       "      <td>3.9328</td>\n",
       "    </tr>\n",
       "  </tbody>\n",
       "</table>\n",
       "</div>"
      ],
      "text/plain": [
       "   subcategories  reviewScore  overall  reviewScoreNorm\n",
       "0        default       0.2263        5           3.4526\n",
       "1  Personal Care       0.9748        5           4.9496\n",
       "2  Personal Care       0.8313        5           4.6626\n",
       "3  Personal Care       0.9984        5           4.9968\n",
       "4  Personal Care       0.4664        2           3.9328"
      ]
     },
     "execution_count": 24,
     "metadata": {},
     "output_type": "execute_result"
    }
   ],
   "source": [
    "df_product_cat_review = df_product_review.copy()\n",
    "\n",
    "def find_subcat(x):\n",
    "    if(len(x[0])==1):\n",
    "        # if second category is None\n",
    "        return 'default'\n",
    "    else:\n",
    "        return x[0][1]\n",
    "\n",
    "df_product_cat_review[\"subcategories\"] = df_product_cat_review[\"categories\"].apply(lambda x:find_subcat(x))\n",
    "df_product_cat_review = df_product_cat_review[[\"subcategories\",\"reviewScore\",\"overall\",\"reviewScoreNorm\"]]\n",
    "df_product_cat_review.head()"
   ]
  },
  {
   "cell_type": "code",
   "execution_count": 25,
   "metadata": {},
   "outputs": [
    {
     "data": {
      "text/html": [
       "<div>\n",
       "<style scoped>\n",
       "    .dataframe tbody tr th:only-of-type {\n",
       "        vertical-align: middle;\n",
       "    }\n",
       "\n",
       "    .dataframe tbody tr th {\n",
       "        vertical-align: top;\n",
       "    }\n",
       "\n",
       "    .dataframe thead th {\n",
       "        text-align: right;\n",
       "    }\n",
       "</style>\n",
       "<table border=\"1\" class=\"dataframe\">\n",
       "  <thead>\n",
       "    <tr style=\"text-align: right;\">\n",
       "      <th></th>\n",
       "      <th>reviewScore</th>\n",
       "      <th>overall</th>\n",
       "      <th>reviewScoreNorm</th>\n",
       "    </tr>\n",
       "    <tr>\n",
       "      <th>subcategories</th>\n",
       "      <th></th>\n",
       "      <th></th>\n",
       "      <th></th>\n",
       "    </tr>\n",
       "  </thead>\n",
       "  <tbody>\n",
       "    <tr>\n",
       "      <th>Baby &amp; Child Care</th>\n",
       "      <td>0.609269</td>\n",
       "      <td>4.205483</td>\n",
       "      <td>4.218539</td>\n",
       "    </tr>\n",
       "    <tr>\n",
       "      <th>Stationery &amp; Party Supplies</th>\n",
       "      <td>0.602765</td>\n",
       "      <td>4.102568</td>\n",
       "      <td>4.205530</td>\n",
       "    </tr>\n",
       "    <tr>\n",
       "      <th>Sports Nutrition</th>\n",
       "      <td>0.589311</td>\n",
       "      <td>4.237650</td>\n",
       "      <td>4.178623</td>\n",
       "    </tr>\n",
       "    <tr>\n",
       "      <th>Personal Care</th>\n",
       "      <td>0.519627</td>\n",
       "      <td>4.102509</td>\n",
       "      <td>4.039254</td>\n",
       "    </tr>\n",
       "    <tr>\n",
       "      <th>Household Supplies</th>\n",
       "      <td>0.518710</td>\n",
       "      <td>4.192494</td>\n",
       "      <td>4.037421</td>\n",
       "    </tr>\n",
       "    <tr>\n",
       "      <th>default</th>\n",
       "      <td>0.490678</td>\n",
       "      <td>4.019077</td>\n",
       "      <td>3.981356</td>\n",
       "    </tr>\n",
       "    <tr>\n",
       "      <th>Sexual Wellness</th>\n",
       "      <td>0.486434</td>\n",
       "      <td>3.694860</td>\n",
       "      <td>3.972868</td>\n",
       "    </tr>\n",
       "    <tr>\n",
       "      <th>Medical Supplies &amp; Equipment</th>\n",
       "      <td>0.485439</td>\n",
       "      <td>4.071935</td>\n",
       "      <td>3.970878</td>\n",
       "    </tr>\n",
       "    <tr>\n",
       "      <th>Health Care</th>\n",
       "      <td>0.458111</td>\n",
       "      <td>4.127009</td>\n",
       "      <td>3.916223</td>\n",
       "    </tr>\n",
       "    <tr>\n",
       "      <th>Vitamins &amp; Dietary Supplements</th>\n",
       "      <td>0.458098</td>\n",
       "      <td>4.123549</td>\n",
       "      <td>3.916197</td>\n",
       "    </tr>\n",
       "  </tbody>\n",
       "</table>\n",
       "</div>"
      ],
      "text/plain": [
       "                                reviewScore   overall  reviewScoreNorm\n",
       "subcategories                                                         \n",
       "Baby & Child Care                  0.609269  4.205483         4.218539\n",
       "Stationery & Party Supplies        0.602765  4.102568         4.205530\n",
       "Sports Nutrition                   0.589311  4.237650         4.178623\n",
       "Personal Care                      0.519627  4.102509         4.039254\n",
       "Household Supplies                 0.518710  4.192494         4.037421\n",
       "default                            0.490678  4.019077         3.981356\n",
       "Sexual Wellness                    0.486434  3.694860         3.972868\n",
       "Medical Supplies & Equipment       0.485439  4.071935         3.970878\n",
       "Health Care                        0.458111  4.127009         3.916223\n",
       "Vitamins & Dietary Supplements     0.458098  4.123549         3.916197"
      ]
     },
     "execution_count": 25,
     "metadata": {},
     "output_type": "execute_result"
    }
   ],
   "source": [
    "df_product_cat_group = df_product_cat_review.groupby('subcategories').mean().sort_values('reviewScore',ascending = False)\n",
    "df_product_cat_group"
   ]
  },
  {
   "cell_type": "markdown",
   "metadata": {},
   "source": [
    "Plot the distribution of sentiment score for each category."
   ]
  },
  {
   "cell_type": "code",
   "execution_count": 26,
   "metadata": {},
   "outputs": [
    {
     "data": {
      "image/png": "[encoded data removed]",
      "text/plain": [
       "<Figure size 864x432 with 1 Axes>"
      ]
     },
     "metadata": {
      "needs_background": "light"
     },
     "output_type": "display_data"
    }
   ],
   "source": [
    "df_product_cat_group.plot.bar(y='reviewScore', rot=45,figsize=(12,6),color='C0')\n",
    "plt.ylabel(\"reviewScore\")\n",
    "plt.title(\"average reviewScore of each category\")\n",
    "plt.show()"
   ]
  },
  {
   "cell_type": "markdown",
   "metadata": {},
   "source": [
    "Get difference of sentiment score in each category"
   ]
  },
  {
   "cell_type": "code",
   "execution_count": 27,
   "metadata": {},
   "outputs": [
    {
     "data": {
      "text/html": [
       "<div>\n",
       "<style scoped>\n",
       "    .dataframe tbody tr th:only-of-type {\n",
       "        vertical-align: middle;\n",
       "    }\n",
       "\n",
       "    .dataframe tbody tr th {\n",
       "        vertical-align: top;\n",
       "    }\n",
       "\n",
       "    .dataframe thead th {\n",
       "        text-align: right;\n",
       "    }\n",
       "</style>\n",
       "<table border=\"1\" class=\"dataframe\">\n",
       "  <thead>\n",
       "    <tr style=\"text-align: right;\">\n",
       "      <th></th>\n",
       "      <th>reviewScore</th>\n",
       "      <th>overall</th>\n",
       "      <th>reviewScoreNorm</th>\n",
       "      <th>Diff</th>\n",
       "    </tr>\n",
       "    <tr>\n",
       "      <th>subcategories</th>\n",
       "      <th></th>\n",
       "      <th></th>\n",
       "      <th></th>\n",
       "      <th></th>\n",
       "    </tr>\n",
       "  </thead>\n",
       "  <tbody>\n",
       "    <tr>\n",
       "      <th>Baby &amp; Child Care</th>\n",
       "      <td>0.609269</td>\n",
       "      <td>4.205483</td>\n",
       "      <td>4.218539</td>\n",
       "      <td>0.013055</td>\n",
       "    </tr>\n",
       "    <tr>\n",
       "      <th>Stationery &amp; Party Supplies</th>\n",
       "      <td>0.602765</td>\n",
       "      <td>4.102568</td>\n",
       "      <td>4.205530</td>\n",
       "      <td>0.102962</td>\n",
       "    </tr>\n",
       "    <tr>\n",
       "      <th>Sports Nutrition</th>\n",
       "      <td>0.589311</td>\n",
       "      <td>4.237650</td>\n",
       "      <td>4.178623</td>\n",
       "      <td>-0.059027</td>\n",
       "    </tr>\n",
       "    <tr>\n",
       "      <th>Personal Care</th>\n",
       "      <td>0.519627</td>\n",
       "      <td>4.102509</td>\n",
       "      <td>4.039254</td>\n",
       "      <td>-0.063255</td>\n",
       "    </tr>\n",
       "    <tr>\n",
       "      <th>Household Supplies</th>\n",
       "      <td>0.518710</td>\n",
       "      <td>4.192494</td>\n",
       "      <td>4.037421</td>\n",
       "      <td>-0.155073</td>\n",
       "    </tr>\n",
       "    <tr>\n",
       "      <th>default</th>\n",
       "      <td>0.490678</td>\n",
       "      <td>4.019077</td>\n",
       "      <td>3.981356</td>\n",
       "      <td>-0.037721</td>\n",
       "    </tr>\n",
       "    <tr>\n",
       "      <th>Sexual Wellness</th>\n",
       "      <td>0.486434</td>\n",
       "      <td>3.694860</td>\n",
       "      <td>3.972868</td>\n",
       "      <td>0.278008</td>\n",
       "    </tr>\n",
       "    <tr>\n",
       "      <th>Medical Supplies &amp; Equipment</th>\n",
       "      <td>0.485439</td>\n",
       "      <td>4.071935</td>\n",
       "      <td>3.970878</td>\n",
       "      <td>-0.101057</td>\n",
       "    </tr>\n",
       "    <tr>\n",
       "      <th>Health Care</th>\n",
       "      <td>0.458111</td>\n",
       "      <td>4.127009</td>\n",
       "      <td>3.916223</td>\n",
       "      <td>-0.210786</td>\n",
       "    </tr>\n",
       "    <tr>\n",
       "      <th>Vitamins &amp; Dietary Supplements</th>\n",
       "      <td>0.458098</td>\n",
       "      <td>4.123549</td>\n",
       "      <td>3.916197</td>\n",
       "      <td>-0.207352</td>\n",
       "    </tr>\n",
       "  </tbody>\n",
       "</table>\n",
       "</div>"
      ],
      "text/plain": [
       "                                reviewScore   overall  reviewScoreNorm  \\\n",
       "subcategories                                                            \n",
       "Baby & Child Care                  0.609269  4.205483         4.218539   \n",
       "Stationery & Party Supplies        0.602765  4.102568         4.205530   \n",
       "Sports Nutrition                   0.589311  4.237650         4.178623   \n",
       "Personal Care                      0.519627  4.102509         4.039254   \n",
       "Household Supplies                 0.518710  4.192494         4.037421   \n",
       "default                            0.490678  4.019077         3.981356   \n",
       "Sexual Wellness                    0.486434  3.694860         3.972868   \n",
       "Medical Supplies & Equipment       0.485439  4.071935         3.970878   \n",
       "Health Care                        0.458111  4.127009         3.916223   \n",
       "Vitamins & Dietary Supplements     0.458098  4.123549         3.916197   \n",
       "\n",
       "                                    Diff  \n",
       "subcategories                             \n",
       "Baby & Child Care               0.013055  \n",
       "Stationery & Party Supplies     0.102962  \n",
       "Sports Nutrition               -0.059027  \n",
       "Personal Care                  -0.063255  \n",
       "Household Supplies             -0.155073  \n",
       "default                        -0.037721  \n",
       "Sexual Wellness                 0.278008  \n",
       "Medical Supplies & Equipment   -0.101057  \n",
       "Health Care                    -0.210786  \n",
       "Vitamins & Dietary Supplements -0.207352  "
      ]
     },
     "execution_count": 27,
     "metadata": {},
     "output_type": "execute_result"
    }
   ],
   "source": [
    "df_product_cat_group[\"Diff\"] = df_product_cat_group[\"reviewScoreNorm\"] - df_product_cat_group[\"overall\"]\n",
    "df_product_cat_group"
   ]
  },
  {
   "cell_type": "markdown",
   "metadata": {},
   "source": [
    "Plot the difference in each category between rating and sentiment score."
   ]
  },
  {
   "cell_type": "code",
   "execution_count": 28,
   "metadata": {},
   "outputs": [],
   "source": [
    "df_cat_diff = df_product_cat_group.loc[:,[\"overall\",\"reviewScoreNorm\"]]\n",
    "df_cat_diff = df_cat_diff.stack()\n",
    "df_cat_diff = df_cat_diff.to_frame()\n",
    "df_cat_diff.reset_index(inplace=True)\n",
    "df_cat_diff.columns = df_cat_diff.columns.astype(str)\n",
    "df_cat_diff.rename(columns={\"level_1\":\"scoretype\",\"0\":\"score\"},inplace=True)\n",
    "df_cat_diff.loc[df_cat_diff[\"scoretype\"]=='overall','scoretype'] = 'rating'"
   ]
  },
  {
   "cell_type": "code",
   "execution_count": 29,
   "metadata": {},
   "outputs": [
    {
     "data": {
      "image/png": "[encoded data removed]",
      "text/plain": [
       "<Figure size 559.25x360 with 1 Axes>"
      ]
     },
     "metadata": {
      "needs_background": "light"
     },
     "output_type": "display_data"
    }
   ],
   "source": [
    "sns.catplot(x=\"scoretype\", y=\"score\",hue=\"subcategories\", kind=\"point\", data=df_cat_diff)\n",
    "plt.title(\"Difference of rating and normalized score in subcategories\")\n",
    "plt.show()"
   ]
  },
  {
   "cell_type": "markdown",
   "metadata": {},
   "source": [
    "Absolute difference analysis"
   ]
  },
  {
   "cell_type": "code",
   "execution_count": 30,
   "metadata": {},
   "outputs": [
    {
     "data": {
      "text/html": [
       "<div>\n",
       "<style scoped>\n",
       "    .dataframe tbody tr th:only-of-type {\n",
       "        vertical-align: middle;\n",
       "    }\n",
       "\n",
       "    .dataframe tbody tr th {\n",
       "        vertical-align: top;\n",
       "    }\n",
       "\n",
       "    .dataframe thead th {\n",
       "        text-align: right;\n",
       "    }\n",
       "</style>\n",
       "<table border=\"1\" class=\"dataframe\">\n",
       "  <thead>\n",
       "    <tr style=\"text-align: right;\">\n",
       "      <th></th>\n",
       "      <th>reviewScore</th>\n",
       "      <th>overall</th>\n",
       "      <th>reviewScoreNorm</th>\n",
       "      <th>Diff</th>\n",
       "      <th>absDiff</th>\n",
       "    </tr>\n",
       "    <tr>\n",
       "      <th>subcategories</th>\n",
       "      <th></th>\n",
       "      <th></th>\n",
       "      <th></th>\n",
       "      <th></th>\n",
       "      <th></th>\n",
       "    </tr>\n",
       "  </thead>\n",
       "  <tbody>\n",
       "    <tr>\n",
       "      <th>Baby &amp; Child Care</th>\n",
       "      <td>0.609269</td>\n",
       "      <td>4.205483</td>\n",
       "      <td>4.218539</td>\n",
       "      <td>0.013055</td>\n",
       "      <td>0.013055</td>\n",
       "    </tr>\n",
       "    <tr>\n",
       "      <th>default</th>\n",
       "      <td>0.490678</td>\n",
       "      <td>4.019077</td>\n",
       "      <td>3.981356</td>\n",
       "      <td>-0.037721</td>\n",
       "      <td>0.037721</td>\n",
       "    </tr>\n",
       "    <tr>\n",
       "      <th>Sports Nutrition</th>\n",
       "      <td>0.589311</td>\n",
       "      <td>4.237650</td>\n",
       "      <td>4.178623</td>\n",
       "      <td>-0.059027</td>\n",
       "      <td>0.059027</td>\n",
       "    </tr>\n",
       "    <tr>\n",
       "      <th>Personal Care</th>\n",
       "      <td>0.519627</td>\n",
       "      <td>4.102509</td>\n",
       "      <td>4.039254</td>\n",
       "      <td>-0.063255</td>\n",
       "      <td>0.063255</td>\n",
       "    </tr>\n",
       "    <tr>\n",
       "      <th>Medical Supplies &amp; Equipment</th>\n",
       "      <td>0.485439</td>\n",
       "      <td>4.071935</td>\n",
       "      <td>3.970878</td>\n",
       "      <td>-0.101057</td>\n",
       "      <td>0.101057</td>\n",
       "    </tr>\n",
       "    <tr>\n",
       "      <th>Stationery &amp; Party Supplies</th>\n",
       "      <td>0.602765</td>\n",
       "      <td>4.102568</td>\n",
       "      <td>4.205530</td>\n",
       "      <td>0.102962</td>\n",
       "      <td>0.102962</td>\n",
       "    </tr>\n",
       "    <tr>\n",
       "      <th>Household Supplies</th>\n",
       "      <td>0.518710</td>\n",
       "      <td>4.192494</td>\n",
       "      <td>4.037421</td>\n",
       "      <td>-0.155073</td>\n",
       "      <td>0.155073</td>\n",
       "    </tr>\n",
       "    <tr>\n",
       "      <th>Vitamins &amp; Dietary Supplements</th>\n",
       "      <td>0.458098</td>\n",
       "      <td>4.123549</td>\n",
       "      <td>3.916197</td>\n",
       "      <td>-0.207352</td>\n",
       "      <td>0.207352</td>\n",
       "    </tr>\n",
       "    <tr>\n",
       "      <th>Health Care</th>\n",
       "      <td>0.458111</td>\n",
       "      <td>4.127009</td>\n",
       "      <td>3.916223</td>\n",
       "      <td>-0.210786</td>\n",
       "      <td>0.210786</td>\n",
       "    </tr>\n",
       "    <tr>\n",
       "      <th>Sexual Wellness</th>\n",
       "      <td>0.486434</td>\n",
       "      <td>3.694860</td>\n",
       "      <td>3.972868</td>\n",
       "      <td>0.278008</td>\n",
       "      <td>0.278008</td>\n",
       "    </tr>\n",
       "  </tbody>\n",
       "</table>\n",
       "</div>"
      ],
      "text/plain": [
       "                                reviewScore   overall  reviewScoreNorm  \\\n",
       "subcategories                                                            \n",
       "Baby & Child Care                  0.609269  4.205483         4.218539   \n",
       "default                            0.490678  4.019077         3.981356   \n",
       "Sports Nutrition                   0.589311  4.237650         4.178623   \n",
       "Personal Care                      0.519627  4.102509         4.039254   \n",
       "Medical Supplies & Equipment       0.485439  4.071935         3.970878   \n",
       "Stationery & Party Supplies        0.602765  4.102568         4.205530   \n",
       "Household Supplies                 0.518710  4.192494         4.037421   \n",
       "Vitamins & Dietary Supplements     0.458098  4.123549         3.916197   \n",
       "Health Care                        0.458111  4.127009         3.916223   \n",
       "Sexual Wellness                    0.486434  3.694860         3.972868   \n",
       "\n",
       "                                    Diff   absDiff  \n",
       "subcategories                                       \n",
       "Baby & Child Care               0.013055  0.013055  \n",
       "default                        -0.037721  0.037721  \n",
       "Sports Nutrition               -0.059027  0.059027  \n",
       "Personal Care                  -0.063255  0.063255  \n",
       "Medical Supplies & Equipment   -0.101057  0.101057  \n",
       "Stationery & Party Supplies     0.102962  0.102962  \n",
       "Household Supplies             -0.155073  0.155073  \n",
       "Vitamins & Dietary Supplements -0.207352  0.207352  \n",
       "Health Care                    -0.210786  0.210786  \n",
       "Sexual Wellness                 0.278008  0.278008  "
      ]
     },
     "execution_count": 30,
     "metadata": {},
     "output_type": "execute_result"
    }
   ],
   "source": [
    "df_product_cat_group[\"absDiff\"] = abs(df_product_cat_group[\"Diff\"])\n",
    "df_product_cat_group.sort_values(\"absDiff\")"
   ]
  },
  {
   "cell_type": "markdown",
   "metadata": {},
   "source": [
    "## Rating VS ReviewScore"
   ]
  },
  {
   "cell_type": "markdown",
   "metadata": {},
   "source": [
    "Correlation"
   ]
  },
  {
   "cell_type": "code",
   "execution_count": 31,
   "metadata": {},
   "outputs": [
    {
     "data": {
      "text/plain": [
       "0.445401965394518"
      ]
     },
     "execution_count": 31,
     "metadata": {},
     "output_type": "execute_result"
    }
   ],
   "source": [
    "# the correlation efficience between overall and reviewScoreNorm\n",
    "df_product_review.corr(method=\"pearson\").iloc[1,2]"
   ]
  },
  {
   "cell_type": "markdown",
   "metadata": {},
   "source": [
    "Difference Analysis"
   ]
  },
  {
   "cell_type": "code",
   "execution_count": 32,
   "metadata": {},
   "outputs": [
    {
     "data": {
      "text/html": [
       "<div>\n",
       "<style scoped>\n",
       "    .dataframe tbody tr th:only-of-type {\n",
       "        vertical-align: middle;\n",
       "    }\n",
       "\n",
       "    .dataframe tbody tr th {\n",
       "        vertical-align: top;\n",
       "    }\n",
       "\n",
       "    .dataframe thead th {\n",
       "        text-align: right;\n",
       "    }\n",
       "</style>\n",
       "<table border=\"1\" class=\"dataframe\">\n",
       "  <thead>\n",
       "    <tr style=\"text-align: right;\">\n",
       "      <th></th>\n",
       "      <th>asin</th>\n",
       "      <th>title</th>\n",
       "      <th>reviewText</th>\n",
       "      <th>ReviewTime</th>\n",
       "      <th>categories</th>\n",
       "      <th>reviewScore</th>\n",
       "      <th>overall</th>\n",
       "      <th>reviewScoreNorm</th>\n",
       "      <th>month-day</th>\n",
       "      <th>label</th>\n",
       "      <th>Diff</th>\n",
       "    </tr>\n",
       "  </thead>\n",
       "  <tbody>\n",
       "    <tr>\n",
       "      <th>0</th>\n",
       "      <td>0077614992</td>\n",
       "      <td>Principles of Mgmt + Oper-CSUF Custom C</td>\n",
       "      <td>This book was a requirement for a college clas...</td>\n",
       "      <td>2013-02-15</td>\n",
       "      <td>[[Health &amp; Personal Care]]</td>\n",
       "      <td>0.2263</td>\n",
       "      <td>5</td>\n",
       "      <td>3.4526</td>\n",
       "      <td>02-15</td>\n",
       "      <td>positive</td>\n",
       "      <td>-1.5474</td>\n",
       "    </tr>\n",
       "    <tr>\n",
       "      <th>1</th>\n",
       "      <td>0615208479</td>\n",
       "      <td>Brain Fitness Exercises Software</td>\n",
       "      <td>This is a great gift for anyone who wants to h...</td>\n",
       "      <td>2008-12-01</td>\n",
       "      <td>[[Health &amp; Personal Care, Personal Care]]</td>\n",
       "      <td>0.9748</td>\n",
       "      <td>5</td>\n",
       "      <td>4.9496</td>\n",
       "      <td>12-01</td>\n",
       "      <td>positive</td>\n",
       "      <td>-0.0504</td>\n",
       "    </tr>\n",
       "    <tr>\n",
       "      <th>2</th>\n",
       "      <td>0615269990</td>\n",
       "      <td>Occam's Razor</td>\n",
       "      <td>Very helpful in learning about different disea...</td>\n",
       "      <td>2014-04-06</td>\n",
       "      <td>[[Health &amp; Personal Care, Personal Care, Shavi...</td>\n",
       "      <td>0.8313</td>\n",
       "      <td>5</td>\n",
       "      <td>4.6626</td>\n",
       "      <td>04-06</td>\n",
       "      <td>positive</td>\n",
       "      <td>-0.3374</td>\n",
       "    </tr>\n",
       "    <tr>\n",
       "      <th>3</th>\n",
       "      <td>0615269990</td>\n",
       "      <td>Occam's Razor</td>\n",
       "      <td>Occam's Razor is an unbelievably intuitive and...</td>\n",
       "      <td>2013-12-04</td>\n",
       "      <td>[[Health &amp; Personal Care, Personal Care, Shavi...</td>\n",
       "      <td>0.9984</td>\n",
       "      <td>5</td>\n",
       "      <td>4.9968</td>\n",
       "      <td>12-04</td>\n",
       "      <td>positive</td>\n",
       "      <td>-0.0032</td>\n",
       "    </tr>\n",
       "    <tr>\n",
       "      <th>4</th>\n",
       "      <td>0615269990</td>\n",
       "      <td>Occam's Razor</td>\n",
       "      <td>I met the guys from Nerdcore at a medical conf...</td>\n",
       "      <td>2014-04-24</td>\n",
       "      <td>[[Health &amp; Personal Care, Personal Care, Shavi...</td>\n",
       "      <td>0.4664</td>\n",
       "      <td>2</td>\n",
       "      <td>3.9328</td>\n",
       "      <td>04-24</td>\n",
       "      <td>positive</td>\n",
       "      <td>1.9328</td>\n",
       "    </tr>\n",
       "  </tbody>\n",
       "</table>\n",
       "</div>"
      ],
      "text/plain": [
       "         asin                                    title  \\\n",
       "0  0077614992  Principles of Mgmt + Oper-CSUF Custom C   \n",
       "1  0615208479         Brain Fitness Exercises Software   \n",
       "2  0615269990                            Occam's Razor   \n",
       "3  0615269990                            Occam's Razor   \n",
       "4  0615269990                            Occam's Razor   \n",
       "\n",
       "                                          reviewText ReviewTime  \\\n",
       "0  This book was a requirement for a college clas... 2013-02-15   \n",
       "1  This is a great gift for anyone who wants to h... 2008-12-01   \n",
       "2  Very helpful in learning about different disea... 2014-04-06   \n",
       "3  Occam's Razor is an unbelievably intuitive and... 2013-12-04   \n",
       "4  I met the guys from Nerdcore at a medical conf... 2014-04-24   \n",
       "\n",
       "                                          categories  reviewScore  overall  \\\n",
       "0                         [[Health & Personal Care]]       0.2263        5   \n",
       "1          [[Health & Personal Care, Personal Care]]       0.9748        5   \n",
       "2  [[Health & Personal Care, Personal Care, Shavi...       0.8313        5   \n",
       "3  [[Health & Personal Care, Personal Care, Shavi...       0.9984        5   \n",
       "4  [[Health & Personal Care, Personal Care, Shavi...       0.4664        2   \n",
       "\n",
       "   reviewScoreNorm month-day     label    Diff  \n",
       "0           3.4526     02-15  positive -1.5474  \n",
       "1           4.9496     12-01  positive -0.0504  \n",
       "2           4.6626     04-06  positive -0.3374  \n",
       "3           4.9968     12-04  positive -0.0032  \n",
       "4           3.9328     04-24  positive  1.9328  "
      ]
     },
     "execution_count": 32,
     "metadata": {},
     "output_type": "execute_result"
    }
   ],
   "source": [
    "df_product_review[\"Diff\"] = df_product_review[\"reviewScoreNorm\"] - df_product_review[\"overall\"]\n",
    "df_product_review.head()"
   ]
  },
  {
   "cell_type": "markdown",
   "metadata": {},
   "source": [
    "Plot the difference distribution"
   ]
  },
  {
   "cell_type": "code",
   "execution_count": 33,
   "metadata": {
    "scrolled": true
   },
   "outputs": [
    {
     "data": {
      "image/png": "[encoded data removed]",
      "text/plain": [
       "<Figure size 432x288 with 1 Axes>"
      ]
     },
     "metadata": {
      "needs_background": "light"
     },
     "output_type": "display_data"
    }
   ],
   "source": [
    "df_product_review[\"Diff\"].hist(bins=10)\n",
    "plt.xlabel(\"Difference of rating and reviewScore\")\n",
    "plt.ylabel(\"Counts\")\n",
    "plt.title(\"Distribution of difference\")\n",
    "plt.show()"
   ]
  },
  {
   "cell_type": "markdown",
   "metadata": {},
   "source": [
    "set threshold representing that the reviewScore is consistent with the rating, otherwise it's not."
   ]
  },
  {
   "cell_type": "code",
   "execution_count": 34,
   "metadata": {},
   "outputs": [
    {
     "name": "stdout",
     "output_type": "stream",
     "text": [
      "The number of consistent rating with difference which is not greater than one is 2053019, and occupies 69.051% in reviews\n",
      "The number of inconsistent rating with difference which is greater than one is 920167, and occupies 30.949% in reviews\n"
     ]
    }
   ],
   "source": [
    "#the number of inconsistence and consistence\n",
    "threshold = 1.0\n",
    "diff_g1 = len(df_product_review[(df_product_review[\"Diff\"]>threshold) | (df_product_review[\"Diff\"]<(-1)*threshold)])\n",
    "diff_s1 = len(df_product_review[(df_product_review[\"Diff\"]<=threshold) & (df_product_review[\"Diff\"]>=(-1)*threshold)])\n",
    "\n",
    "print(\"The number of consistent rating with difference which is not greater than one is {s1}, and occupies {p:.3f}% in reviews\"\\\n",
    "                                                          .format(s1=diff_s1,p=diff_s1*100/total_num))\n",
    "print(\"The number of inconsistent rating with difference which is greater than one is {g1}, and occupies {p:.3f}% in reviews\"\\\n",
    "                                                          .format(g1=diff_g1,p=diff_g1*100/total_num))"
   ]
  },
  {
   "cell_type": "code",
   "execution_count": 35,
   "metadata": {},
   "outputs": [
    {
     "data": {
      "text/plain": [
       "count    920167.000000\n",
       "mean          2.032174\n",
       "std           0.792226\n",
       "min           1.000200\n",
       "25%           1.363600\n",
       "50%           1.873400\n",
       "75%           2.592000\n",
       "max           4.000000\n",
       "Name: absDiff, dtype: float64"
      ]
     },
     "execution_count": 35,
     "metadata": {},
     "output_type": "execute_result"
    }
   ],
   "source": [
    "df_diff_g1 = df_product_review[(df_product_review[\"Diff\"]>threshold) | (df_product_review[\"Diff\"]<(-1)*threshold)]\n",
    "\n",
    "df_diff_g1[\"absDiff\"] = abs(df_diff_g1[\"Diff\"])\n",
    "df_diff_g1[\"absDiff\"].describe()"
   ]
  },
  {
   "cell_type": "markdown",
   "metadata": {},
   "source": [
    "- high sentiment score but with low rating\n",
    "- low sentiment score but with high rating"
   ]
  },
  {
   "cell_type": "markdown",
   "metadata": {},
   "source": [
    "Percentage of large difference for two situations."
   ]
  },
  {
   "cell_type": "code",
   "execution_count": 36,
   "metadata": {
    "scrolled": false
   },
   "outputs": [
    {
     "data": {
      "text/html": [
       "<div>\n",
       "<style scoped>\n",
       "    .dataframe tbody tr th:only-of-type {\n",
       "        vertical-align: middle;\n",
       "    }\n",
       "\n",
       "    .dataframe tbody tr th {\n",
       "        vertical-align: top;\n",
       "    }\n",
       "\n",
       "    .dataframe thead th {\n",
       "        text-align: right;\n",
       "    }\n",
       "</style>\n",
       "<table border=\"1\" class=\"dataframe\">\n",
       "  <thead>\n",
       "    <tr style=\"text-align: right;\">\n",
       "      <th></th>\n",
       "      <th>asin</th>\n",
       "      <th>title</th>\n",
       "      <th>reviewText</th>\n",
       "      <th>ReviewTime</th>\n",
       "      <th>categories</th>\n",
       "      <th>reviewScore</th>\n",
       "      <th>overall</th>\n",
       "      <th>reviewScoreNorm</th>\n",
       "      <th>month-day</th>\n",
       "      <th>label</th>\n",
       "      <th>Diff</th>\n",
       "    </tr>\n",
       "  </thead>\n",
       "  <tbody>\n",
       "    <tr>\n",
       "      <th>2026735</th>\n",
       "      <td>B004V503B6</td>\n",
       "      <td>OMEGA III Maxx - Omega 3 Pharmaceutical Grade ...</td>\n",
       "      <td>*This is a side-by-side comparison of Omega II...</td>\n",
       "      <td>2013-03-01</td>\n",
       "      <td>[[Health &amp; Personal Care, Vitamins &amp; Dietary S...</td>\n",
       "      <td>1.0000</td>\n",
       "      <td>1</td>\n",
       "      <td>5.0000</td>\n",
       "      <td>03-01</td>\n",
       "      <td>positive</td>\n",
       "      <td>4.0000</td>\n",
       "    </tr>\n",
       "    <tr>\n",
       "      <th>1911198</th>\n",
       "      <td>B004F4PR6Y</td>\n",
       "      <td>Deluxe Tattoo Kit 2 Machine Gun Power Supply N...</td>\n",
       "      <td>Let Me Start Out By Saying I Did NOT Purchase,...</td>\n",
       "      <td>2013-11-03</td>\n",
       "      <td>[[Health &amp; Personal Care, Personal Care, Body ...</td>\n",
       "      <td>1.0000</td>\n",
       "      <td>1</td>\n",
       "      <td>5.0000</td>\n",
       "      <td>11-03</td>\n",
       "      <td>positive</td>\n",
       "      <td>4.0000</td>\n",
       "    </tr>\n",
       "    <tr>\n",
       "      <th>1465370</th>\n",
       "      <td>B002NXTOJK</td>\n",
       "      <td>Omega 3's Anti-Inflammatory 60ct Bottle, Arthr...</td>\n",
       "      <td>*This is a side-by-side comparison of Omega XL...</td>\n",
       "      <td>2013-08-26</td>\n",
       "      <td>[[Health &amp; Personal Care, Health Care, Pain Re...</td>\n",
       "      <td>0.9999</td>\n",
       "      <td>1</td>\n",
       "      <td>4.9998</td>\n",
       "      <td>08-26</td>\n",
       "      <td>positive</td>\n",
       "      <td>3.9998</td>\n",
       "    </tr>\n",
       "    <tr>\n",
       "      <th>2570936</th>\n",
       "      <td>B009P6632O</td>\n",
       "      <td># 1 Omega Xl New Zealand - Powerful Omega 3 &amp;q...</td>\n",
       "      <td>*This is a side-by-side comparison of Omega XL...</td>\n",
       "      <td>2013-10-27</td>\n",
       "      <td>[[Health &amp; Personal Care, Vitamins &amp; Dietary S...</td>\n",
       "      <td>0.9999</td>\n",
       "      <td>1</td>\n",
       "      <td>4.9998</td>\n",
       "      <td>10-27</td>\n",
       "      <td>positive</td>\n",
       "      <td>3.9998</td>\n",
       "    </tr>\n",
       "    <tr>\n",
       "      <th>2746538</th>\n",
       "      <td>B00CDGJIAW</td>\n",
       "      <td>2000mg FISH OIL OMEGA 3 SUPPLEMENTS - Triple S...</td>\n",
       "      <td>*This is a side-by-side comparison of Pacific ...</td>\n",
       "      <td>2013-07-22</td>\n",
       "      <td>[[Health &amp; Personal Care, Vitamins &amp; Dietary S...</td>\n",
       "      <td>0.9999</td>\n",
       "      <td>1</td>\n",
       "      <td>4.9998</td>\n",
       "      <td>07-22</td>\n",
       "      <td>positive</td>\n",
       "      <td>3.9998</td>\n",
       "    </tr>\n",
       "  </tbody>\n",
       "</table>\n",
       "</div>"
      ],
      "text/plain": [
       "               asin                                              title  \\\n",
       "2026735  B004V503B6  OMEGA III Maxx - Omega 3 Pharmaceutical Grade ...   \n",
       "1911198  B004F4PR6Y  Deluxe Tattoo Kit 2 Machine Gun Power Supply N...   \n",
       "1465370  B002NXTOJK  Omega 3's Anti-Inflammatory 60ct Bottle, Arthr...   \n",
       "2570936  B009P6632O  # 1 Omega Xl New Zealand - Powerful Omega 3 &q...   \n",
       "2746538  B00CDGJIAW  2000mg FISH OIL OMEGA 3 SUPPLEMENTS - Triple S...   \n",
       "\n",
       "                                                reviewText ReviewTime  \\\n",
       "2026735  *This is a side-by-side comparison of Omega II... 2013-03-01   \n",
       "1911198  Let Me Start Out By Saying I Did NOT Purchase,... 2013-11-03   \n",
       "1465370  *This is a side-by-side comparison of Omega XL... 2013-08-26   \n",
       "2570936  *This is a side-by-side comparison of Omega XL... 2013-10-27   \n",
       "2746538  *This is a side-by-side comparison of Pacific ... 2013-07-22   \n",
       "\n",
       "                                                categories  reviewScore  \\\n",
       "2026735  [[Health & Personal Care, Vitamins & Dietary S...       1.0000   \n",
       "1911198  [[Health & Personal Care, Personal Care, Body ...       1.0000   \n",
       "1465370  [[Health & Personal Care, Health Care, Pain Re...       0.9999   \n",
       "2570936  [[Health & Personal Care, Vitamins & Dietary S...       0.9999   \n",
       "2746538  [[Health & Personal Care, Vitamins & Dietary S...       0.9999   \n",
       "\n",
       "         overall  reviewScoreNorm month-day     label    Diff  \n",
       "2026735        1           5.0000     03-01  positive  4.0000  \n",
       "1911198        1           5.0000     11-03  positive  4.0000  \n",
       "1465370        1           4.9998     08-26  positive  3.9998  \n",
       "2570936        1           4.9998     10-27  positive  3.9998  \n",
       "2746538        1           4.9998     07-22  positive  3.9998  "
      ]
     },
     "execution_count": 36,
     "metadata": {},
     "output_type": "execute_result"
    }
   ],
   "source": [
    "High_score_low_rat = df_product_review[df_product_review[\"Diff\"]>1].sort_values(\"Diff\",ascending=False)\n",
    "High_score_low_rat.head()"
   ]
  },
  {
   "cell_type": "code",
   "execution_count": 37,
   "metadata": {},
   "outputs": [
    {
     "name": "stdout",
     "output_type": "stream",
     "text": [
      "The percentage of sentiment with high sentiment score but low rating is :43.987%\n"
     ]
    }
   ],
   "source": [
    "print(\"The percentage of sentiment with high sentiment score but low rating is :{p:.3f}%\".format(p=len(High_score_low_rat)*100/diff_g1))"
   ]
  },
  {
   "cell_type": "code",
   "execution_count": 38,
   "metadata": {
    "scrolled": true
   },
   "outputs": [
    {
     "data": {
      "text/html": [
       "<div>\n",
       "<style scoped>\n",
       "    .dataframe tbody tr th:only-of-type {\n",
       "        vertical-align: middle;\n",
       "    }\n",
       "\n",
       "    .dataframe tbody tr th {\n",
       "        vertical-align: top;\n",
       "    }\n",
       "\n",
       "    .dataframe thead th {\n",
       "        text-align: right;\n",
       "    }\n",
       "</style>\n",
       "<table border=\"1\" class=\"dataframe\">\n",
       "  <thead>\n",
       "    <tr style=\"text-align: right;\">\n",
       "      <th></th>\n",
       "      <th>asin</th>\n",
       "      <th>title</th>\n",
       "      <th>reviewText</th>\n",
       "      <th>ReviewTime</th>\n",
       "      <th>categories</th>\n",
       "      <th>reviewScore</th>\n",
       "      <th>overall</th>\n",
       "      <th>reviewScoreNorm</th>\n",
       "      <th>month-day</th>\n",
       "      <th>label</th>\n",
       "      <th>Diff</th>\n",
       "    </tr>\n",
       "  </thead>\n",
       "  <tbody>\n",
       "    <tr>\n",
       "      <th>1072320</th>\n",
       "      <td>B001E0STN0</td>\n",
       "      <td>American Biotech Labs Silver Biotics 16 oz ( M...</td>\n",
       "      <td>Here are a couple of exerts from the informati...</td>\n",
       "      <td>2014-05-03</td>\n",
       "      <td>[[Health &amp; Personal Care, Vitamins &amp; Dietary S...</td>\n",
       "      <td>-0.9999</td>\n",
       "      <td>5</td>\n",
       "      <td>1.0002</td>\n",
       "      <td>05-03</td>\n",
       "      <td>negative</td>\n",
       "      <td>-3.9998</td>\n",
       "    </tr>\n",
       "    <tr>\n",
       "      <th>1641763</th>\n",
       "      <td>B0039PH51K</td>\n",
       "      <td>Acupressure Mat Spike Body Mat for stress, nec...</td>\n",
       "      <td>I was skeptical when I first read about this. ...</td>\n",
       "      <td>2013-01-23</td>\n",
       "      <td>[[Health &amp; Personal Care, Health Care, Alterna...</td>\n",
       "      <td>-0.9997</td>\n",
       "      <td>5</td>\n",
       "      <td>1.0006</td>\n",
       "      <td>01-23</td>\n",
       "      <td>negative</td>\n",
       "      <td>-3.9994</td>\n",
       "    </tr>\n",
       "    <tr>\n",
       "      <th>1439810</th>\n",
       "      <td>B002K4UBCQ</td>\n",
       "      <td>1st grade BiLuoChun Green Tea 100g Gift Box-Ne...</td>\n",
       "      <td>Green Tea Ingredient Slows Breast Cancer-Antio...</td>\n",
       "      <td>2009-09-26</td>\n",
       "      <td>[[Health &amp; Personal Care, Vitamins &amp; Dietary S...</td>\n",
       "      <td>-0.9995</td>\n",
       "      <td>5</td>\n",
       "      <td>1.0010</td>\n",
       "      <td>09-26</td>\n",
       "      <td>negative</td>\n",
       "      <td>-3.9990</td>\n",
       "    </tr>\n",
       "    <tr>\n",
       "      <th>1440258</th>\n",
       "      <td>B002K6FRX2</td>\n",
       "      <td>Yuexi Cuilan (Yuexi Green Orchid Tea) - Organi...</td>\n",
       "      <td>Yuexi Cuilan (Yuexi Green Orchid Tea) - Organi...</td>\n",
       "      <td>2009-09-26</td>\n",
       "      <td>[[Health &amp; Personal Care]]</td>\n",
       "      <td>-0.9994</td>\n",
       "      <td>5</td>\n",
       "      <td>1.0012</td>\n",
       "      <td>09-26</td>\n",
       "      <td>negative</td>\n",
       "      <td>-3.9988</td>\n",
       "    </tr>\n",
       "    <tr>\n",
       "      <th>1439493</th>\n",
       "      <td>B002K2MUUY</td>\n",
       "      <td>Lipton Green Tea - 100% Natural, New Spring Gr...</td>\n",
       "      <td>Green Tea Ingredient Slows Breast Cancer-Antio...</td>\n",
       "      <td>2009-09-26</td>\n",
       "      <td>[[Health &amp; Personal Care]]</td>\n",
       "      <td>-0.9994</td>\n",
       "      <td>5</td>\n",
       "      <td>1.0012</td>\n",
       "      <td>09-26</td>\n",
       "      <td>negative</td>\n",
       "      <td>-3.9988</td>\n",
       "    </tr>\n",
       "  </tbody>\n",
       "</table>\n",
       "</div>"
      ],
      "text/plain": [
       "               asin                                              title  \\\n",
       "1072320  B001E0STN0  American Biotech Labs Silver Biotics 16 oz ( M...   \n",
       "1641763  B0039PH51K  Acupressure Mat Spike Body Mat for stress, nec...   \n",
       "1439810  B002K4UBCQ  1st grade BiLuoChun Green Tea 100g Gift Box-Ne...   \n",
       "1440258  B002K6FRX2  Yuexi Cuilan (Yuexi Green Orchid Tea) - Organi...   \n",
       "1439493  B002K2MUUY  Lipton Green Tea - 100% Natural, New Spring Gr...   \n",
       "\n",
       "                                                reviewText ReviewTime  \\\n",
       "1072320  Here are a couple of exerts from the informati... 2014-05-03   \n",
       "1641763  I was skeptical when I first read about this. ... 2013-01-23   \n",
       "1439810  Green Tea Ingredient Slows Breast Cancer-Antio... 2009-09-26   \n",
       "1440258  Yuexi Cuilan (Yuexi Green Orchid Tea) - Organi... 2009-09-26   \n",
       "1439493  Green Tea Ingredient Slows Breast Cancer-Antio... 2009-09-26   \n",
       "\n",
       "                                                categories  reviewScore  \\\n",
       "1072320  [[Health & Personal Care, Vitamins & Dietary S...      -0.9999   \n",
       "1641763  [[Health & Personal Care, Health Care, Alterna...      -0.9997   \n",
       "1439810  [[Health & Personal Care, Vitamins & Dietary S...      -0.9995   \n",
       "1440258                         [[Health & Personal Care]]      -0.9994   \n",
       "1439493                         [[Health & Personal Care]]      -0.9994   \n",
       "\n",
       "         overall  reviewScoreNorm month-day     label    Diff  \n",
       "1072320        5           1.0002     05-03  negative -3.9998  \n",
       "1641763        5           1.0006     01-23  negative -3.9994  \n",
       "1439810        5           1.0010     09-26  negative -3.9990  \n",
       "1440258        5           1.0012     09-26  negative -3.9988  \n",
       "1439493        5           1.0012     09-26  negative -3.9988  "
      ]
     },
     "execution_count": 38,
     "metadata": {},
     "output_type": "execute_result"
    }
   ],
   "source": [
    "Low_score_high_rat = df_product_review[df_product_review[\"Diff\"]<-1].sort_values(\"Diff\",ascending=True)\n",
    "Low_score_high_rat.head()"
   ]
  },
  {
   "cell_type": "code",
   "execution_count": 39,
   "metadata": {},
   "outputs": [
    {
     "name": "stdout",
     "output_type": "stream",
     "text": [
      "The percentage of sentiment with low sentiment score but high rating is :56.013%\n"
     ]
    }
   ],
   "source": [
    "print(\"The percentage of sentiment with low sentiment score but high rating is :{p:.3f}%\".format(p=len(Low_score_high_rat)*100/diff_g1))"
   ]
  },
  {
   "cell_type": "markdown",
   "metadata": {},
   "source": [
    "## Attitude Analysis"
   ]
  },
  {
   "cell_type": "markdown",
   "metadata": {},
   "source": [
    "sub-categories"
   ]
  },
  {
   "cell_type": "code",
   "execution_count": 40,
   "metadata": {
    "scrolled": false
   },
   "outputs": [
    {
     "data": {
      "text/html": [
       "<div>\n",
       "<style scoped>\n",
       "    .dataframe tbody tr th:only-of-type {\n",
       "        vertical-align: middle;\n",
       "    }\n",
       "\n",
       "    .dataframe tbody tr th {\n",
       "        vertical-align: top;\n",
       "    }\n",
       "\n",
       "    .dataframe thead th {\n",
       "        text-align: right;\n",
       "    }\n",
       "</style>\n",
       "<table border=\"1\" class=\"dataframe\">\n",
       "  <thead>\n",
       "    <tr style=\"text-align: right;\">\n",
       "      <th></th>\n",
       "      <th>reviewScore</th>\n",
       "      <th>overall</th>\n",
       "      <th>reviewScoreNorm</th>\n",
       "      <th>Diff</th>\n",
       "      <th>absDiff</th>\n",
       "    </tr>\n",
       "    <tr>\n",
       "      <th>subcategories</th>\n",
       "      <th></th>\n",
       "      <th></th>\n",
       "      <th></th>\n",
       "      <th></th>\n",
       "      <th></th>\n",
       "    </tr>\n",
       "  </thead>\n",
       "  <tbody>\n",
       "    <tr>\n",
       "      <th>Baby &amp; Child Care</th>\n",
       "      <td>0.609269</td>\n",
       "      <td>4.205483</td>\n",
       "      <td>4.218539</td>\n",
       "      <td>0.013055</td>\n",
       "      <td>0.013055</td>\n",
       "    </tr>\n",
       "    <tr>\n",
       "      <th>Stationery &amp; Party Supplies</th>\n",
       "      <td>0.602765</td>\n",
       "      <td>4.102568</td>\n",
       "      <td>4.205530</td>\n",
       "      <td>0.102962</td>\n",
       "      <td>0.102962</td>\n",
       "    </tr>\n",
       "    <tr>\n",
       "      <th>Sports Nutrition</th>\n",
       "      <td>0.589311</td>\n",
       "      <td>4.237650</td>\n",
       "      <td>4.178623</td>\n",
       "      <td>-0.059027</td>\n",
       "      <td>0.059027</td>\n",
       "    </tr>\n",
       "    <tr>\n",
       "      <th>Personal Care</th>\n",
       "      <td>0.519627</td>\n",
       "      <td>4.102509</td>\n",
       "      <td>4.039254</td>\n",
       "      <td>-0.063255</td>\n",
       "      <td>0.063255</td>\n",
       "    </tr>\n",
       "    <tr>\n",
       "      <th>Household Supplies</th>\n",
       "      <td>0.518710</td>\n",
       "      <td>4.192494</td>\n",
       "      <td>4.037421</td>\n",
       "      <td>-0.155073</td>\n",
       "      <td>0.155073</td>\n",
       "    </tr>\n",
       "    <tr>\n",
       "      <th>default</th>\n",
       "      <td>0.490678</td>\n",
       "      <td>4.019077</td>\n",
       "      <td>3.981356</td>\n",
       "      <td>-0.037721</td>\n",
       "      <td>0.037721</td>\n",
       "    </tr>\n",
       "    <tr>\n",
       "      <th>Sexual Wellness</th>\n",
       "      <td>0.486434</td>\n",
       "      <td>3.694860</td>\n",
       "      <td>3.972868</td>\n",
       "      <td>0.278008</td>\n",
       "      <td>0.278008</td>\n",
       "    </tr>\n",
       "    <tr>\n",
       "      <th>Medical Supplies &amp; Equipment</th>\n",
       "      <td>0.485439</td>\n",
       "      <td>4.071935</td>\n",
       "      <td>3.970878</td>\n",
       "      <td>-0.101057</td>\n",
       "      <td>0.101057</td>\n",
       "    </tr>\n",
       "    <tr>\n",
       "      <th>Health Care</th>\n",
       "      <td>0.458111</td>\n",
       "      <td>4.127009</td>\n",
       "      <td>3.916223</td>\n",
       "      <td>-0.210786</td>\n",
       "      <td>0.210786</td>\n",
       "    </tr>\n",
       "    <tr>\n",
       "      <th>Vitamins &amp; Dietary Supplements</th>\n",
       "      <td>0.458098</td>\n",
       "      <td>4.123549</td>\n",
       "      <td>3.916197</td>\n",
       "      <td>-0.207352</td>\n",
       "      <td>0.207352</td>\n",
       "    </tr>\n",
       "  </tbody>\n",
       "</table>\n",
       "</div>"
      ],
      "text/plain": [
       "                                reviewScore   overall  reviewScoreNorm  \\\n",
       "subcategories                                                            \n",
       "Baby & Child Care                  0.609269  4.205483         4.218539   \n",
       "Stationery & Party Supplies        0.602765  4.102568         4.205530   \n",
       "Sports Nutrition                   0.589311  4.237650         4.178623   \n",
       "Personal Care                      0.519627  4.102509         4.039254   \n",
       "Household Supplies                 0.518710  4.192494         4.037421   \n",
       "default                            0.490678  4.019077         3.981356   \n",
       "Sexual Wellness                    0.486434  3.694860         3.972868   \n",
       "Medical Supplies & Equipment       0.485439  4.071935         3.970878   \n",
       "Health Care                        0.458111  4.127009         3.916223   \n",
       "Vitamins & Dietary Supplements     0.458098  4.123549         3.916197   \n",
       "\n",
       "                                    Diff   absDiff  \n",
       "subcategories                                       \n",
       "Baby & Child Care               0.013055  0.013055  \n",
       "Stationery & Party Supplies     0.102962  0.102962  \n",
       "Sports Nutrition               -0.059027  0.059027  \n",
       "Personal Care                  -0.063255  0.063255  \n",
       "Household Supplies             -0.155073  0.155073  \n",
       "default                        -0.037721  0.037721  \n",
       "Sexual Wellness                 0.278008  0.278008  \n",
       "Medical Supplies & Equipment   -0.101057  0.101057  \n",
       "Health Care                    -0.210786  0.210786  \n",
       "Vitamins & Dietary Supplements -0.207352  0.207352  "
      ]
     },
     "execution_count": 40,
     "metadata": {},
     "output_type": "execute_result"
    }
   ],
   "source": [
    "df_product_cat_group"
   ]
  },
  {
   "cell_type": "markdown",
   "metadata": {},
   "source": [
    "``Explanation``"
   ]
  },
  {
   "cell_type": "markdown",
   "metadata": {},
   "source": [
    "For each product"
   ]
  },
  {
   "cell_type": "code",
   "execution_count": 41,
   "metadata": {},
   "outputs": [],
   "source": [
    "# for each product\n",
    "df_average_product = df_product_review[[\"asin\",\"reviewScore\"]]\n",
    "df_average_product = df_average_product.groupby(\"asin\").mean()"
   ]
  },
  {
   "cell_type": "code",
   "execution_count": 42,
   "metadata": {},
   "outputs": [
    {
     "data": {
      "image/png": "[encoded data removed]",
      "text/plain": [
       "<Figure size 432x288 with 1 Axes>"
      ]
     },
     "metadata": {
      "needs_background": "light"
     },
     "output_type": "display_data"
    }
   ],
   "source": [
    "# plot distribution for total\n",
    "df_average_product[\"reviewScore\"].hist(bins=10)\n",
    "plt.xlabel(\"review score\")\n",
    "plt.ylabel(\"counts\")\n",
    "plt.title(\"The counts of reviewScore for each product\")\n",
    "plt.show()"
   ]
  },
  {
   "cell_type": "code",
   "execution_count": 43,
   "metadata": {},
   "outputs": [],
   "source": [
    "df_review_g1 = df_product_review.groupby(\"asin\").count()[[\"title\"]]\n",
    "df_review_g1 = df_review_g1[df_review_g1[\"title\"]>5]\n",
    "asin = df_review_g1.index.values\n",
    "asin = list(asin)\n",
    "df_review_g1.columns = ['Counts']\n",
    "df_product_review_g1 = df_product_review[df_product_review['asin'].isin(asin)]\n",
    "df_product_review_g1 = df_product_review_g1.groupby(\"asin\").mean()\n",
    "df_product_review_g1['Counts'] = df_review_g1['Counts']\n",
    "df_product_review_g1 = df_product_review_g1.loc[:,df_product_review_g1.columns!='Diff']"
   ]
  },
  {
   "cell_type": "code",
   "execution_count": 44,
   "metadata": {},
   "outputs": [
    {
     "data": {
      "text/html": [
       "<div>\n",
       "<style scoped>\n",
       "    .dataframe tbody tr th:only-of-type {\n",
       "        vertical-align: middle;\n",
       "    }\n",
       "\n",
       "    .dataframe tbody tr th {\n",
       "        vertical-align: top;\n",
       "    }\n",
       "\n",
       "    .dataframe thead th {\n",
       "        text-align: right;\n",
       "    }\n",
       "</style>\n",
       "<table border=\"1\" class=\"dataframe\">\n",
       "  <thead>\n",
       "    <tr style=\"text-align: right;\">\n",
       "      <th></th>\n",
       "      <th>asin</th>\n",
       "      <th>title</th>\n",
       "      <th>categories</th>\n",
       "    </tr>\n",
       "  </thead>\n",
       "  <tbody>\n",
       "    <tr>\n",
       "      <th>0</th>\n",
       "      <td>0077614992</td>\n",
       "      <td>Principles of Mgmt + Oper-CSUF Custom C</td>\n",
       "      <td>[[Health &amp; Personal Care]]</td>\n",
       "    </tr>\n",
       "    <tr>\n",
       "      <th>1</th>\n",
       "      <td>0615208479</td>\n",
       "      <td>Brain Fitness Exercises Software</td>\n",
       "      <td>[[Health &amp; Personal Care, Personal Care]]</td>\n",
       "    </tr>\n",
       "    <tr>\n",
       "      <th>2</th>\n",
       "      <td>0615269990</td>\n",
       "      <td>Occam's Razor</td>\n",
       "      <td>[[Health &amp; Personal Care, Personal Care, Shavi...</td>\n",
       "    </tr>\n",
       "    <tr>\n",
       "      <th>5</th>\n",
       "      <td>0615315860</td>\n",
       "      <td>101 BlenderBottle Recipes Quick and Easy</td>\n",
       "      <td>[[Health &amp; Personal Care]]</td>\n",
       "    </tr>\n",
       "    <tr>\n",
       "      <th>7</th>\n",
       "      <td>0615406394</td>\n",
       "      <td>Aphrodite Reborn - Women's Stories of Hope, Co...</td>\n",
       "      <td>[[Health &amp; Personal Care]]</td>\n",
       "    </tr>\n",
       "  </tbody>\n",
       "</table>\n",
       "</div>"
      ],
      "text/plain": [
       "         asin                                              title  \\\n",
       "0  0077614992            Principles of Mgmt + Oper-CSUF Custom C   \n",
       "1  0615208479                   Brain Fitness Exercises Software   \n",
       "2  0615269990                                      Occam's Razor   \n",
       "5  0615315860           101 BlenderBottle Recipes Quick and Easy   \n",
       "7  0615406394  Aphrodite Reborn - Women's Stories of Hope, Co...   \n",
       "\n",
       "                                          categories  \n",
       "0                         [[Health & Personal Care]]  \n",
       "1          [[Health & Personal Care, Personal Care]]  \n",
       "2  [[Health & Personal Care, Personal Care, Shavi...  \n",
       "5                         [[Health & Personal Care]]  \n",
       "7                         [[Health & Personal Care]]  "
      ]
     },
     "execution_count": 44,
     "metadata": {},
     "output_type": "execute_result"
    }
   ],
   "source": [
    "df_product_info = df_product_review[['asin','title','categories']]\n",
    "df_product_info = df_product_info.drop_duplicates([\"asin\"])\n",
    "df_product_info.head()"
   ]
  },
  {
   "cell_type": "code",
   "execution_count": 45,
   "metadata": {},
   "outputs": [],
   "source": [
    "df_product_review_subset = df_product_review_g1.merge(df_product_info,left_index=True,right_on='asin')\n",
    "df_product_review_subset = df_product_review_subset[['asin','title','categories','reviewScore','overall','reviewScoreNorm']]\n",
    "df_product_review_subset['Diff'] = df_product_review_subset['reviewScoreNorm'] - df_product_review_subset['overall']\n",
    "top10_product = df_product_review_subset.sort_values(by=[\"reviewScoreNorm\",\"overall\"],ascending=False).head(10)"
   ]
  },
  {
   "cell_type": "code",
   "execution_count": 46,
   "metadata": {},
   "outputs": [
    {
     "data": {
      "text/html": [
       "<div>\n",
       "<style scoped>\n",
       "    .dataframe tbody tr th:only-of-type {\n",
       "        vertical-align: middle;\n",
       "    }\n",
       "\n",
       "    .dataframe tbody tr th {\n",
       "        vertical-align: top;\n",
       "    }\n",
       "\n",
       "    .dataframe thead th {\n",
       "        text-align: right;\n",
       "    }\n",
       "</style>\n",
       "<table border=\"1\" class=\"dataframe\">\n",
       "  <thead>\n",
       "    <tr style=\"text-align: right;\">\n",
       "      <th></th>\n",
       "      <th>asin</th>\n",
       "      <th>title</th>\n",
       "      <th>categories</th>\n",
       "      <th>reviewScore</th>\n",
       "      <th>overall</th>\n",
       "      <th>reviewScoreNorm</th>\n",
       "      <th>Diff</th>\n",
       "    </tr>\n",
       "  </thead>\n",
       "  <tbody>\n",
       "    <tr>\n",
       "      <th>1761381</th>\n",
       "      <td>B003USZZ2W</td>\n",
       "      <td>Solarrific P7002 Handcrank Personal Shaver</td>\n",
       "      <td>[[Health &amp; Personal Care, Personal Care, Shavi...</td>\n",
       "      <td>0.975075</td>\n",
       "      <td>3.750000</td>\n",
       "      <td>4.950150</td>\n",
       "      <td>1.200150</td>\n",
       "    </tr>\n",
       "    <tr>\n",
       "      <th>2970136</th>\n",
       "      <td>B00JF41NS0</td>\n",
       "      <td>Coromega Be Bright Superfood Oil Blend, Coconu...</td>\n",
       "      <td>[[Health &amp; Personal Care, Vitamins &amp; Dietary S...</td>\n",
       "      <td>0.970183</td>\n",
       "      <td>5.000000</td>\n",
       "      <td>4.940367</td>\n",
       "      <td>-0.059633</td>\n",
       "    </tr>\n",
       "    <tr>\n",
       "      <th>1159298</th>\n",
       "      <td>B001G909FK</td>\n",
       "      <td>Intentional Chocolate Caramel Squares - 6 pieces</td>\n",
       "      <td>[[Health &amp; Personal Care, Health Care, Stress ...</td>\n",
       "      <td>0.969283</td>\n",
       "      <td>5.000000</td>\n",
       "      <td>4.938567</td>\n",
       "      <td>-0.061433</td>\n",
       "    </tr>\n",
       "    <tr>\n",
       "      <th>1472884</th>\n",
       "      <td>B002PEXR2W</td>\n",
       "      <td>Inward Journey, Learn to Breath Again, A Yoga ...</td>\n",
       "      <td>[[Health &amp; Personal Care]]</td>\n",
       "      <td>0.967083</td>\n",
       "      <td>5.000000</td>\n",
       "      <td>4.934167</td>\n",
       "      <td>-0.065833</td>\n",
       "    </tr>\n",
       "    <tr>\n",
       "      <th>2981279</th>\n",
       "      <td>B00KXS6LRU</td>\n",
       "      <td>Vitavana&amp;#153; Omega-3 Krill Oil &amp;#10030; 1000...</td>\n",
       "      <td>[[Health &amp; Personal Care, Vitamins &amp; Dietary S...</td>\n",
       "      <td>0.966217</td>\n",
       "      <td>5.000000</td>\n",
       "      <td>4.932433</td>\n",
       "      <td>-0.067567</td>\n",
       "    </tr>\n",
       "    <tr>\n",
       "      <th>1542750</th>\n",
       "      <td>B002XDQIUI</td>\n",
       "      <td>J.R. Watkins All Purpose Cleaner, Orange Citru...</td>\n",
       "      <td>[[Health &amp; Personal Care, Household Supplies, ...</td>\n",
       "      <td>0.965800</td>\n",
       "      <td>4.333333</td>\n",
       "      <td>4.931600</td>\n",
       "      <td>0.598267</td>\n",
       "    </tr>\n",
       "    <tr>\n",
       "      <th>2859954</th>\n",
       "      <td>B00F2KZVOI</td>\n",
       "      <td>NuZest Clean Lean Protein (pea), Vanilla, 1.1 ...</td>\n",
       "      <td>[[Health &amp; Personal Care, Sports Nutrition, Pr...</td>\n",
       "      <td>0.965683</td>\n",
       "      <td>4.833333</td>\n",
       "      <td>4.931367</td>\n",
       "      <td>0.098033</td>\n",
       "    </tr>\n",
       "    <tr>\n",
       "      <th>1325595</th>\n",
       "      <td>B0025ZO1LW</td>\n",
       "      <td>Valobra Almond Soft Shaving Soap</td>\n",
       "      <td>[[Health &amp; Personal Care, Personal Care, Shavi...</td>\n",
       "      <td>0.964917</td>\n",
       "      <td>3.666667</td>\n",
       "      <td>4.929833</td>\n",
       "      <td>1.263167</td>\n",
       "    </tr>\n",
       "    <tr>\n",
       "      <th>252854</th>\n",
       "      <td>B0007XQ2W0</td>\n",
       "      <td>Castle Forbes Lime Oil Aftershave Balm</td>\n",
       "      <td>[[Health &amp; Personal Care, Personal Care, Shavi...</td>\n",
       "      <td>0.964117</td>\n",
       "      <td>4.500000</td>\n",
       "      <td>4.928233</td>\n",
       "      <td>0.428233</td>\n",
       "    </tr>\n",
       "    <tr>\n",
       "      <th>866478</th>\n",
       "      <td>B0012TOC2K</td>\n",
       "      <td>&amp;quot;I'm Grateful You're My Friend&amp;quot; Touc...</td>\n",
       "      <td>[[Health &amp; Personal Care, Health Care, Massage...</td>\n",
       "      <td>0.963633</td>\n",
       "      <td>5.000000</td>\n",
       "      <td>4.927267</td>\n",
       "      <td>-0.072733</td>\n",
       "    </tr>\n",
       "  </tbody>\n",
       "</table>\n",
       "</div>"
      ],
      "text/plain": [
       "               asin                                              title  \\\n",
       "1761381  B003USZZ2W         Solarrific P7002 Handcrank Personal Shaver   \n",
       "2970136  B00JF41NS0  Coromega Be Bright Superfood Oil Blend, Coconu...   \n",
       "1159298  B001G909FK   Intentional Chocolate Caramel Squares - 6 pieces   \n",
       "1472884  B002PEXR2W  Inward Journey, Learn to Breath Again, A Yoga ...   \n",
       "2981279  B00KXS6LRU  Vitavana&#153; Omega-3 Krill Oil &#10030; 1000...   \n",
       "1542750  B002XDQIUI  J.R. Watkins All Purpose Cleaner, Orange Citru...   \n",
       "2859954  B00F2KZVOI  NuZest Clean Lean Protein (pea), Vanilla, 1.1 ...   \n",
       "1325595  B0025ZO1LW                   Valobra Almond Soft Shaving Soap   \n",
       "252854   B0007XQ2W0             Castle Forbes Lime Oil Aftershave Balm   \n",
       "866478   B0012TOC2K  &quot;I'm Grateful You're My Friend&quot; Touc...   \n",
       "\n",
       "                                                categories  reviewScore  \\\n",
       "1761381  [[Health & Personal Care, Personal Care, Shavi...     0.975075   \n",
       "2970136  [[Health & Personal Care, Vitamins & Dietary S...     0.970183   \n",
       "1159298  [[Health & Personal Care, Health Care, Stress ...     0.969283   \n",
       "1472884                         [[Health & Personal Care]]     0.967083   \n",
       "2981279  [[Health & Personal Care, Vitamins & Dietary S...     0.966217   \n",
       "1542750  [[Health & Personal Care, Household Supplies, ...     0.965800   \n",
       "2859954  [[Health & Personal Care, Sports Nutrition, Pr...     0.965683   \n",
       "1325595  [[Health & Personal Care, Personal Care, Shavi...     0.964917   \n",
       "252854   [[Health & Personal Care, Personal Care, Shavi...     0.964117   \n",
       "866478   [[Health & Personal Care, Health Care, Massage...     0.963633   \n",
       "\n",
       "          overall  reviewScoreNorm      Diff  \n",
       "1761381  3.750000         4.950150  1.200150  \n",
       "2970136  5.000000         4.940367 -0.059633  \n",
       "1159298  5.000000         4.938567 -0.061433  \n",
       "1472884  5.000000         4.934167 -0.065833  \n",
       "2981279  5.000000         4.932433 -0.067567  \n",
       "1542750  4.333333         4.931600  0.598267  \n",
       "2859954  4.833333         4.931367  0.098033  \n",
       "1325595  3.666667         4.929833  1.263167  \n",
       "252854   4.500000         4.928233  0.428233  \n",
       "866478   5.000000         4.927267 -0.072733  "
      ]
     },
     "execution_count": 46,
     "metadata": {},
     "output_type": "execute_result"
    }
   ],
   "source": [
    "top10_product"
   ]
  },
  {
   "cell_type": "code",
   "execution_count": 47,
   "metadata": {},
   "outputs": [
    {
     "data": {
      "text/plain": [
       "Personal Care                     3\n",
       "Vitamins & Dietary Supplements    2\n",
       "Health Care                       2\n",
       "default                           1\n",
       "Household Supplies                1\n",
       "Sports Nutrition                  1\n",
       "Name: subcategories, dtype: int64"
      ]
     },
     "execution_count": 47,
     "metadata": {},
     "output_type": "execute_result"
    }
   ],
   "source": [
    "top10_product[\"subcategories\"] = top10_product[\"categories\"].apply(lambda x:find_subcat(x))\n",
    "top10_product[\"subcategories\"].value_counts()"
   ]
  },
  {
   "cell_type": "code",
   "execution_count": 48,
   "metadata": {},
   "outputs": [
    {
     "data": {
      "text/plain": [
       "array(['Solarrific P7002 Handcrank Personal Shaver',\n",
       "       'Coromega Be Bright Superfood Oil Blend, Coconut Chia, 10.6 Ounce',\n",
       "       'Intentional Chocolate Caramel Squares - 6 pieces',\n",
       "       'Inward Journey, Learn to Breath Again, A Yoga Meditation by Marianne Wells',\n",
       "       'Vitavana&#153; Omega-3 Krill Oil &#10030; 1000mg Daily with EPA/DHA and Astaxanthin &#10030; Promotes Joint &amp; Heart Health, Weight Loss and Supports Healthy Cholesterol Levels Already In The Normal Range &#10030; Moleculary Distilled for Purity &#10030; 100% Money-Back Guarantee!',\n",
       "       'J.R. Watkins All Purpose Cleaner, Orange Citrus, 24-Ounce Bottles (Pack of 6)',\n",
       "       'NuZest Clean Lean Protein (pea), Vanilla, 1.1 pounds',\n",
       "       'Valobra Almond Soft Shaving Soap',\n",
       "       'Castle Forbes Lime Oil Aftershave Balm',\n",
       "       \"&quot;I'm Grateful You're My Friend&quot; Touching 8x10 Poem, Double-matted in White Over Royal Blue and Enhanced with Watercolor Graphics. A Gift For A Friend.\"],\n",
       "      dtype=object)"
      ]
     },
     "execution_count": 48,
     "metadata": {},
     "output_type": "execute_result"
    }
   ],
   "source": [
    "top10_product[\"title\"].values"
   ]
  },
  {
   "cell_type": "markdown",
   "metadata": {},
   "source": [
    "``Explanation``"
   ]
  },
  {
   "cell_type": "markdown",
   "metadata": {},
   "source": [
    "### Trend of popularity as time goes."
   ]
  },
  {
   "cell_type": "code",
   "execution_count": 49,
   "metadata": {},
   "outputs": [],
   "source": [
    "df_time_popularity = df_product_review.groupby(\"ReviewTime\").mean()[[\"reviewScoreNorm\"]]"
   ]
  },
  {
   "cell_type": "code",
   "execution_count": 50,
   "metadata": {},
   "outputs": [
    {
     "data": {
      "text/html": [
       "<div>\n",
       "<style scoped>\n",
       "    .dataframe tbody tr th:only-of-type {\n",
       "        vertical-align: middle;\n",
       "    }\n",
       "\n",
       "    .dataframe tbody tr th {\n",
       "        vertical-align: top;\n",
       "    }\n",
       "\n",
       "    .dataframe thead th {\n",
       "        text-align: right;\n",
       "    }\n",
       "</style>\n",
       "<table border=\"1\" class=\"dataframe\">\n",
       "  <thead>\n",
       "    <tr style=\"text-align: right;\">\n",
       "      <th></th>\n",
       "      <th>reviewScoreNorm</th>\n",
       "    </tr>\n",
       "    <tr>\n",
       "      <th>ReviewTime</th>\n",
       "      <th></th>\n",
       "    </tr>\n",
       "  </thead>\n",
       "  <tbody>\n",
       "    <tr>\n",
       "      <th>1999-10-20</th>\n",
       "      <td>1.5984</td>\n",
       "    </tr>\n",
       "    <tr>\n",
       "      <th>1999-11-02</th>\n",
       "      <td>3.7604</td>\n",
       "    </tr>\n",
       "    <tr>\n",
       "      <th>2000-03-16</th>\n",
       "      <td>4.6394</td>\n",
       "    </tr>\n",
       "    <tr>\n",
       "      <th>2000-04-28</th>\n",
       "      <td>4.7086</td>\n",
       "    </tr>\n",
       "    <tr>\n",
       "      <th>2000-04-29</th>\n",
       "      <td>4.1218</td>\n",
       "    </tr>\n",
       "  </tbody>\n",
       "</table>\n",
       "</div>"
      ],
      "text/plain": [
       "            reviewScoreNorm\n",
       "ReviewTime                 \n",
       "1999-10-20           1.5984\n",
       "1999-11-02           3.7604\n",
       "2000-03-16           4.6394\n",
       "2000-04-28           4.7086\n",
       "2000-04-29           4.1218"
      ]
     },
     "execution_count": 50,
     "metadata": {},
     "output_type": "execute_result"
    }
   ],
   "source": [
    "df_time_popularity.head()"
   ]
  },
  {
   "cell_type": "code",
   "execution_count": 51,
   "metadata": {},
   "outputs": [],
   "source": [
    "df_time_popularity.reset_index(inplace=True)\n",
    "flag = df_time_popularity['ReviewTime'].map(lambda x: (x.year>2003)&((x.year<2014)))\n",
    "df_time_popularity_subset = df_time_popularity.loc[flag]"
   ]
  },
  {
   "cell_type": "code",
   "execution_count": 52,
   "metadata": {},
   "outputs": [
    {
     "data": {
      "text/html": [
       "<div>\n",
       "<style scoped>\n",
       "    .dataframe tbody tr th:only-of-type {\n",
       "        vertical-align: middle;\n",
       "    }\n",
       "\n",
       "    .dataframe tbody tr th {\n",
       "        vertical-align: top;\n",
       "    }\n",
       "\n",
       "    .dataframe thead th {\n",
       "        text-align: right;\n",
       "    }\n",
       "</style>\n",
       "<table border=\"1\" class=\"dataframe\">\n",
       "  <thead>\n",
       "    <tr style=\"text-align: right;\">\n",
       "      <th></th>\n",
       "      <th>ReviewTime</th>\n",
       "      <th>reviewScoreNorm</th>\n",
       "    </tr>\n",
       "  </thead>\n",
       "  <tbody>\n",
       "    <tr>\n",
       "      <th>832</th>\n",
       "      <td>2004-01-01</td>\n",
       "      <td>4.647871</td>\n",
       "    </tr>\n",
       "    <tr>\n",
       "      <th>833</th>\n",
       "      <td>2004-01-02</td>\n",
       "      <td>4.549967</td>\n",
       "    </tr>\n",
       "    <tr>\n",
       "      <th>834</th>\n",
       "      <td>2004-01-03</td>\n",
       "      <td>4.861120</td>\n",
       "    </tr>\n",
       "    <tr>\n",
       "      <th>835</th>\n",
       "      <td>2004-01-04</td>\n",
       "      <td>4.003660</td>\n",
       "    </tr>\n",
       "    <tr>\n",
       "      <th>836</th>\n",
       "      <td>2004-01-05</td>\n",
       "      <td>3.882657</td>\n",
       "    </tr>\n",
       "  </tbody>\n",
       "</table>\n",
       "</div>"
      ],
      "text/plain": [
       "    ReviewTime  reviewScoreNorm\n",
       "832 2004-01-01         4.647871\n",
       "833 2004-01-02         4.549967\n",
       "834 2004-01-03         4.861120\n",
       "835 2004-01-04         4.003660\n",
       "836 2004-01-05         3.882657"
      ]
     },
     "execution_count": 52,
     "metadata": {},
     "output_type": "execute_result"
    }
   ],
   "source": [
    "df_time_popularity_subset.head()"
   ]
  },
  {
   "cell_type": "code",
   "execution_count": 53,
   "metadata": {},
   "outputs": [
    {
     "data": {
      "image/png": "[encoded data removed]",
      "text/plain": [
       "<Figure size 1152x432 with 1 Axes>"
      ]
     },
     "metadata": {
      "needs_background": "light"
     },
     "output_type": "display_data"
    }
   ],
   "source": [
    "plt.figure(figsize=(16,6))\n",
    "plt.plot(df_time_popularity_subset.ReviewTime, df_time_popularity_subset.reviewScoreNorm)\n",
    "plt.xlabel('Date')\n",
    "plt.ylabel('Popularity')\n",
    "plt.title('Trend of popularity')\n",
    "plt.legend(['Data Change Line'])\n",
    "plt.show()"
   ]
  },
  {
   "cell_type": "markdown",
   "metadata": {},
   "source": [
    "``Explanation``"
   ]
  },
  {
   "cell_type": "markdown",
   "metadata": {},
   "source": [
    "以月为单位再画一个走向图"
   ]
  },
  {
   "cell_type": "code",
   "execution_count": 54,
   "metadata": {},
   "outputs": [
    {
     "data": {
      "text/plain": [
       "asin                       object\n",
       "title                      object\n",
       "reviewText                 object\n",
       "ReviewTime         datetime64[ns]\n",
       "categories                 object\n",
       "reviewScore               float64\n",
       "overall                     int64\n",
       "reviewScoreNorm           float64\n",
       "month-day                  object\n",
       "label                      object\n",
       "Diff                      float64\n",
       "dtype: object"
      ]
     },
     "execution_count": 54,
     "metadata": {},
     "output_type": "execute_result"
    }
   ],
   "source": [
    "df_product_review.dtypes"
   ]
  },
  {
   "cell_type": "code",
   "execution_count": 55,
   "metadata": {},
   "outputs": [],
   "source": [
    "df_product_review[\"Yearmonth\"] = df_product_review['ReviewTime'].apply(lambda x: x.strftime('%Y-%m'))"
   ]
  },
  {
   "cell_type": "code",
   "execution_count": 56,
   "metadata": {},
   "outputs": [
    {
     "data": {
      "text/html": [
       "<div>\n",
       "<style scoped>\n",
       "    .dataframe tbody tr th:only-of-type {\n",
       "        vertical-align: middle;\n",
       "    }\n",
       "\n",
       "    .dataframe tbody tr th {\n",
       "        vertical-align: top;\n",
       "    }\n",
       "\n",
       "    .dataframe thead th {\n",
       "        text-align: right;\n",
       "    }\n",
       "</style>\n",
       "<table border=\"1\" class=\"dataframe\">\n",
       "  <thead>\n",
       "    <tr style=\"text-align: right;\">\n",
       "      <th></th>\n",
       "      <th>asin</th>\n",
       "      <th>title</th>\n",
       "      <th>reviewText</th>\n",
       "      <th>ReviewTime</th>\n",
       "      <th>categories</th>\n",
       "      <th>reviewScore</th>\n",
       "      <th>overall</th>\n",
       "      <th>reviewScoreNorm</th>\n",
       "      <th>month-day</th>\n",
       "      <th>label</th>\n",
       "      <th>Diff</th>\n",
       "      <th>Yearmonth</th>\n",
       "    </tr>\n",
       "  </thead>\n",
       "  <tbody>\n",
       "    <tr>\n",
       "      <th>2798</th>\n",
       "      <td>B00000JHQ7</td>\n",
       "      <td>Duracell MN1500B8 AA (8-Pack)</td>\n",
       "      <td>I expected so much and yet recieved so little ...</td>\n",
       "      <td>1999-10-20</td>\n",
       "      <td>[[Health &amp; Personal Care, Household Supplies, ...</td>\n",
       "      <td>-0.7008</td>\n",
       "      <td>1</td>\n",
       "      <td>1.5984</td>\n",
       "      <td>10-20</td>\n",
       "      <td>negative</td>\n",
       "      <td>0.5984</td>\n",
       "      <td>1999-10</td>\n",
       "    </tr>\n",
       "    <tr>\n",
       "      <th>2492</th>\n",
       "      <td>B00000JHQ0</td>\n",
       "      <td>NaN</td>\n",
       "      <td>I've used these batteries my entire life in ev...</td>\n",
       "      <td>1999-11-02</td>\n",
       "      <td>[[Health &amp; Personal Care]]</td>\n",
       "      <td>0.3802</td>\n",
       "      <td>5</td>\n",
       "      <td>3.7604</td>\n",
       "      <td>11-02</td>\n",
       "      <td>positive</td>\n",
       "      <td>-1.2396</td>\n",
       "      <td>1999-11</td>\n",
       "    </tr>\n",
       "    <tr>\n",
       "      <th>2197</th>\n",
       "      <td>B00000J47L</td>\n",
       "      <td>Energizer Power Plus NiMH AA Rechargeable Batt...</td>\n",
       "      <td>I bought a bunch of Energizer's AA ACCU NiMH r...</td>\n",
       "      <td>2000-03-16</td>\n",
       "      <td>[[Health &amp; Personal Care, Household Supplies]]</td>\n",
       "      <td>0.8197</td>\n",
       "      <td>4</td>\n",
       "      <td>4.6394</td>\n",
       "      <td>03-16</td>\n",
       "      <td>positive</td>\n",
       "      <td>0.6394</td>\n",
       "      <td>2000-03</td>\n",
       "    </tr>\n",
       "  </tbody>\n",
       "</table>\n",
       "</div>"
      ],
      "text/plain": [
       "            asin                                              title  \\\n",
       "2798  B00000JHQ7                      Duracell MN1500B8 AA (8-Pack)   \n",
       "2492  B00000JHQ0                                                NaN   \n",
       "2197  B00000J47L  Energizer Power Plus NiMH AA Rechargeable Batt...   \n",
       "\n",
       "                                             reviewText ReviewTime  \\\n",
       "2798  I expected so much and yet recieved so little ... 1999-10-20   \n",
       "2492  I've used these batteries my entire life in ev... 1999-11-02   \n",
       "2197  I bought a bunch of Energizer's AA ACCU NiMH r... 2000-03-16   \n",
       "\n",
       "                                             categories  reviewScore  overall  \\\n",
       "2798  [[Health & Personal Care, Household Supplies, ...      -0.7008        1   \n",
       "2492                         [[Health & Personal Care]]       0.3802        5   \n",
       "2197     [[Health & Personal Care, Household Supplies]]       0.8197        4   \n",
       "\n",
       "      reviewScoreNorm month-day     label    Diff Yearmonth  \n",
       "2798           1.5984     10-20  negative  0.5984   1999-10  \n",
       "2492           3.7604     11-02  positive -1.2396   1999-11  \n",
       "2197           4.6394     03-16  positive  0.6394   2000-03  "
      ]
     },
     "execution_count": 56,
     "metadata": {},
     "output_type": "execute_result"
    }
   ],
   "source": [
    "df_product_review.sort_values('Yearmonth').head(3)"
   ]
  },
  {
   "cell_type": "code",
   "execution_count": 57,
   "metadata": {},
   "outputs": [
    {
     "data": {
      "text/html": [
       "<div>\n",
       "<style scoped>\n",
       "    .dataframe tbody tr th:only-of-type {\n",
       "        vertical-align: middle;\n",
       "    }\n",
       "\n",
       "    .dataframe tbody tr th {\n",
       "        vertical-align: top;\n",
       "    }\n",
       "\n",
       "    .dataframe thead th {\n",
       "        text-align: right;\n",
       "    }\n",
       "</style>\n",
       "<table border=\"1\" class=\"dataframe\">\n",
       "  <thead>\n",
       "    <tr style=\"text-align: right;\">\n",
       "      <th></th>\n",
       "      <th>Yearmonth</th>\n",
       "      <th>reviewScoreNorm</th>\n",
       "    </tr>\n",
       "  </thead>\n",
       "  <tbody>\n",
       "    <tr>\n",
       "      <th>48</th>\n",
       "      <td>2004-01-01</td>\n",
       "      <td>4.083851</td>\n",
       "    </tr>\n",
       "    <tr>\n",
       "      <th>49</th>\n",
       "      <td>2004-02-01</td>\n",
       "      <td>4.137329</td>\n",
       "    </tr>\n",
       "    <tr>\n",
       "      <th>50</th>\n",
       "      <td>2004-03-01</td>\n",
       "      <td>4.040955</td>\n",
       "    </tr>\n",
       "    <tr>\n",
       "      <th>51</th>\n",
       "      <td>2004-04-01</td>\n",
       "      <td>3.930255</td>\n",
       "    </tr>\n",
       "    <tr>\n",
       "      <th>52</th>\n",
       "      <td>2004-05-01</td>\n",
       "      <td>3.999891</td>\n",
       "    </tr>\n",
       "  </tbody>\n",
       "</table>\n",
       "</div>"
      ],
      "text/plain": [
       "    Yearmonth  reviewScoreNorm\n",
       "48 2004-01-01         4.083851\n",
       "49 2004-02-01         4.137329\n",
       "50 2004-03-01         4.040955\n",
       "51 2004-04-01         3.930255\n",
       "52 2004-05-01         3.999891"
      ]
     },
     "execution_count": 57,
     "metadata": {},
     "output_type": "execute_result"
    }
   ],
   "source": [
    "df_month_popularity = df_product_review.groupby(\"Yearmonth\").mean()[[\"reviewScoreNorm\"]]\n",
    "df_month_popularity.reset_index(inplace=True)\n",
    "df_month_popularity['Yearmonth'] = pd.to_datetime(df_month_popularity['Yearmonth'])\n",
    "flag = df_month_popularity['Yearmonth'].map(lambda x: (x.year>2003)&((x.year<2014)))\n",
    "df_month_popularity_subset = df_month_popularity.loc[flag]\n",
    "df_month_popularity_subset.head()"
   ]
  },
  {
   "cell_type": "code",
   "execution_count": 58,
   "metadata": {},
   "outputs": [
    {
     "data": {
      "image/png": "[encoded data removed]",
      "text/plain": [
       "<Figure size 1152x432 with 1 Axes>"
      ]
     },
     "metadata": {
      "needs_background": "light"
     },
     "output_type": "display_data"
    }
   ],
   "source": [
    "plt.figure(figsize=(16,6))\n",
    "plt.plot(df_month_popularity_subset.Yearmonth, df_month_popularity_subset.reviewScoreNorm)\n",
    "plt.xlabel('Month')\n",
    "plt.ylabel('Popularity')\n",
    "plt.title('Trend of popularity')\n",
    "plt.legend(['Data Change Line'])\n",
    "plt.show()"
   ]
  },
  {
   "cell_type": "code",
   "execution_count": 5,
   "metadata": {},
   "outputs": [],
   "source": [
    "def interested_day(df,interested_day_name,month,day):\n",
    "    # a week\n",
    "    df['month-day'] = df['ReviewTime'].apply(lambda x: x.strftime('%m-%d'))\n",
    "    date = datetime.datetime.strptime(str(month)+'-'+str(day),\"%m-%d\")\n",
    "    delta = datetime.timedelta(days=7)\n",
    "    \n",
    "    date_period = (date+delta).strftime('%m-%d')\n",
    "    date_period_month = (date+delta).strftime('%m')\n",
    "    date_start  = date.strftime('%m-%d')\n",
    "    date_start_month  = date.strftime('%m')\n",
    "    \n",
    "    \n",
    "    if date_start_month <= date_period_month:\n",
    "        interested_day = df[(df['month-day']<date_period)&(df['month-day']>=date_start)]\n",
    "    else:\n",
    "        interested_day = df[((df['month-day']>=date_start))&(df['month-day']<='12-31')|(df['month-day']<date_period)]\n",
    "    return interested_day    "
   ]
  },
  {
   "cell_type": "code",
   "execution_count": 13,
   "metadata": {},
   "outputs": [
    {
     "data": {
      "text/html": [
       "<div>\n",
       "<style scoped>\n",
       "    .dataframe tbody tr th:only-of-type {\n",
       "        vertical-align: middle;\n",
       "    }\n",
       "\n",
       "    .dataframe tbody tr th {\n",
       "        vertical-align: top;\n",
       "    }\n",
       "\n",
       "    .dataframe thead th {\n",
       "        text-align: right;\n",
       "    }\n",
       "</style>\n",
       "<table border=\"1\" class=\"dataframe\">\n",
       "  <thead>\n",
       "    <tr style=\"text-align: right;\">\n",
       "      <th></th>\n",
       "      <th>reviewScore</th>\n",
       "      <th>overall</th>\n",
       "      <th>reviewScoreNorm</th>\n",
       "    </tr>\n",
       "  </thead>\n",
       "  <tbody>\n",
       "    <tr>\n",
       "      <th>count</th>\n",
       "      <td>31178.000000</td>\n",
       "      <td>31178.000000</td>\n",
       "      <td>31178.000000</td>\n",
       "    </tr>\n",
       "    <tr>\n",
       "      <th>mean</th>\n",
       "      <td>0.486837</td>\n",
       "      <td>4.101521</td>\n",
       "      <td>3.973674</td>\n",
       "    </tr>\n",
       "    <tr>\n",
       "      <th>std</th>\n",
       "      <td>0.462796</td>\n",
       "      <td>1.228849</td>\n",
       "      <td>0.925592</td>\n",
       "    </tr>\n",
       "    <tr>\n",
       "      <th>min</th>\n",
       "      <td>-0.997300</td>\n",
       "      <td>1.000000</td>\n",
       "      <td>1.005400</td>\n",
       "    </tr>\n",
       "    <tr>\n",
       "      <th>25%</th>\n",
       "      <td>0.259856</td>\n",
       "      <td>3.666667</td>\n",
       "      <td>3.519712</td>\n",
       "    </tr>\n",
       "    <tr>\n",
       "      <th>50%</th>\n",
       "      <td>0.636100</td>\n",
       "      <td>4.800000</td>\n",
       "      <td>4.272200</td>\n",
       "    </tr>\n",
       "    <tr>\n",
       "      <th>75%</th>\n",
       "      <td>0.850294</td>\n",
       "      <td>5.000000</td>\n",
       "      <td>4.700587</td>\n",
       "    </tr>\n",
       "    <tr>\n",
       "      <th>max</th>\n",
       "      <td>0.999300</td>\n",
       "      <td>5.000000</td>\n",
       "      <td>4.998600</td>\n",
       "    </tr>\n",
       "  </tbody>\n",
       "</table>\n",
       "</div>"
      ],
      "text/plain": [
       "        reviewScore       overall  reviewScoreNorm\n",
       "count  31178.000000  31178.000000     31178.000000\n",
       "mean       0.486837      4.101521         3.973674\n",
       "std        0.462796      1.228849         0.925592\n",
       "min       -0.997300      1.000000         1.005400\n",
       "25%        0.259856      3.666667         3.519712\n",
       "50%        0.636100      4.800000         4.272200\n",
       "75%        0.850294      5.000000         4.700587\n",
       "max        0.999300      5.000000         4.998600"
      ]
     },
     "execution_count": 13,
     "metadata": {},
     "output_type": "execute_result"
    }
   ],
   "source": [
    "month = 12\n",
    "day = 25\n",
    "Christ_review = interested_day(df_product_review,'',month,day)\n",
    "Christ_review = Christ_review.groupby(\"asin\").mean()[[\"reviewScore\",\"overall\",\"reviewScoreNorm\"]]\n",
    "Christ_review.describe()"
   ]
  },
  {
   "cell_type": "code",
   "execution_count": 14,
   "metadata": {},
   "outputs": [
    {
     "data": {
      "text/html": [
       "<div>\n",
       "<style scoped>\n",
       "    .dataframe tbody tr th:only-of-type {\n",
       "        vertical-align: middle;\n",
       "    }\n",
       "\n",
       "    .dataframe tbody tr th {\n",
       "        vertical-align: top;\n",
       "    }\n",
       "\n",
       "    .dataframe thead th {\n",
       "        text-align: right;\n",
       "    }\n",
       "</style>\n",
       "<table border=\"1\" class=\"dataframe\">\n",
       "  <thead>\n",
       "    <tr style=\"text-align: right;\">\n",
       "      <th></th>\n",
       "      <th>reviewScore</th>\n",
       "      <th>overall</th>\n",
       "      <th>reviewScoreNorm</th>\n",
       "    </tr>\n",
       "  </thead>\n",
       "  <tbody>\n",
       "    <tr>\n",
       "      <th>count</th>\n",
       "      <td>31453.000000</td>\n",
       "      <td>31453.000000</td>\n",
       "      <td>31453.000000</td>\n",
       "    </tr>\n",
       "    <tr>\n",
       "      <th>mean</th>\n",
       "      <td>0.482372</td>\n",
       "      <td>4.066575</td>\n",
       "      <td>3.964744</td>\n",
       "    </tr>\n",
       "    <tr>\n",
       "      <th>std</th>\n",
       "      <td>0.473912</td>\n",
       "      <td>1.253181</td>\n",
       "      <td>0.947824</td>\n",
       "    </tr>\n",
       "    <tr>\n",
       "      <th>min</th>\n",
       "      <td>-0.994500</td>\n",
       "      <td>1.000000</td>\n",
       "      <td>1.011000</td>\n",
       "    </tr>\n",
       "    <tr>\n",
       "      <th>25%</th>\n",
       "      <td>0.245700</td>\n",
       "      <td>3.500000</td>\n",
       "      <td>3.491400</td>\n",
       "    </tr>\n",
       "    <tr>\n",
       "      <th>50%</th>\n",
       "      <td>0.640271</td>\n",
       "      <td>4.727273</td>\n",
       "      <td>4.280541</td>\n",
       "    </tr>\n",
       "    <tr>\n",
       "      <th>75%</th>\n",
       "      <td>0.856000</td>\n",
       "      <td>5.000000</td>\n",
       "      <td>4.712000</td>\n",
       "    </tr>\n",
       "    <tr>\n",
       "      <th>max</th>\n",
       "      <td>0.999600</td>\n",
       "      <td>5.000000</td>\n",
       "      <td>4.999200</td>\n",
       "    </tr>\n",
       "  </tbody>\n",
       "</table>\n",
       "</div>"
      ],
      "text/plain": [
       "        reviewScore       overall  reviewScoreNorm\n",
       "count  31453.000000  31453.000000     31453.000000\n",
       "mean       0.482372      4.066575         3.964744\n",
       "std        0.473912      1.253181         0.947824\n",
       "min       -0.994500      1.000000         1.011000\n",
       "25%        0.245700      3.500000         3.491400\n",
       "50%        0.640271      4.727273         4.280541\n",
       "75%        0.856000      5.000000         4.712000\n",
       "max        0.999600      5.000000         4.999200"
      ]
     },
     "execution_count": 14,
     "metadata": {},
     "output_type": "execute_result"
    }
   ],
   "source": [
    "month = 4\n",
    "day = 7\n",
    "International_health_review = interested_day(df_product_review,'',month,day)\n",
    "International_health_review = International_health_review.groupby(\"asin\").mean()[[\"reviewScore\",\"overall\",\"reviewScoreNorm\"]]\n",
    "International_health_review.describe()"
   ]
  },
  {
   "cell_type": "code",
   "execution_count": 15,
   "metadata": {},
   "outputs": [
    {
     "data": {
      "text/html": [
       "<div>\n",
       "<style scoped>\n",
       "    .dataframe tbody tr th:only-of-type {\n",
       "        vertical-align: middle;\n",
       "    }\n",
       "\n",
       "    .dataframe tbody tr th {\n",
       "        vertical-align: top;\n",
       "    }\n",
       "\n",
       "    .dataframe thead th {\n",
       "        text-align: right;\n",
       "    }\n",
       "</style>\n",
       "<table border=\"1\" class=\"dataframe\">\n",
       "  <thead>\n",
       "    <tr style=\"text-align: right;\">\n",
       "      <th></th>\n",
       "      <th>reviewScore</th>\n",
       "      <th>overall</th>\n",
       "      <th>reviewScoreNorm</th>\n",
       "    </tr>\n",
       "  </thead>\n",
       "  <tbody>\n",
       "    <tr>\n",
       "      <th>count</th>\n",
       "      <td>25098.000000</td>\n",
       "      <td>25098.000000</td>\n",
       "      <td>25098.000000</td>\n",
       "    </tr>\n",
       "    <tr>\n",
       "      <th>mean</th>\n",
       "      <td>0.479274</td>\n",
       "      <td>4.069485</td>\n",
       "      <td>3.958548</td>\n",
       "    </tr>\n",
       "    <tr>\n",
       "      <th>std</th>\n",
       "      <td>0.476605</td>\n",
       "      <td>1.258743</td>\n",
       "      <td>0.953210</td>\n",
       "    </tr>\n",
       "    <tr>\n",
       "      <th>min</th>\n",
       "      <td>-0.995700</td>\n",
       "      <td>1.000000</td>\n",
       "      <td>1.008600</td>\n",
       "    </tr>\n",
       "    <tr>\n",
       "      <th>25%</th>\n",
       "      <td>0.243950</td>\n",
       "      <td>3.500000</td>\n",
       "      <td>3.487900</td>\n",
       "    </tr>\n",
       "    <tr>\n",
       "      <th>50%</th>\n",
       "      <td>0.636900</td>\n",
       "      <td>4.833333</td>\n",
       "      <td>4.273800</td>\n",
       "    </tr>\n",
       "    <tr>\n",
       "      <th>75%</th>\n",
       "      <td>0.852637</td>\n",
       "      <td>5.000000</td>\n",
       "      <td>4.705275</td>\n",
       "    </tr>\n",
       "    <tr>\n",
       "      <th>max</th>\n",
       "      <td>1.000000</td>\n",
       "      <td>5.000000</td>\n",
       "      <td>5.000000</td>\n",
       "    </tr>\n",
       "  </tbody>\n",
       "</table>\n",
       "</div>"
      ],
      "text/plain": [
       "        reviewScore       overall  reviewScoreNorm\n",
       "count  25098.000000  25098.000000     25098.000000\n",
       "mean       0.479274      4.069485         3.958548\n",
       "std        0.476605      1.258743         0.953210\n",
       "min       -0.995700      1.000000         1.008600\n",
       "25%        0.243950      3.500000         3.487900\n",
       "50%        0.636900      4.833333         4.273800\n",
       "75%        0.852637      5.000000         4.705275\n",
       "max        1.000000      5.000000         5.000000"
      ]
     },
     "execution_count": 15,
     "metadata": {},
     "output_type": "execute_result"
    }
   ],
   "source": [
    "month = 11\n",
    "day = 23\n",
    "blackfri_review = interested_day(df_product_review,'',month,day)\n",
    "blackfri_review = blackfri_review.groupby(\"asin\").mean()[[\"reviewScore\",\"overall\",\"reviewScoreNorm\"]]\n",
    "blackfri_review.describe()"
   ]
  },
  {
   "cell_type": "code",
   "execution_count": null,
   "metadata": {},
   "outputs": [],
   "source": []
  }
 ],
 "metadata": {
  "kernelspec": {
   "display_name": "Python 3",
   "language": "python",
   "name": "python3"
  },
  "language_info": {
   "codemirror_mode": {
    "name": "ipython",
    "version": 3
   },
   "file_extension": ".py",
   "mimetype": "text/x-python",
   "name": "python",
   "nbconvert_exporter": "python",
   "pygments_lexer": "ipython3",
   "version": "3.6.7"
  }
 },
 "nbformat": 4,
 "nbformat_minor": 2
}
