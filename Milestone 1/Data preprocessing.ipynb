{
 "cells": [
  {
   "cell_type": "markdown",
   "metadata": {},
   "source": [
    "# Data Pre-processing \n",
    "\n",
    "#### Team members:  Yaxiong Luo, Yueran Liang, Shengzhao Xia\n",
    "#### Data-set: [Amazon meta data and review data](http://jmcauley.ucsd.edu/data/amazon/)"
   ]
  },
  {
   "cell_type": "code",
   "execution_count": 2,
   "metadata": {},
   "outputs": [],
   "source": [
    "%matplotlib inline\n",
    "import gzip\n",
    "import json\n",
    "import numpy as np\n",
    "import pandas as pd\n",
    "import matplotlib.pyplot as plt"
   ]
  },
  {
   "cell_type": "code",
   "execution_count": 3,
   "metadata": {},
   "outputs": [],
   "source": [
    "DATA_FOLDER = \"./data/\"\n",
    "META_HEALTH_CARE = \"meta_Health_and_Personal_Care.json.gz\"\n",
    "REVIEWS_HEALTH_CARE = \"reviews_Health_and_Personal_Care.json.gz\""
   ]
  },
  {
   "cell_type": "markdown",
   "metadata": {},
   "source": [
    "### 1. Functions \n",
    " \n",
    "1.1 Functions for loading data\n",
    "\n",
    "Read the data into a **pandas dataframe** by using the two functions below. These two functions are provided by the website of our Amazon dataset."
   ]
  },
  {
   "cell_type": "code",
   "execution_count": 6,
   "metadata": {},
   "outputs": [],
   "source": [
    "def parse(path):\n",
    "    g = gzip.open(path, 'rb')\n",
    "    for l in g:\n",
    "        yield eval(l)"
   ]
  },
  {
   "cell_type": "code",
   "execution_count": 7,
   "metadata": {},
   "outputs": [],
   "source": [
    "def getDF(path):\n",
    "    i = 0\n",
    "    df = {}\n",
    "    for d in parse(path):\n",
    "        df[i] = d\n",
    "        i += 1\n",
    "    return pd.DataFrame.from_dict(df, orient='index')"
   ]
  },
  {
   "cell_type": "markdown",
   "metadata": {},
   "source": [
    "1.2 Functions for checking Nan value\n",
    "\n",
    "We define the two functions below to verify if there exists nan value in the chosen column."
   ]
  },
  {
   "cell_type": "code",
   "execution_count": 3,
   "metadata": {},
   "outputs": [],
   "source": [
    "def checkNanValue(dataframe, column):\n",
    "    print(\"Check if column {} exists Nan value: {}\".format(column,dataframe[column].isnull().values.any()))\n",
    "    return dataframe[column].isnull().values.any()\n",
    "    \n",
    "def checkDataframeNanValue(dataframe):\n",
    "    list_Nancolumns = []\n",
    "    list_columns = list(dataframe.columns)\n",
    "    for column in list_columns:\n",
    "        if checkNanValue(dataframe, column):\n",
    "             list_Nancolumns.append(column)\n",
    "    return list_Nancolumns"
   ]
  },
  {
   "cell_type": "markdown",
   "metadata": {},
   "source": [
    "### 2. Health & Care metadata"
   ]
  },
  {
   "cell_type": "markdown",
   "metadata": {},
   "source": [
    "After observing the Health & Care metadata, we discover that there are lots of null values and some columns we are not interested. We decide to do some data cleaning work "
   ]
  },
  {
   "cell_type": "markdown",
   "metadata": {},
   "source": [
    "2.1 Import Health & Care metadata"
   ]
  },
  {
   "cell_type": "code",
   "execution_count": 12,
   "metadata": {
    "scrolled": false
   },
   "outputs": [
    {
     "data": {
      "text/html": [
       "<div>\n",
       "<style scoped>\n",
       "    .dataframe tbody tr th:only-of-type {\n",
       "        vertical-align: middle;\n",
       "    }\n",
       "\n",
       "    .dataframe tbody tr th {\n",
       "        vertical-align: top;\n",
       "    }\n",
       "\n",
       "    .dataframe thead th {\n",
       "        text-align: right;\n",
       "    }\n",
       "</style>\n",
       "<table border=\"1\" class=\"dataframe\">\n",
       "  <thead>\n",
       "    <tr style=\"text-align: right;\">\n",
       "      <th></th>\n",
       "      <th>asin</th>\n",
       "      <th>description</th>\n",
       "      <th>title</th>\n",
       "      <th>imUrl</th>\n",
       "      <th>related</th>\n",
       "      <th>salesRank</th>\n",
       "      <th>categories</th>\n",
       "      <th>price</th>\n",
       "      <th>brand</th>\n",
       "    </tr>\n",
       "  </thead>\n",
       "  <tbody>\n",
       "    <tr>\n",
       "      <th>0</th>\n",
       "      <td>0077614992</td>\n",
       "      <td>This is an example product description.</td>\n",
       "      <td>Principles of Mgmt + Oper-CSUF Custom C</td>\n",
       "      <td>http://ecx.images-amazon.com/images/I/51G%2BRq...</td>\n",
       "      <td>{'also_bought': ['0471730726', '0132834871', '...</td>\n",
       "      <td>{'Health &amp; Personal Care': 168429}</td>\n",
       "      <td>[[Health &amp; Personal Care]]</td>\n",
       "      <td>NaN</td>\n",
       "      <td>NaN</td>\n",
       "    </tr>\n",
       "    <tr>\n",
       "      <th>1</th>\n",
       "      <td>0615208479</td>\n",
       "      <td>By now we all know the benefits of exercise fo...</td>\n",
       "      <td>Brain Fitness Exercises Software</td>\n",
       "      <td>http://ecx.images-amazon.com/images/I/41kbZB04...</td>\n",
       "      <td>NaN</td>\n",
       "      <td>{'Health &amp; Personal Care': 1346973}</td>\n",
       "      <td>[[Health &amp; Personal Care, Personal Care]]</td>\n",
       "      <td>NaN</td>\n",
       "      <td>NaN</td>\n",
       "    </tr>\n",
       "    <tr>\n",
       "      <th>2</th>\n",
       "      <td>0615269990</td>\n",
       "      <td>What's wrong with your patient?Do all the symp...</td>\n",
       "      <td>Occam's Razor</td>\n",
       "      <td>http://ecx.images-amazon.com/images/I/51fH-ABe...</td>\n",
       "      <td>{'also_bought': ['1935660152', '0071743979', '...</td>\n",
       "      <td>{'Toys &amp; Games': 110575}</td>\n",
       "      <td>[[Health &amp; Personal Care, Personal Care, Shavi...</td>\n",
       "      <td>34.99</td>\n",
       "      <td>NaN</td>\n",
       "    </tr>\n",
       "    <tr>\n",
       "      <th>3</th>\n",
       "      <td>0615315860</td>\n",
       "      <td>NaN</td>\n",
       "      <td>101 BlenderBottle Recipes Quick and Easy</td>\n",
       "      <td>http://ecx.images-amazon.com/images/I/21zOQu2Q...</td>\n",
       "      <td>{'also_bought': ['B006VT9RBM', 'B0010JLMO8', '...</td>\n",
       "      <td>{'Health &amp; Personal Care': 254068}</td>\n",
       "      <td>[[Health &amp; Personal Care]]</td>\n",
       "      <td>NaN</td>\n",
       "      <td>NaN</td>\n",
       "    </tr>\n",
       "    <tr>\n",
       "      <th>4</th>\n",
       "      <td>0615406394</td>\n",
       "      <td>This is an example product description.</td>\n",
       "      <td>Aphrodite Reborn - Women's Stories of Hope, Co...</td>\n",
       "      <td>http://ecx.images-amazon.com/images/I/51rJLgsi...</td>\n",
       "      <td>{'also_bought': ['0966035232', '1421407205']}</td>\n",
       "      <td>{'Health &amp; Personal Care': 377936}</td>\n",
       "      <td>[[Health &amp; Personal Care]]</td>\n",
       "      <td>NaN</td>\n",
       "      <td>NaN</td>\n",
       "    </tr>\n",
       "  </tbody>\n",
       "</table>\n",
       "</div>"
      ],
      "text/plain": [
       "         asin                                        description  \\\n",
       "0  0077614992            This is an example product description.   \n",
       "1  0615208479  By now we all know the benefits of exercise fo...   \n",
       "2  0615269990  What's wrong with your patient?Do all the symp...   \n",
       "3  0615315860                                                NaN   \n",
       "4  0615406394            This is an example product description.   \n",
       "\n",
       "                                               title  \\\n",
       "0            Principles of Mgmt + Oper-CSUF Custom C   \n",
       "1                   Brain Fitness Exercises Software   \n",
       "2                                      Occam's Razor   \n",
       "3           101 BlenderBottle Recipes Quick and Easy   \n",
       "4  Aphrodite Reborn - Women's Stories of Hope, Co...   \n",
       "\n",
       "                                               imUrl  \\\n",
       "0  http://ecx.images-amazon.com/images/I/51G%2BRq...   \n",
       "1  http://ecx.images-amazon.com/images/I/41kbZB04...   \n",
       "2  http://ecx.images-amazon.com/images/I/51fH-ABe...   \n",
       "3  http://ecx.images-amazon.com/images/I/21zOQu2Q...   \n",
       "4  http://ecx.images-amazon.com/images/I/51rJLgsi...   \n",
       "\n",
       "                                             related  \\\n",
       "0  {'also_bought': ['0471730726', '0132834871', '...   \n",
       "1                                                NaN   \n",
       "2  {'also_bought': ['1935660152', '0071743979', '...   \n",
       "3  {'also_bought': ['B006VT9RBM', 'B0010JLMO8', '...   \n",
       "4      {'also_bought': ['0966035232', '1421407205']}   \n",
       "\n",
       "                             salesRank  \\\n",
       "0   {'Health & Personal Care': 168429}   \n",
       "1  {'Health & Personal Care': 1346973}   \n",
       "2             {'Toys & Games': 110575}   \n",
       "3   {'Health & Personal Care': 254068}   \n",
       "4   {'Health & Personal Care': 377936}   \n",
       "\n",
       "                                          categories  price brand  \n",
       "0                         [[Health & Personal Care]]    NaN   NaN  \n",
       "1          [[Health & Personal Care, Personal Care]]    NaN   NaN  \n",
       "2  [[Health & Personal Care, Personal Care, Shavi...  34.99   NaN  \n",
       "3                         [[Health & Personal Care]]    NaN   NaN  \n",
       "4                         [[Health & Personal Care]]    NaN   NaN  "
      ]
     },
     "execution_count": 12,
     "metadata": {},
     "output_type": "execute_result"
    }
   ],
   "source": [
    "df_health_meta = getDF(DATA_FOLDER + META_HEALTH_CARE)\n",
    "org_health_meta_df = df_health_meta.copy()\n",
    "df_health_meta.head()"
   ]
  },
  {
   "cell_type": "markdown",
   "metadata": {},
   "source": [
    "2.2  Discard several uninterested columns\n",
    "\n",
    "We discard **description & imUrl** "
   ]
  },
  {
   "cell_type": "code",
   "execution_count": 10,
   "metadata": {},
   "outputs": [],
   "source": [
    "df_health_meta = df_health_meta.drop(['description','imUrl'],axis=1)"
   ]
  },
  {
   "cell_type": "markdown",
   "metadata": {},
   "source": [
    "2.3  Check if there exits NaN Value in the DataFrame"
   ]
  },
  {
   "cell_type": "code",
   "execution_count": 11,
   "metadata": {},
   "outputs": [
    {
     "name": "stdout",
     "output_type": "stream",
     "text": [
      "Check if column asin exists Nan value: False\n",
      "Check if column title exists Nan value: True\n",
      "Check if column related exists Nan value: True\n",
      "Check if column salesRank exists Nan value: True\n",
      "Check if column categories exists Nan value: False\n",
      "Check if column price exists Nan value: True\n",
      "Check if column brand exists Nan value: True\n"
     ]
    }
   ],
   "source": [
    "list_Nancolumns = checkDataframeNanValue(df_health_meta)"
   ]
  },
  {
   "cell_type": "markdown",
   "metadata": {},
   "source": [
    "2.4  Replace Nan value by 0\n",
    "\n",
    "According to the result above, we know that some columns exists Nan value. Thus, we decide to only replace column 'price '**Nan** values as **0**. As for NAN value in other columns ( 'brand','salesRank' and 'related' ), we will process them later according to the data analysis."
   ]
  },
  {
   "cell_type": "markdown",
   "metadata": {},
   "source": [
    "Before we replace 'price' value, we check if it contains 0 at first."
   ]
  },
  {
   "cell_type": "code",
   "execution_count": 10,
   "metadata": {},
   "outputs": [
    {
     "data": {
      "text/html": [
       "<div>\n",
       "<style scoped>\n",
       "    .dataframe tbody tr th:only-of-type {\n",
       "        vertical-align: middle;\n",
       "    }\n",
       "\n",
       "    .dataframe tbody tr th {\n",
       "        vertical-align: top;\n",
       "    }\n",
       "\n",
       "    .dataframe thead th {\n",
       "        text-align: right;\n",
       "    }\n",
       "</style>\n",
       "<table border=\"1\" class=\"dataframe\">\n",
       "  <thead>\n",
       "    <tr style=\"text-align: right;\">\n",
       "      <th></th>\n",
       "      <th>asin</th>\n",
       "      <th>description</th>\n",
       "      <th>title</th>\n",
       "      <th>imUrl</th>\n",
       "      <th>related</th>\n",
       "      <th>salesRank</th>\n",
       "      <th>categories</th>\n",
       "      <th>price</th>\n",
       "      <th>brand</th>\n",
       "    </tr>\n",
       "  </thead>\n",
       "  <tbody>\n",
       "  </tbody>\n",
       "</table>\n",
       "</div>"
      ],
      "text/plain": [
       "Empty DataFrame\n",
       "Columns: [asin, description, title, imUrl, related, salesRank, categories, price, brand]\n",
       "Index: []"
      ]
     },
     "execution_count": 10,
     "metadata": {},
     "output_type": "execute_result"
    }
   ],
   "source": [
    "df_health_meta[df_health_meta['price']==0]"
   ]
  },
  {
   "cell_type": "markdown",
   "metadata": {},
   "source": [
    "It seems that we can replace with 0 without any ambiguity."
   ]
  },
  {
   "cell_type": "code",
   "execution_count": 13,
   "metadata": {},
   "outputs": [],
   "source": [
    "df_health_meta['price'] = df_health_meta['price'].fillna(0)"
   ]
  },
  {
   "cell_type": "markdown",
   "metadata": {},
   "source": [
    "2.5 Only keep relevant products and discard all the products of other categories\n",
    "\n",
    "We put emphasis on Health & Personal Care products.\n",
    "Therefore, we **drop all columns that is not relevant with Health & Personal Care** from the dataset with the help of the attribute **category**."
   ]
  },
  {
   "cell_type": "code",
   "execution_count": 14,
   "metadata": {},
   "outputs": [
    {
     "data": {
      "text/plain": [
       "0                                                                             [[Health & Personal Care]]\n",
       "1                                                              [[Health & Personal Care, Personal Care]]\n",
       "2                      [[Health & Personal Care, Personal Care, Shaving & Hair Removal, Manual Shaving]]\n",
       "3                                                                             [[Health & Personal Care]]\n",
       "4                                                                             [[Health & Personal Care]]\n",
       "5                                                                             [[Health & Personal Care]]\n",
       "6                                   [[Health & Personal Care, Personal Care, Eye Care, Reading Glasses]]\n",
       "7    [[Health & Personal Care, Medical Supplies & Equipment, Daily Living Aids, Visual Impairment Aid...\n",
       "8    [[Health & Personal Care, Medical Supplies & Equipment, Daily Living Aids, Low Strength Aids, Gr...\n",
       "9         [[Health & Personal Care, Stationery & Party Supplies, Stationery, Letter Writing Stationery]]\n",
       "Name: categories, dtype: object"
      ]
     },
     "execution_count": 14,
     "metadata": {},
     "output_type": "execute_result"
    }
   ],
   "source": [
    "# View the categories in Health & Care meta data\n",
    "pd.set_option('max_colwidth',100)\n",
    "df_health_meta['categories'][:10]"
   ]
  },
  {
   "cell_type": "code",
   "execution_count": 15,
   "metadata": {},
   "outputs": [
    {
     "data": {
      "text/plain": [
       "Health & Personal Care       262317\n",
       "CDs & Vinyl                     445\n",
       "Sports & Outdoors               170\n",
       "Automotive                       31\n",
       "Cell Phones & Accessories        21\n",
       "Home & Kitchen                   15\n",
       "Baby Products                    11\n",
       "Electronics                       9\n",
       "Tools & Home Improvement          6\n",
       "Office Products                   5\n",
       "Books                             2\n",
       "Name: categories, dtype: int64"
      ]
     },
     "execution_count": 15,
     "metadata": {},
     "output_type": "execute_result"
    }
   ],
   "source": [
    "# Group the categories and get their counts\n",
    "df_health_meta['categories'].apply(lambda x : x[0][0]).value_counts()"
   ]
  },
  {
   "cell_type": "code",
   "execution_count": 16,
   "metadata": {},
   "outputs": [
    {
     "data": {
      "text/plain": [
       "Health & Personal Care    262317\n",
       "Name: categories, dtype: int64"
      ]
     },
     "execution_count": 16,
     "metadata": {},
     "output_type": "execute_result"
    }
   ],
   "source": [
    "# Delete product of other categories\n",
    "rows_to_delete = []\n",
    "for idx, categories in enumerate(df_health_meta['categories']):\n",
    "    if categories[0][0] != 'Health & Personal Care':\n",
    "        rows_to_delete.append(idx)\n",
    "\n",
    "df_health_meta = df_health_meta.drop(df_health_meta.index[rows_to_delete])\n",
    "# View size of remaining data \n",
    "df_health_meta['categories'].apply(lambda x : x[0][0]).value_counts()"
   ]
  },
  {
   "cell_type": "markdown",
   "metadata": {},
   "source": [
    "2.6 Set asin as index"
   ]
  },
  {
   "cell_type": "code",
   "execution_count": 21,
   "metadata": {},
   "outputs": [
    {
     "data": {
      "text/plain": [
       "True"
      ]
     },
     "execution_count": 21,
     "metadata": {},
     "output_type": "execute_result"
    }
   ],
   "source": [
    "# Check if asin is unique in meta data\n",
    "print(\"The asin in health&care meta data is unique: {u}\".format(u = df_health_meta['asin'].is_unique))"
   ]
  },
  {
   "cell_type": "code",
   "execution_count": 22,
   "metadata": {},
   "outputs": [],
   "source": [
    "df_health_meta = df_health_meta.set_index(['asin'])"
   ]
  },
  {
   "cell_type": "markdown",
   "metadata": {},
   "source": [
    "2.7 Generate pickle file"
   ]
  },
  {
   "cell_type": "code",
   "execution_count": 23,
   "metadata": {},
   "outputs": [],
   "source": [
    "df_health_meta.to_pickle('health_metadata.pkl')"
   ]
  },
  {
   "cell_type": "markdown",
   "metadata": {},
   "source": [
    "2.8 Get the products' asin."
   ]
  },
  {
   "cell_type": "code",
   "execution_count": 15,
   "metadata": {},
   "outputs": [],
   "source": [
    "df_health_meta = pd.read_pickle('health_metadata.pkl')\n",
    "health_asin = df_health_meta.index.values"
   ]
  },
  {
   "cell_type": "markdown",
   "metadata": {},
   "source": [
    "### 3. Health&Care reviews\n",
    "In this part, we begin to turn our attention to Health&Care review dataset."
   ]
  },
  {
   "cell_type": "markdown",
   "metadata": {},
   "source": [
    "3.1 Import Health&Care reviews"
   ]
  },
  {
   "cell_type": "code",
   "execution_count": 27,
   "metadata": {
    "scrolled": true
   },
   "outputs": [],
   "source": [
    "# Read from compressed data\n",
    "df_health_review = getDF(DATA_FOLDER + REVIEWS_HEALTH_CARE)"
   ]
  },
  {
   "cell_type": "code",
   "execution_count": null,
   "metadata": {},
   "outputs": [],
   "source": [
    "df_health_review_org = df_health_review.copy()\n",
    "# Generate pickle for origin review data\n",
    "df_health_review.to_pickle('health_review_org.pkl')"
   ]
  },
  {
   "cell_type": "code",
   "execution_count": 18,
   "metadata": {},
   "outputs": [],
   "source": [
    "# Read from pickle\n",
    "# df_health_review_org = pd.read_pickle('health_review_org.pkl')\n",
    "# df_health_review = df_health_review_org.copy()"
   ]
  },
  {
   "cell_type": "code",
   "execution_count": 19,
   "metadata": {},
   "outputs": [
    {
     "data": {
      "text/html": [
       "<div>\n",
       "<style scoped>\n",
       "    .dataframe tbody tr th:only-of-type {\n",
       "        vertical-align: middle;\n",
       "    }\n",
       "\n",
       "    .dataframe tbody tr th {\n",
       "        vertical-align: top;\n",
       "    }\n",
       "\n",
       "    .dataframe thead th {\n",
       "        text-align: right;\n",
       "    }\n",
       "</style>\n",
       "<table border=\"1\" class=\"dataframe\">\n",
       "  <thead>\n",
       "    <tr style=\"text-align: right;\">\n",
       "      <th></th>\n",
       "      <th>asin</th>\n",
       "      <th>helpful</th>\n",
       "      <th>overall</th>\n",
       "      <th>reviewText</th>\n",
       "      <th>reviewTime</th>\n",
       "      <th>reviewerID</th>\n",
       "      <th>reviewerName</th>\n",
       "      <th>summary</th>\n",
       "      <th>unixReviewTime</th>\n",
       "    </tr>\n",
       "  </thead>\n",
       "  <tbody>\n",
       "    <tr>\n",
       "      <th>0</th>\n",
       "      <td>0077614992</td>\n",
       "      <td>[0, 0]</td>\n",
       "      <td>5</td>\n",
       "      <td>This book was a requirement for a college clas...</td>\n",
       "      <td>02 15, 2013</td>\n",
       "      <td>ARMDSTEI0Z7YW</td>\n",
       "      <td>dodo</td>\n",
       "      <td>great</td>\n",
       "      <td>1360886400</td>\n",
       "    </tr>\n",
       "    <tr>\n",
       "      <th>1</th>\n",
       "      <td>0615208479</td>\n",
       "      <td>[0, 0]</td>\n",
       "      <td>5</td>\n",
       "      <td>This is a great gift for anyone who wants to h...</td>\n",
       "      <td>12 1, 2008</td>\n",
       "      <td>A3FYN0SZYWN74</td>\n",
       "      <td>Marilyn Mitzel</td>\n",
       "      <td>AMAZING HOW QUICKLY IT WORKS!</td>\n",
       "      <td>1228089600</td>\n",
       "    </tr>\n",
       "    <tr>\n",
       "      <th>2</th>\n",
       "      <td>0615269990</td>\n",
       "      <td>[0, 0]</td>\n",
       "      <td>5</td>\n",
       "      <td>Very helpful in learning about different disea...</td>\n",
       "      <td>04 6, 2014</td>\n",
       "      <td>A2J0WRZSAAHUAP</td>\n",
       "      <td>icu-rn</td>\n",
       "      <td>Must have</td>\n",
       "      <td>1396742400</td>\n",
       "    </tr>\n",
       "    <tr>\n",
       "      <th>3</th>\n",
       "      <td>0615269990</td>\n",
       "      <td>[1, 1]</td>\n",
       "      <td>5</td>\n",
       "      <td>Occam's Razor is an unbelievably intuitive and...</td>\n",
       "      <td>12 4, 2013</td>\n",
       "      <td>A38RKP6G5P8J63</td>\n",
       "      <td>JOSEPH A WONG</td>\n",
       "      <td>Occam's Razor, a game for all ages and backgro...</td>\n",
       "      <td>1386115200</td>\n",
       "    </tr>\n",
       "    <tr>\n",
       "      <th>4</th>\n",
       "      <td>0615269990</td>\n",
       "      <td>[0, 0]</td>\n",
       "      <td>2</td>\n",
       "      <td>I met the guys from Nerdcore at a medical conf...</td>\n",
       "      <td>04 24, 2014</td>\n",
       "      <td>ARENM677YXZKX</td>\n",
       "      <td>Sonny Patel</td>\n",
       "      <td>Very limited utility</td>\n",
       "      <td>1398297600</td>\n",
       "    </tr>\n",
       "  </tbody>\n",
       "</table>\n",
       "</div>"
      ],
      "text/plain": [
       "         asin helpful  overall  \\\n",
       "0  0077614992  [0, 0]        5   \n",
       "1  0615208479  [0, 0]        5   \n",
       "2  0615269990  [0, 0]        5   \n",
       "3  0615269990  [1, 1]        5   \n",
       "4  0615269990  [0, 0]        2   \n",
       "\n",
       "                                          reviewText   reviewTime  \\\n",
       "0  This book was a requirement for a college clas...  02 15, 2013   \n",
       "1  This is a great gift for anyone who wants to h...   12 1, 2008   \n",
       "2  Very helpful in learning about different disea...   04 6, 2014   \n",
       "3  Occam's Razor is an unbelievably intuitive and...   12 4, 2013   \n",
       "4  I met the guys from Nerdcore at a medical conf...  04 24, 2014   \n",
       "\n",
       "       reviewerID    reviewerName  \\\n",
       "0   ARMDSTEI0Z7YW            dodo   \n",
       "1   A3FYN0SZYWN74  Marilyn Mitzel   \n",
       "2  A2J0WRZSAAHUAP          icu-rn   \n",
       "3  A38RKP6G5P8J63   JOSEPH A WONG   \n",
       "4   ARENM677YXZKX     Sonny Patel   \n",
       "\n",
       "                                             summary  unixReviewTime  \n",
       "0                                              great      1360886400  \n",
       "1                      AMAZING HOW QUICKLY IT WORKS!      1228089600  \n",
       "2                                          Must have      1396742400  \n",
       "3  Occam's Razor, a game for all ages and backgro...      1386115200  \n",
       "4                               Very limited utility      1398297600  "
      ]
     },
     "execution_count": 19,
     "metadata": {},
     "output_type": "execute_result"
    }
   ],
   "source": [
    "df_health_review.head()"
   ]
  },
  {
   "cell_type": "markdown",
   "metadata": {},
   "source": [
    "In the review dataset, there are nine columns. \n",
    "\n",
    "**reviewerID** and **reviewName** are unrelated to our projects, we choose to delete them. \n",
    "\n",
    "Also, we notice there are two attributes about time information, **unixReviewTime** which is only numbers and the format of **reviewTime** is not good for view and we don't know whether they are in one time zone, so we decide to keep **unixReviewTime**"
   ]
  },
  {
   "cell_type": "markdown",
   "metadata": {},
   "source": [
    "3.2  Discard uninterested columns"
   ]
  },
  {
   "cell_type": "code",
   "execution_count": 21,
   "metadata": {},
   "outputs": [],
   "source": [
    "df_health_review = df_health_review.drop(['reviewerID','reviewerName','reviewTime','summary'],axis=1)"
   ]
  },
  {
   "cell_type": "markdown",
   "metadata": {},
   "source": [
    "3.3 Change date format to standard datetime\n",
    "\n",
    "We convert the unix time format into date time format."
   ]
  },
  {
   "cell_type": "code",
   "execution_count": 27,
   "metadata": {},
   "outputs": [
    {
     "data": {
      "text/html": [
       "<div>\n",
       "<style scoped>\n",
       "    .dataframe tbody tr th:only-of-type {\n",
       "        vertical-align: middle;\n",
       "    }\n",
       "\n",
       "    .dataframe tbody tr th {\n",
       "        vertical-align: top;\n",
       "    }\n",
       "\n",
       "    .dataframe thead th {\n",
       "        text-align: right;\n",
       "    }\n",
       "</style>\n",
       "<table border=\"1\" class=\"dataframe\">\n",
       "  <thead>\n",
       "    <tr style=\"text-align: right;\">\n",
       "      <th></th>\n",
       "      <th>asin</th>\n",
       "      <th>helpful</th>\n",
       "      <th>overall</th>\n",
       "      <th>reviewText</th>\n",
       "      <th>ReviewTime</th>\n",
       "    </tr>\n",
       "  </thead>\n",
       "  <tbody>\n",
       "    <tr>\n",
       "      <th>0</th>\n",
       "      <td>0077614992</td>\n",
       "      <td>[0, 0]</td>\n",
       "      <td>5</td>\n",
       "      <td>This book was a requirement for a college clas...</td>\n",
       "      <td>2013-02-15</td>\n",
       "    </tr>\n",
       "  </tbody>\n",
       "</table>\n",
       "</div>"
      ],
      "text/plain": [
       "         asin helpful  overall  \\\n",
       "0  0077614992  [0, 0]        5   \n",
       "\n",
       "                                          reviewText ReviewTime  \n",
       "0  This book was a requirement for a college clas... 2013-02-15  "
      ]
     },
     "execution_count": 27,
     "metadata": {},
     "output_type": "execute_result"
    }
   ],
   "source": [
    "df_health_review['unixReviewTime'] = pd.to_datetime(df_health_review['unixReviewTime'],unit='s')\n",
    "# Reset columns name\n",
    "df_health_review.rename(columns={'unixReviewTime':'ReviewTime'},inplace=True)\n",
    "df_health_review.head(1)"
   ]
  },
  {
   "cell_type": "markdown",
   "metadata": {},
   "source": [
    "3.4 Check if there exists Nan Value in the DataFrame\n",
    "\n",
    "The following results show that there isn't any Nan value in the dataframe."
   ]
  },
  {
   "cell_type": "code",
   "execution_count": 29,
   "metadata": {},
   "outputs": [
    {
     "name": "stdout",
     "output_type": "stream",
     "text": [
      "Check if column asin exists Nan value: False\n",
      "Check if column helpful exists Nan value: False\n",
      "Check if column overall exists Nan value: False\n",
      "Check if column reviewText exists Nan value: False\n",
      "Check if column ReviewTime exists Nan value: False\n"
     ]
    },
    {
     "data": {
      "text/plain": [
       "[]"
      ]
     },
     "execution_count": 29,
     "metadata": {},
     "output_type": "execute_result"
    }
   ],
   "source": [
    "checkDataframeNanValue(df_health_review)"
   ]
  },
  {
   "cell_type": "markdown",
   "metadata": {},
   "source": [
    "3.5  Filter out the product using asin which exists in the meta data"
   ]
  },
  {
   "cell_type": "code",
   "execution_count": 35,
   "metadata": {},
   "outputs": [],
   "source": [
    "df_health_review = df_health_review.loc[df_health_review['asin'].isin(health_asin)]"
   ]
  },
  {
   "cell_type": "markdown",
   "metadata": {},
   "source": [
    "3.6  Generate pickle file"
   ]
  },
  {
   "cell_type": "code",
   "execution_count": 36,
   "metadata": {},
   "outputs": [],
   "source": [
    "df_health_review.to_pickle('health_review.pkl')"
   ]
  },
  {
   "cell_type": "markdown",
   "metadata": {},
   "source": [
    "#### Citation: \n",
    "R. He, J. McAuley. Modeling the visual evolution of fashion trends with one-class collaborative filtering. WWW, 2016<br/>\n",
    "J. McAuley, C. Targett, J. Shi, A. van den Hengel. Image-based recommendations on styles and substitutes. SIGIR, 2015"
   ]
  }
 ],
 "metadata": {
  "kernelspec": {
   "display_name": "Python 3",
   "language": "python",
   "name": "python3"
  },
  "language_info": {
   "codemirror_mode": {
    "name": "ipython",
    "version": 3
   },
   "file_extension": ".py",
   "mimetype": "text/x-python",
   "name": "python",
   "nbconvert_exporter": "python",
   "pygments_lexer": "ipython3",
   "version": "3.6.4"
  }
 },
 "nbformat": 4,
 "nbformat_minor": 2
}
