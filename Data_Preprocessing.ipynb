{
 "cells": [
  {
   "cell_type": "markdown",
   "metadata": {},
   "source": [
    "# Data Pre-processing \n",
    "\n",
    "#### Team members:  Yaxiong Luo, Yueran Liang, Shengzhao Xia\n",
    "#### Data-set: [Amazon meta data and review data](http://jmcauley.ucsd.edu/data/amazon/)"
   ]
  },
  {
   "cell_type": "code",
   "execution_count": 1,
   "metadata": {},
   "outputs": [],
   "source": [
    "%matplotlib inline\n",
    "import gzip\n",
    "import json\n",
    "import numpy as np\n",
    "import pandas as pd\n",
    "import matplotlib.pyplot as plt"
   ]
  },
  {
   "cell_type": "code",
   "execution_count": 2,
   "metadata": {},
   "outputs": [],
   "source": [
    "DATA_FOLDER = \"./data/\"\n",
    "META_HEALTH_CARE = \"meta_Health_and_Personal_Care.json.gz\"\n",
    "META_SPORTS_OUTDOORS = \"meta_Sports_and_Outdoors.json.gz\"\n",
    "REVIEWS_HEALTH_CARE = \"reviews_Health_and_Personal_Care.json.gz\"\n",
    "REVIEWS_SPORTS_OUTDOORS = \"reviews_Sports_and_Outdoors.json.gz\""
   ]
  },
  {
   "cell_type": "markdown",
   "metadata": {},
   "source": [
    "### 1. Functions \n",
    " \n",
    "1.1 Functions for loading data\n",
    "\n",
    "Read the data into a **pandas dataframe** by using the two functions below. These two functions are provided by the website of our Amazon dataset."
   ]
  },
  {
   "cell_type": "code",
   "execution_count": 8,
   "metadata": {},
   "outputs": [],
   "source": [
    "def parse(path):\n",
    "    g = gzip.open(path, 'rb')\n",
    "    for l in g:\n",
    "        yield eval(l)"
   ]
  },
  {
   "cell_type": "code",
   "execution_count": 9,
   "metadata": {},
   "outputs": [],
   "source": [
    "def getDF(path):\n",
    "    i = 0\n",
    "    df = {}\n",
    "    for d in parse(path):\n",
    "        df[i] = d\n",
    "        i += 1\n",
    "    return pd.DataFrame.from_dict(df, orient='index')"
   ]
  },
  {
   "cell_type": "markdown",
   "metadata": {},
   "source": [
    "1.2 Functions for checking Nan value\n",
    "\n",
    "We define the two functions below to verify if there exists nan value in the chosen column."
   ]
  },
  {
   "cell_type": "code",
   "execution_count": 3,
   "metadata": {},
   "outputs": [],
   "source": [
    "def checkNanValue(dataframe, column):\n",
    "    print(\"Check if column {} exists Nan value: {}\".format(column,dataframe[column].isnull().values.any()))\n",
    "    return dataframe[column].isnull().values.any()\n",
    "    \n",
    "def checkDataframeNanValue(dataframe):\n",
    "    list_Nancolumns = []\n",
    "    list_columns = list(dataframe.columns)\n",
    "    for column in list_columns:\n",
    "        if checkNanValue(dataframe, column):\n",
    "             list_Nancolumns.append(column)\n",
    "    return list_Nancolumns"
   ]
  },
  {
   "cell_type": "markdown",
   "metadata": {},
   "source": [
    "### 2. Health & Care and Sports & Outdoors metadata"
   ]
  },
  {
   "cell_type": "markdown",
   "metadata": {},
   "source": [
    "After observing the Health & Care and Sports & Outdoors metadata, we discover that there are lots of null values and some columns we are not interested. We decide to do some data cleaning work "
   ]
  },
  {
   "cell_type": "markdown",
   "metadata": {},
   "source": [
    "2.1 Import Health & Care and Sports & Outdoors metadata"
   ]
  },
  {
   "cell_type": "code",
   "execution_count": 10,
   "metadata": {},
   "outputs": [],
   "source": [
    "df_health_meta = getDF(DATA_FOLDER + META_HEALTH_CARE)\n",
    "df_sports_meta = getDF(DATA_FOLDER + META_SPORTS_OUTDOORS)"
   ]
  },
  {
   "cell_type": "code",
   "execution_count": 11,
   "metadata": {},
   "outputs": [],
   "source": [
    "org_health_meta_df = df_health_meta.copy()\n",
    "org_sports_meta_df = df_sports_meta.copy()"
   ]
  },
  {
   "cell_type": "code",
   "execution_count": 12,
   "metadata": {
    "scrolled": false
   },
   "outputs": [
    {
     "data": {
      "text/html": [
       "<div>\n",
       "<style scoped>\n",
       "    .dataframe tbody tr th:only-of-type {\n",
       "        vertical-align: middle;\n",
       "    }\n",
       "\n",
       "    .dataframe tbody tr th {\n",
       "        vertical-align: top;\n",
       "    }\n",
       "\n",
       "    .dataframe thead th {\n",
       "        text-align: right;\n",
       "    }\n",
       "</style>\n",
       "<table border=\"1\" class=\"dataframe\">\n",
       "  <thead>\n",
       "    <tr style=\"text-align: right;\">\n",
       "      <th></th>\n",
       "      <th>asin</th>\n",
       "      <th>description</th>\n",
       "      <th>title</th>\n",
       "      <th>imUrl</th>\n",
       "      <th>related</th>\n",
       "      <th>salesRank</th>\n",
       "      <th>categories</th>\n",
       "      <th>price</th>\n",
       "      <th>brand</th>\n",
       "    </tr>\n",
       "  </thead>\n",
       "  <tbody>\n",
       "    <tr>\n",
       "      <th>0</th>\n",
       "      <td>0077614992</td>\n",
       "      <td>This is an example product description.</td>\n",
       "      <td>Principles of Mgmt + Oper-CSUF Custom C</td>\n",
       "      <td>http://ecx.images-amazon.com/images/I/51G%2BRq...</td>\n",
       "      <td>{'also_bought': ['0471730726', '0132834871', '...</td>\n",
       "      <td>{'Health &amp; Personal Care': 168429}</td>\n",
       "      <td>[[Health &amp; Personal Care]]</td>\n",
       "      <td>NaN</td>\n",
       "      <td>NaN</td>\n",
       "    </tr>\n",
       "    <tr>\n",
       "      <th>1</th>\n",
       "      <td>0615208479</td>\n",
       "      <td>By now we all know the benefits of exercise fo...</td>\n",
       "      <td>Brain Fitness Exercises Software</td>\n",
       "      <td>http://ecx.images-amazon.com/images/I/41kbZB04...</td>\n",
       "      <td>NaN</td>\n",
       "      <td>{'Health &amp; Personal Care': 1346973}</td>\n",
       "      <td>[[Health &amp; Personal Care, Personal Care]]</td>\n",
       "      <td>NaN</td>\n",
       "      <td>NaN</td>\n",
       "    </tr>\n",
       "    <tr>\n",
       "      <th>2</th>\n",
       "      <td>0615269990</td>\n",
       "      <td>What's wrong with your patient?Do all the symp...</td>\n",
       "      <td>Occam's Razor</td>\n",
       "      <td>http://ecx.images-amazon.com/images/I/51fH-ABe...</td>\n",
       "      <td>{'also_bought': ['1935660152', '0071743979', '...</td>\n",
       "      <td>{'Toys &amp; Games': 110575}</td>\n",
       "      <td>[[Health &amp; Personal Care, Personal Care, Shavi...</td>\n",
       "      <td>34.99</td>\n",
       "      <td>NaN</td>\n",
       "    </tr>\n",
       "    <tr>\n",
       "      <th>3</th>\n",
       "      <td>0615315860</td>\n",
       "      <td>NaN</td>\n",
       "      <td>101 BlenderBottle Recipes Quick and Easy</td>\n",
       "      <td>http://ecx.images-amazon.com/images/I/21zOQu2Q...</td>\n",
       "      <td>{'also_bought': ['B006VT9RBM', 'B0010JLMO8', '...</td>\n",
       "      <td>{'Health &amp; Personal Care': 254068}</td>\n",
       "      <td>[[Health &amp; Personal Care]]</td>\n",
       "      <td>NaN</td>\n",
       "      <td>NaN</td>\n",
       "    </tr>\n",
       "    <tr>\n",
       "      <th>4</th>\n",
       "      <td>0615406394</td>\n",
       "      <td>This is an example product description.</td>\n",
       "      <td>Aphrodite Reborn - Women's Stories of Hope, Co...</td>\n",
       "      <td>http://ecx.images-amazon.com/images/I/51rJLgsi...</td>\n",
       "      <td>{'also_bought': ['0966035232', '1421407205']}</td>\n",
       "      <td>{'Health &amp; Personal Care': 377936}</td>\n",
       "      <td>[[Health &amp; Personal Care]]</td>\n",
       "      <td>NaN</td>\n",
       "      <td>NaN</td>\n",
       "    </tr>\n",
       "  </tbody>\n",
       "</table>\n",
       "</div>"
      ],
      "text/plain": [
       "         asin                                        description  \\\n",
       "0  0077614992            This is an example product description.   \n",
       "1  0615208479  By now we all know the benefits of exercise fo...   \n",
       "2  0615269990  What's wrong with your patient?Do all the symp...   \n",
       "3  0615315860                                                NaN   \n",
       "4  0615406394            This is an example product description.   \n",
       "\n",
       "                                               title  \\\n",
       "0            Principles of Mgmt + Oper-CSUF Custom C   \n",
       "1                   Brain Fitness Exercises Software   \n",
       "2                                      Occam's Razor   \n",
       "3           101 BlenderBottle Recipes Quick and Easy   \n",
       "4  Aphrodite Reborn - Women's Stories of Hope, Co...   \n",
       "\n",
       "                                               imUrl  \\\n",
       "0  http://ecx.images-amazon.com/images/I/51G%2BRq...   \n",
       "1  http://ecx.images-amazon.com/images/I/41kbZB04...   \n",
       "2  http://ecx.images-amazon.com/images/I/51fH-ABe...   \n",
       "3  http://ecx.images-amazon.com/images/I/21zOQu2Q...   \n",
       "4  http://ecx.images-amazon.com/images/I/51rJLgsi...   \n",
       "\n",
       "                                             related  \\\n",
       "0  {'also_bought': ['0471730726', '0132834871', '...   \n",
       "1                                                NaN   \n",
       "2  {'also_bought': ['1935660152', '0071743979', '...   \n",
       "3  {'also_bought': ['B006VT9RBM', 'B0010JLMO8', '...   \n",
       "4      {'also_bought': ['0966035232', '1421407205']}   \n",
       "\n",
       "                             salesRank  \\\n",
       "0   {'Health & Personal Care': 168429}   \n",
       "1  {'Health & Personal Care': 1346973}   \n",
       "2             {'Toys & Games': 110575}   \n",
       "3   {'Health & Personal Care': 254068}   \n",
       "4   {'Health & Personal Care': 377936}   \n",
       "\n",
       "                                          categories  price brand  \n",
       "0                         [[Health & Personal Care]]    NaN   NaN  \n",
       "1          [[Health & Personal Care, Personal Care]]    NaN   NaN  \n",
       "2  [[Health & Personal Care, Personal Care, Shavi...  34.99   NaN  \n",
       "3                         [[Health & Personal Care]]    NaN   NaN  \n",
       "4                         [[Health & Personal Care]]    NaN   NaN  "
      ]
     },
     "execution_count": 12,
     "metadata": {},
     "output_type": "execute_result"
    }
   ],
   "source": [
    "df_health_meta.head()"
   ]
  },
  {
   "cell_type": "code",
   "execution_count": 13,
   "metadata": {},
   "outputs": [
    {
     "data": {
      "text/html": [
       "<div>\n",
       "<style scoped>\n",
       "    .dataframe tbody tr th:only-of-type {\n",
       "        vertical-align: middle;\n",
       "    }\n",
       "\n",
       "    .dataframe tbody tr th {\n",
       "        vertical-align: top;\n",
       "    }\n",
       "\n",
       "    .dataframe thead th {\n",
       "        text-align: right;\n",
       "    }\n",
       "</style>\n",
       "<table border=\"1\" class=\"dataframe\">\n",
       "  <thead>\n",
       "    <tr style=\"text-align: right;\">\n",
       "      <th></th>\n",
       "      <th>asin</th>\n",
       "      <th>title</th>\n",
       "      <th>price</th>\n",
       "      <th>imUrl</th>\n",
       "      <th>related</th>\n",
       "      <th>brand</th>\n",
       "      <th>categories</th>\n",
       "      <th>salesRank</th>\n",
       "      <th>description</th>\n",
       "    </tr>\n",
       "  </thead>\n",
       "  <tbody>\n",
       "    <tr>\n",
       "      <th>0</th>\n",
       "      <td>0000032069</td>\n",
       "      <td>Adult Ballet Tutu Cheetah Pink</td>\n",
       "      <td>7.89</td>\n",
       "      <td>http://ecx.images-amazon.com/images/I/51EzU6qu...</td>\n",
       "      <td>{'also_bought': ['0000032050', 'B00D0DJAEG', '...</td>\n",
       "      <td>BubuBibi</td>\n",
       "      <td>[[Sports &amp; Outdoors, Other Sports, Dance, Clot...</td>\n",
       "      <td>NaN</td>\n",
       "      <td>NaN</td>\n",
       "    </tr>\n",
       "    <tr>\n",
       "      <th>1</th>\n",
       "      <td>0000031909</td>\n",
       "      <td>Girls Ballet Tutu Neon Pink</td>\n",
       "      <td>7.00</td>\n",
       "      <td>http://ecx.images-amazon.com/images/I/41xBoP0F...</td>\n",
       "      <td>{'also_bought': ['B002BZX8Z6', 'B00JHONN1S', '...</td>\n",
       "      <td>Unknown</td>\n",
       "      <td>[[Sports &amp; Outdoors, Other Sports, Dance]]</td>\n",
       "      <td>{'Toys &amp; Games': 201847}</td>\n",
       "      <td>High quality 3 layer ballet tutu. 12 inches in...</td>\n",
       "    </tr>\n",
       "    <tr>\n",
       "      <th>2</th>\n",
       "      <td>0000032034</td>\n",
       "      <td>Adult Ballet Tutu Yellow</td>\n",
       "      <td>7.87</td>\n",
       "      <td>http://ecx.images-amazon.com/images/I/21GNUNIa...</td>\n",
       "      <td>{'also_bought': ['B00D2JSRFQ', '0000032042', '...</td>\n",
       "      <td>BubuBibi</td>\n",
       "      <td>[[Sports &amp; Outdoors, Other Sports, Dance, Clot...</td>\n",
       "      <td>NaN</td>\n",
       "      <td>NaN</td>\n",
       "    </tr>\n",
       "    <tr>\n",
       "      <th>3</th>\n",
       "      <td>0000031852</td>\n",
       "      <td>Girls Ballet Tutu Zebra Hot Pink</td>\n",
       "      <td>3.17</td>\n",
       "      <td>http://ecx.images-amazon.com/images/I/51fAmVkT...</td>\n",
       "      <td>{'also_bought': ['B00JHONN1S', 'B002BZX8Z6', '...</td>\n",
       "      <td>Coxlures</td>\n",
       "      <td>[[Sports &amp; Outdoors, Other Sports, Dance]]</td>\n",
       "      <td>{'Toys &amp; Games': 211836}</td>\n",
       "      <td>TUtu</td>\n",
       "    </tr>\n",
       "    <tr>\n",
       "      <th>4</th>\n",
       "      <td>0000032050</td>\n",
       "      <td>Adult Ballet Tutu Purple</td>\n",
       "      <td>12.85</td>\n",
       "      <td>http://ecx.images-amazon.com/images/I/41TxNYG8...</td>\n",
       "      <td>{'also_bought': ['B00D2JSRFQ', 'B00D2JTMS2', '...</td>\n",
       "      <td>BubuBibi</td>\n",
       "      <td>[[Sports &amp; Outdoors, Other Sports, Dance, Clot...</td>\n",
       "      <td>NaN</td>\n",
       "      <td>NaN</td>\n",
       "    </tr>\n",
       "  </tbody>\n",
       "</table>\n",
       "</div>"
      ],
      "text/plain": [
       "         asin                             title  price  \\\n",
       "0  0000032069    Adult Ballet Tutu Cheetah Pink   7.89   \n",
       "1  0000031909       Girls Ballet Tutu Neon Pink   7.00   \n",
       "2  0000032034          Adult Ballet Tutu Yellow   7.87   \n",
       "3  0000031852  Girls Ballet Tutu Zebra Hot Pink   3.17   \n",
       "4  0000032050          Adult Ballet Tutu Purple  12.85   \n",
       "\n",
       "                                               imUrl  \\\n",
       "0  http://ecx.images-amazon.com/images/I/51EzU6qu...   \n",
       "1  http://ecx.images-amazon.com/images/I/41xBoP0F...   \n",
       "2  http://ecx.images-amazon.com/images/I/21GNUNIa...   \n",
       "3  http://ecx.images-amazon.com/images/I/51fAmVkT...   \n",
       "4  http://ecx.images-amazon.com/images/I/41TxNYG8...   \n",
       "\n",
       "                                             related     brand  \\\n",
       "0  {'also_bought': ['0000032050', 'B00D0DJAEG', '...  BubuBibi   \n",
       "1  {'also_bought': ['B002BZX8Z6', 'B00JHONN1S', '...   Unknown   \n",
       "2  {'also_bought': ['B00D2JSRFQ', '0000032042', '...  BubuBibi   \n",
       "3  {'also_bought': ['B00JHONN1S', 'B002BZX8Z6', '...  Coxlures   \n",
       "4  {'also_bought': ['B00D2JSRFQ', 'B00D2JTMS2', '...  BubuBibi   \n",
       "\n",
       "                                          categories  \\\n",
       "0  [[Sports & Outdoors, Other Sports, Dance, Clot...   \n",
       "1         [[Sports & Outdoors, Other Sports, Dance]]   \n",
       "2  [[Sports & Outdoors, Other Sports, Dance, Clot...   \n",
       "3         [[Sports & Outdoors, Other Sports, Dance]]   \n",
       "4  [[Sports & Outdoors, Other Sports, Dance, Clot...   \n",
       "\n",
       "                  salesRank                                        description  \n",
       "0                       NaN                                                NaN  \n",
       "1  {'Toys & Games': 201847}  High quality 3 layer ballet tutu. 12 inches in...  \n",
       "2                       NaN                                                NaN  \n",
       "3  {'Toys & Games': 211836}                                               TUtu  \n",
       "4                       NaN                                                NaN  "
      ]
     },
     "execution_count": 13,
     "metadata": {},
     "output_type": "execute_result"
    }
   ],
   "source": [
    "df_sports_meta.head()"
   ]
  },
  {
   "cell_type": "markdown",
   "metadata": {},
   "source": [
    "2.2  Discard several uninterested columns\n",
    "\n",
    "We discard **description & imUrl** "
   ]
  },
  {
   "cell_type": "code",
   "execution_count": 10,
   "metadata": {},
   "outputs": [],
   "source": [
    "df_health_meta = df_health_meta.drop(['description','imUrl'],axis=1)\n",
    "df_sports_meta = df_sports_meta.drop(['description','imUrl'],axis=1)"
   ]
  },
  {
   "cell_type": "markdown",
   "metadata": {},
   "source": [
    "2.3  Check if there exits NaN Value in the DataFrame"
   ]
  },
  {
   "cell_type": "markdown",
   "metadata": {},
   "source": [
    "For Health & Care meta data"
   ]
  },
  {
   "cell_type": "code",
   "execution_count": 11,
   "metadata": {},
   "outputs": [
    {
     "name": "stdout",
     "output_type": "stream",
     "text": [
      "Check if column asin exists Nan value: False\n",
      "Check if column title exists Nan value: True\n",
      "Check if column related exists Nan value: True\n",
      "Check if column salesRank exists Nan value: True\n",
      "Check if column categories exists Nan value: False\n",
      "Check if column price exists Nan value: True\n",
      "Check if column brand exists Nan value: True\n"
     ]
    }
   ],
   "source": [
    "list_Nancolumns = checkDataframeNanValue(df_health_meta)"
   ]
  },
  {
   "cell_type": "markdown",
   "metadata": {},
   "source": [
    "For Sports & Outdoors meta data"
   ]
  },
  {
   "cell_type": "code",
   "execution_count": 12,
   "metadata": {},
   "outputs": [
    {
     "name": "stdout",
     "output_type": "stream",
     "text": [
      "Check if column asin exists Nan value: False\n",
      "Check if column title exists Nan value: True\n",
      "Check if column price exists Nan value: True\n",
      "Check if column related exists Nan value: True\n",
      "Check if column brand exists Nan value: True\n",
      "Check if column categories exists Nan value: False\n",
      "Check if column salesRank exists Nan value: True\n"
     ]
    }
   ],
   "source": [
    "list_Nancolumns = checkDataframeNanValue(df_sports_meta)"
   ]
  },
  {
   "cell_type": "markdown",
   "metadata": {},
   "source": [
    "2.4  Replace Nan value by 0\n",
    "\n",
    "According to the result above, we know that some columns exists Nan value. Thus, we decide to only replace column 'price '**Nan** values as **0**. As for NAN value in other columns ( 'brand','salesRank' and 'related' ), we will process them later according to the data analysis."
   ]
  },
  {
   "cell_type": "code",
   "execution_count": 13,
   "metadata": {},
   "outputs": [],
   "source": [
    "# for column in list_Nancolumns:\n",
    "#     df_health_meta[column] = df_health_meta[column].fillna(0)\n",
    "df_health_meta['price'] = df_health_meta['price'].fillna(0)\n",
    "df_sports_meta['price'] = df_sports_meta['price'].fillna(0)"
   ]
  },
  {
   "cell_type": "markdown",
   "metadata": {},
   "source": [
    "2.5 Only keep relevant products and discard all the products of other categories\n",
    "\n",
    "In Health & Care meta data, we put emphasis on Health & Personal Care products.\n",
    "Therefore, we **drop all columns that is not relevant with Health & Personal Care** from the dataset with the help of the attribute **category**."
   ]
  },
  {
   "cell_type": "code",
   "execution_count": 14,
   "metadata": {},
   "outputs": [
    {
     "data": {
      "text/plain": [
       "0                                                                             [[Health & Personal Care]]\n",
       "1                                                              [[Health & Personal Care, Personal Care]]\n",
       "2                      [[Health & Personal Care, Personal Care, Shaving & Hair Removal, Manual Shaving]]\n",
       "3                                                                             [[Health & Personal Care]]\n",
       "4                                                                             [[Health & Personal Care]]\n",
       "5                                                                             [[Health & Personal Care]]\n",
       "6                                   [[Health & Personal Care, Personal Care, Eye Care, Reading Glasses]]\n",
       "7    [[Health & Personal Care, Medical Supplies & Equipment, Daily Living Aids, Visual Impairment Aid...\n",
       "8    [[Health & Personal Care, Medical Supplies & Equipment, Daily Living Aids, Low Strength Aids, Gr...\n",
       "9         [[Health & Personal Care, Stationery & Party Supplies, Stationery, Letter Writing Stationery]]\n",
       "Name: categories, dtype: object"
      ]
     },
     "execution_count": 14,
     "metadata": {},
     "output_type": "execute_result"
    }
   ],
   "source": [
    "# View the categories in Health & Care meta data\n",
    "pd.set_option('max_colwidth',100)\n",
    "df_health_meta['categories'][:10]"
   ]
  },
  {
   "cell_type": "code",
   "execution_count": 15,
   "metadata": {},
   "outputs": [
    {
     "data": {
      "text/plain": [
       "Health & Personal Care       262317\n",
       "CDs & Vinyl                     445\n",
       "Sports & Outdoors               170\n",
       "Automotive                       31\n",
       "Cell Phones & Accessories        21\n",
       "Home & Kitchen                   15\n",
       "Baby Products                    11\n",
       "Electronics                       9\n",
       "Tools & Home Improvement          6\n",
       "Office Products                   5\n",
       "Books                             2\n",
       "Name: categories, dtype: int64"
      ]
     },
     "execution_count": 15,
     "metadata": {},
     "output_type": "execute_result"
    }
   ],
   "source": [
    "# Group the categories and get their counts\n",
    "df_health_meta['categories'].apply(lambda x : x[0][0]).value_counts()"
   ]
  },
  {
   "cell_type": "code",
   "execution_count": 16,
   "metadata": {},
   "outputs": [
    {
     "data": {
      "text/plain": [
       "Health & Personal Care    262317\n",
       "Name: categories, dtype: int64"
      ]
     },
     "execution_count": 16,
     "metadata": {},
     "output_type": "execute_result"
    }
   ],
   "source": [
    "# Delete product of other categories\n",
    "rows_to_delete = []\n",
    "for idx, categories in enumerate(df_health_meta['categories']):\n",
    "    if categories[0][0] != 'Health & Personal Care':\n",
    "        rows_to_delete.append(idx)\n",
    "\n",
    "df_health_meta = df_health_meta.drop(df_health_meta.index[rows_to_delete])\n",
    "# View size of remaining data \n",
    "df_health_meta['categories'].apply(lambda x : x[0][0]).value_counts()"
   ]
  },
  {
   "cell_type": "markdown",
   "metadata": {},
   "source": [
    "In Sports & Outdoors meta data, we put emphasis on Sports & Outdoors products.\n",
    "Therefore, we **drop all columns that is not relevant with Sports & Outdoors** from the dataset with the help of the attribute **category**."
   ]
  },
  {
   "cell_type": "code",
   "execution_count": 17,
   "metadata": {},
   "outputs": [
    {
     "data": {
      "text/plain": [
       "0                         [[Sports & Outdoors, Other Sports, Dance, Clothing, Girls, Skirts]]\n",
       "1                                                  [[Sports & Outdoors, Other Sports, Dance]]\n",
       "2                         [[Sports & Outdoors, Other Sports, Dance, Clothing, Girls, Skirts]]\n",
       "3                                                  [[Sports & Outdoors, Other Sports, Dance]]\n",
       "4                         [[Sports & Outdoors, Other Sports, Dance, Clothing, Girls, Skirts]]\n",
       "5                                                  [[Sports & Outdoors, Other Sports, Dance]]\n",
       "6                                    [[Sports & Outdoors, Accessories, Sports Water Bottles]]\n",
       "7                  [[Sports & Outdoors, Hunting & Fishing, Tactical & Duty, Tactical Knives]]\n",
       "8    [[Sports & Outdoors, Outdoor Gear, Camping & Hiking, Backpacks & Bags, Hiking Daypacks]]\n",
       "9                     [[Sports & Outdoors, Outdoor Gear, Camping & Hiking, Topographic Maps]]\n",
       "Name: categories, dtype: object"
      ]
     },
     "execution_count": 17,
     "metadata": {},
     "output_type": "execute_result"
    }
   ],
   "source": [
    "# View the categories in Sports & Outdoors meta data\n",
    "df_sports_meta['categories'][:10]"
   ]
  },
  {
   "cell_type": "code",
   "execution_count": 18,
   "metadata": {},
   "outputs": [
    {
     "data": {
      "text/plain": [
       "Sports & Outdoors            529989\n",
       "Cell Phones & Accessories       818\n",
       "CDs & Vinyl                     592\n",
       "Automotive                      377\n",
       "Home & Kitchen                  139\n",
       "Electronics                     113\n",
       "Tools & Home Improvement         49\n",
       "Movies & TV                      47\n",
       "Clothing, Shoes & Jewelry        24\n",
       "Software                         17\n",
       "Patio, Lawn & Garden             11\n",
       "Office Products                  11\n",
       "Health & Personal Care            3\n",
       "Books                             3\n",
       "Baby Products                     1\n",
       "Industrial & Scientific           1\n",
       "Musical Instruments               1\n",
       "Magazine Subscriptions            1\n",
       "Name: categories, dtype: int64"
      ]
     },
     "execution_count": 18,
     "metadata": {},
     "output_type": "execute_result"
    }
   ],
   "source": [
    "# Group the categories and get their counts\n",
    "df_sports_meta['categories'].apply(lambda x : x[0][0]).value_counts()"
   ]
  },
  {
   "cell_type": "code",
   "execution_count": 19,
   "metadata": {},
   "outputs": [
    {
     "data": {
      "text/plain": [
       "Sports & Outdoors    529989\n",
       "Name: categories, dtype: int64"
      ]
     },
     "execution_count": 19,
     "metadata": {},
     "output_type": "execute_result"
    }
   ],
   "source": [
    "# Delete product of other categories\n",
    "rows_to_delete2 = []\n",
    "for idx, categories in enumerate(df_sports_meta['categories']):\n",
    "    if categories[0][0] != 'Sports & Outdoors':\n",
    "        rows_to_delete2.append(idx)\n",
    "\n",
    "df_sports_meta = df_sports_meta.drop(df_sports_meta.index[rows_to_delete2])\n",
    "# View size of remaining data \n",
    "df_sports_meta['categories'].apply(lambda x : x[0][0]).value_counts()"
   ]
  },
  {
   "cell_type": "markdown",
   "metadata": {},
   "source": [
    "2.6 Set asin as index"
   ]
  },
  {
   "cell_type": "code",
   "execution_count": null,
   "metadata": {},
   "outputs": [],
   "source": [
    "# Check if asin is unique in meta data\n",
    "print(\"The asin in health&care meta data is unique: {u}\".format(u = df_health_meta['asin'].is_unique))"
   ]
  },
  {
   "cell_type": "code",
   "execution_count": 21,
   "metadata": {},
   "outputs": [
    {
     "data": {
      "text/plain": [
       "True"
      ]
     },
     "execution_count": 21,
     "metadata": {},
     "output_type": "execute_result"
    }
   ],
   "source": [
    "print(\"The asin in sports&outdoors meta data is unique: {u}\".format(u = df_sports_meta['asin'].is_unique))"
   ]
  },
  {
   "cell_type": "code",
   "execution_count": 22,
   "metadata": {},
   "outputs": [],
   "source": [
    "df_health_meta = df_health_meta.set_index(['asin'])\n",
    "df_sports_meta =df_sports_meta.set_index(['asin'])"
   ]
  },
  {
   "cell_type": "markdown",
   "metadata": {},
   "source": [
    "2.7 Generate pickle file"
   ]
  },
  {
   "cell_type": "code",
   "execution_count": 23,
   "metadata": {},
   "outputs": [],
   "source": [
    "df_health_meta.to_pickle('health_metadata.pkl')\n",
    "df_sports_meta.to_pickle('sports_metadata.pkl')"
   ]
  },
  {
   "cell_type": "markdown",
   "metadata": {},
   "source": [
    "2.8 Get the products' asin."
   ]
  },
  {
   "cell_type": "code",
   "execution_count": 14,
   "metadata": {},
   "outputs": [],
   "source": [
    "df_health_meta = pd.read_pickle('health_metadata.pkl')\n",
    "df_sports_meta = pd.read_pickle('sports_metadata.pkl')"
   ]
  },
  {
   "cell_type": "code",
   "execution_count": 15,
   "metadata": {},
   "outputs": [],
   "source": [
    "health_asin = df_health_meta.index.values\n",
    "sports_asin = df_sports_meta.index.values"
   ]
  },
  {
   "cell_type": "markdown",
   "metadata": {},
   "source": [
    "### 3. Health&Care reviews\n",
    "In this part, we begin to turn our attention to Health&Care review dataset."
   ]
  },
  {
   "cell_type": "markdown",
   "metadata": {},
   "source": [
    "3.1 Import Health&Care reviews"
   ]
  },
  {
   "cell_type": "code",
   "execution_count": 27,
   "metadata": {
    "scrolled": true
   },
   "outputs": [],
   "source": [
    "# Read from compressed data\n",
    "df_health_review = getDF(DATA_FOLDER + REVIEWS_HEALTH_CARE)\n",
    "df_sports_review = getDF(DATA_FOLDER + REVIEWS_SPORTS_OUTDOORS)"
   ]
  },
  {
   "cell_type": "code",
   "execution_count": null,
   "metadata": {},
   "outputs": [],
   "source": [
    "df_health_review_org = df_health_review.copy()\n",
    "df_sports_review_org = df_sports_review.copy()\n",
    "# Generate pickle for origin review data\n",
    "df_health_review.to_pickle('health_review_org.pkl')\n",
    "df_sports_review.to_pickle('sports_review_org.pkl')"
   ]
  },
  {
   "cell_type": "code",
   "execution_count": 18,
   "metadata": {},
   "outputs": [],
   "source": [
    "# Read from pickle\n",
    "# df_health_review_org = pd.read_pickle('health_review_org.pkl')\n",
    "# df_sports_review_org = pd.read_pickle('sports_review_org.pkl')\n",
    "\n",
    "# df_health_review = df_health_review_org.copy()\n",
    "# df_sports_review = df_sports_review_org.copy()"
   ]
  },
  {
   "cell_type": "code",
   "execution_count": 19,
   "metadata": {},
   "outputs": [
    {
     "data": {
      "text/html": [
       "<div>\n",
       "<style scoped>\n",
       "    .dataframe tbody tr th:only-of-type {\n",
       "        vertical-align: middle;\n",
       "    }\n",
       "\n",
       "    .dataframe tbody tr th {\n",
       "        vertical-align: top;\n",
       "    }\n",
       "\n",
       "    .dataframe thead th {\n",
       "        text-align: right;\n",
       "    }\n",
       "</style>\n",
       "<table border=\"1\" class=\"dataframe\">\n",
       "  <thead>\n",
       "    <tr style=\"text-align: right;\">\n",
       "      <th></th>\n",
       "      <th>asin</th>\n",
       "      <th>helpful</th>\n",
       "      <th>overall</th>\n",
       "      <th>reviewText</th>\n",
       "      <th>reviewTime</th>\n",
       "      <th>reviewerID</th>\n",
       "      <th>reviewerName</th>\n",
       "      <th>summary</th>\n",
       "      <th>unixReviewTime</th>\n",
       "    </tr>\n",
       "  </thead>\n",
       "  <tbody>\n",
       "    <tr>\n",
       "      <th>0</th>\n",
       "      <td>0077614992</td>\n",
       "      <td>[0, 0]</td>\n",
       "      <td>5</td>\n",
       "      <td>This book was a requirement for a college clas...</td>\n",
       "      <td>02 15, 2013</td>\n",
       "      <td>ARMDSTEI0Z7YW</td>\n",
       "      <td>dodo</td>\n",
       "      <td>great</td>\n",
       "      <td>1360886400</td>\n",
       "    </tr>\n",
       "    <tr>\n",
       "      <th>1</th>\n",
       "      <td>0615208479</td>\n",
       "      <td>[0, 0]</td>\n",
       "      <td>5</td>\n",
       "      <td>This is a great gift for anyone who wants to h...</td>\n",
       "      <td>12 1, 2008</td>\n",
       "      <td>A3FYN0SZYWN74</td>\n",
       "      <td>Marilyn Mitzel</td>\n",
       "      <td>AMAZING HOW QUICKLY IT WORKS!</td>\n",
       "      <td>1228089600</td>\n",
       "    </tr>\n",
       "    <tr>\n",
       "      <th>2</th>\n",
       "      <td>0615269990</td>\n",
       "      <td>[0, 0]</td>\n",
       "      <td>5</td>\n",
       "      <td>Very helpful in learning about different disea...</td>\n",
       "      <td>04 6, 2014</td>\n",
       "      <td>A2J0WRZSAAHUAP</td>\n",
       "      <td>icu-rn</td>\n",
       "      <td>Must have</td>\n",
       "      <td>1396742400</td>\n",
       "    </tr>\n",
       "    <tr>\n",
       "      <th>3</th>\n",
       "      <td>0615269990</td>\n",
       "      <td>[1, 1]</td>\n",
       "      <td>5</td>\n",
       "      <td>Occam's Razor is an unbelievably intuitive and...</td>\n",
       "      <td>12 4, 2013</td>\n",
       "      <td>A38RKP6G5P8J63</td>\n",
       "      <td>JOSEPH A WONG</td>\n",
       "      <td>Occam's Razor, a game for all ages and backgro...</td>\n",
       "      <td>1386115200</td>\n",
       "    </tr>\n",
       "    <tr>\n",
       "      <th>4</th>\n",
       "      <td>0615269990</td>\n",
       "      <td>[0, 0]</td>\n",
       "      <td>2</td>\n",
       "      <td>I met the guys from Nerdcore at a medical conf...</td>\n",
       "      <td>04 24, 2014</td>\n",
       "      <td>ARENM677YXZKX</td>\n",
       "      <td>Sonny Patel</td>\n",
       "      <td>Very limited utility</td>\n",
       "      <td>1398297600</td>\n",
       "    </tr>\n",
       "  </tbody>\n",
       "</table>\n",
       "</div>"
      ],
      "text/plain": [
       "         asin helpful  overall  \\\n",
       "0  0077614992  [0, 0]        5   \n",
       "1  0615208479  [0, 0]        5   \n",
       "2  0615269990  [0, 0]        5   \n",
       "3  0615269990  [1, 1]        5   \n",
       "4  0615269990  [0, 0]        2   \n",
       "\n",
       "                                          reviewText   reviewTime  \\\n",
       "0  This book was a requirement for a college clas...  02 15, 2013   \n",
       "1  This is a great gift for anyone who wants to h...   12 1, 2008   \n",
       "2  Very helpful in learning about different disea...   04 6, 2014   \n",
       "3  Occam's Razor is an unbelievably intuitive and...   12 4, 2013   \n",
       "4  I met the guys from Nerdcore at a medical conf...  04 24, 2014   \n",
       "\n",
       "       reviewerID    reviewerName  \\\n",
       "0   ARMDSTEI0Z7YW            dodo   \n",
       "1   A3FYN0SZYWN74  Marilyn Mitzel   \n",
       "2  A2J0WRZSAAHUAP          icu-rn   \n",
       "3  A38RKP6G5P8J63   JOSEPH A WONG   \n",
       "4   ARENM677YXZKX     Sonny Patel   \n",
       "\n",
       "                                             summary  unixReviewTime  \n",
       "0                                              great      1360886400  \n",
       "1                      AMAZING HOW QUICKLY IT WORKS!      1228089600  \n",
       "2                                          Must have      1396742400  \n",
       "3  Occam's Razor, a game for all ages and backgro...      1386115200  \n",
       "4                               Very limited utility      1398297600  "
      ]
     },
     "execution_count": 19,
     "metadata": {},
     "output_type": "execute_result"
    }
   ],
   "source": [
    "df_health_review.head()"
   ]
  },
  {
   "cell_type": "code",
   "execution_count": 20,
   "metadata": {},
   "outputs": [
    {
     "data": {
      "text/html": [
       "<div>\n",
       "<style scoped>\n",
       "    .dataframe tbody tr th:only-of-type {\n",
       "        vertical-align: middle;\n",
       "    }\n",
       "\n",
       "    .dataframe tbody tr th {\n",
       "        vertical-align: top;\n",
       "    }\n",
       "\n",
       "    .dataframe thead th {\n",
       "        text-align: right;\n",
       "    }\n",
       "</style>\n",
       "<table border=\"1\" class=\"dataframe\">\n",
       "  <thead>\n",
       "    <tr style=\"text-align: right;\">\n",
       "      <th></th>\n",
       "      <th>asin</th>\n",
       "      <th>helpful</th>\n",
       "      <th>overall</th>\n",
       "      <th>reviewText</th>\n",
       "      <th>reviewTime</th>\n",
       "      <th>reviewerID</th>\n",
       "      <th>reviewerName</th>\n",
       "      <th>summary</th>\n",
       "      <th>unixReviewTime</th>\n",
       "    </tr>\n",
       "  </thead>\n",
       "  <tbody>\n",
       "    <tr>\n",
       "      <th>0</th>\n",
       "      <td>0000031852</td>\n",
       "      <td>[0, 0]</td>\n",
       "      <td>4</td>\n",
       "      <td>Tutus are cute but a little thin. Can't compla...</td>\n",
       "      <td>12 29, 2013</td>\n",
       "      <td>A3PMSRCL80KSA1</td>\n",
       "      <td>Dee</td>\n",
       "      <td>Not bad</td>\n",
       "      <td>1388275200</td>\n",
       "    </tr>\n",
       "    <tr>\n",
       "      <th>1</th>\n",
       "      <td>0000031852</td>\n",
       "      <td>[0, 0]</td>\n",
       "      <td>4</td>\n",
       "      <td>I origonally didn't get the item I ordered.  W...</td>\n",
       "      <td>02 21, 2014</td>\n",
       "      <td>A1SNLWGLFXD70K</td>\n",
       "      <td>DEVA</td>\n",
       "      <td>Happy with purchase even though it came a lot ...</td>\n",
       "      <td>1392940800</td>\n",
       "    </tr>\n",
       "    <tr>\n",
       "      <th>2</th>\n",
       "      <td>0000031852</td>\n",
       "      <td>[0, 0]</td>\n",
       "      <td>4</td>\n",
       "      <td>Arrived very timely, cute grandbaby loves it. ...</td>\n",
       "      <td>01 14, 2014</td>\n",
       "      <td>A1KJ4CVG87QW09</td>\n",
       "      <td>Donna Carter-Scott</td>\n",
       "      <td>Cute Tutu</td>\n",
       "      <td>1389657600</td>\n",
       "    </tr>\n",
       "    <tr>\n",
       "      <th>3</th>\n",
       "      <td>0000031852</td>\n",
       "      <td>[0, 0]</td>\n",
       "      <td>5</td>\n",
       "      <td>My little girl just loves to wear this tutu be...</td>\n",
       "      <td>05 8, 2014</td>\n",
       "      <td>AA9ITO6ZLZW6</td>\n",
       "      <td>Jazzy77</td>\n",
       "      <td>Versatile</td>\n",
       "      <td>1399507200</td>\n",
       "    </tr>\n",
       "    <tr>\n",
       "      <th>4</th>\n",
       "      <td>0000031852</td>\n",
       "      <td>[0, 0]</td>\n",
       "      <td>1</td>\n",
       "      <td>I bought this for my 3 yr old daughter when I ...</td>\n",
       "      <td>04 27, 2014</td>\n",
       "      <td>APJ5ULJ1RMZ4</td>\n",
       "      <td>kesha wallace</td>\n",
       "      <td>Would not recommend</td>\n",
       "      <td>1398556800</td>\n",
       "    </tr>\n",
       "  </tbody>\n",
       "</table>\n",
       "</div>"
      ],
      "text/plain": [
       "         asin helpful  overall  \\\n",
       "0  0000031852  [0, 0]        4   \n",
       "1  0000031852  [0, 0]        4   \n",
       "2  0000031852  [0, 0]        4   \n",
       "3  0000031852  [0, 0]        5   \n",
       "4  0000031852  [0, 0]        1   \n",
       "\n",
       "                                          reviewText   reviewTime  \\\n",
       "0  Tutus are cute but a little thin. Can't compla...  12 29, 2013   \n",
       "1  I origonally didn't get the item I ordered.  W...  02 21, 2014   \n",
       "2  Arrived very timely, cute grandbaby loves it. ...  01 14, 2014   \n",
       "3  My little girl just loves to wear this tutu be...   05 8, 2014   \n",
       "4  I bought this for my 3 yr old daughter when I ...  04 27, 2014   \n",
       "\n",
       "       reviewerID        reviewerName  \\\n",
       "0  A3PMSRCL80KSA1                 Dee   \n",
       "1  A1SNLWGLFXD70K                DEVA   \n",
       "2  A1KJ4CVG87QW09  Donna Carter-Scott   \n",
       "3    AA9ITO6ZLZW6             Jazzy77   \n",
       "4    APJ5ULJ1RMZ4       kesha wallace   \n",
       "\n",
       "                                             summary  unixReviewTime  \n",
       "0                                            Not bad      1388275200  \n",
       "1  Happy with purchase even though it came a lot ...      1392940800  \n",
       "2                                          Cute Tutu      1389657600  \n",
       "3                                          Versatile      1399507200  \n",
       "4                                Would not recommend      1398556800  "
      ]
     },
     "execution_count": 20,
     "metadata": {},
     "output_type": "execute_result"
    }
   ],
   "source": [
    "df_sports_review.head()"
   ]
  },
  {
   "cell_type": "markdown",
   "metadata": {},
   "source": [
    "In the review dataset, there are nine columns. \n",
    "\n",
    "**reviewerID** and **reviewName** are unrelated to our projects, we choose to delete them. \n",
    "\n",
    "Also, we notice there are two attributes about time information, **unixReviewTime** which is only numbers and the format of **reviewTime** is not good for view and we don't know whether they are in one time zone, so we decide to keep **unixReviewTime**"
   ]
  },
  {
   "cell_type": "markdown",
   "metadata": {},
   "source": [
    "3.2  Discard uninterested columns"
   ]
  },
  {
   "cell_type": "code",
   "execution_count": 21,
   "metadata": {},
   "outputs": [],
   "source": [
    "df_health_review = df_health_review.drop(['reviewerID','reviewerName','reviewTime','summary'],axis=1)\n",
    "df_sports_review = df_sports_review.drop(['reviewerID','reviewerName','reviewTime','summary'],axis=1)"
   ]
  },
  {
   "cell_type": "markdown",
   "metadata": {},
   "source": [
    "3.3 Change date format to standard datetime\n",
    "\n",
    "We convert the unix time format into date time format."
   ]
  },
  {
   "cell_type": "code",
   "execution_count": 22,
   "metadata": {},
   "outputs": [],
   "source": [
    "df_health_review['unixReviewTime'] = pd.to_datetime(df_health_review['unixReviewTime'],unit='s')\n",
    "df_sports_review['unixReviewTime'] = pd.to_datetime(df_sports_review['unixReviewTime'],unit='s')"
   ]
  },
  {
   "cell_type": "code",
   "execution_count": 25,
   "metadata": {},
   "outputs": [],
   "source": [
    "# Reset columns name\n",
    "df_health_review.rename(columns={'unixReviewTime':'ReviewTime'},inplace=True)\n",
    "df_sports_review.rename(columns={'unixReviewTime':'ReviewTime'},inplace=True)"
   ]
  },
  {
   "cell_type": "code",
   "execution_count": 27,
   "metadata": {},
   "outputs": [
    {
     "data": {
      "text/html": [
       "<div>\n",
       "<style scoped>\n",
       "    .dataframe tbody tr th:only-of-type {\n",
       "        vertical-align: middle;\n",
       "    }\n",
       "\n",
       "    .dataframe tbody tr th {\n",
       "        vertical-align: top;\n",
       "    }\n",
       "\n",
       "    .dataframe thead th {\n",
       "        text-align: right;\n",
       "    }\n",
       "</style>\n",
       "<table border=\"1\" class=\"dataframe\">\n",
       "  <thead>\n",
       "    <tr style=\"text-align: right;\">\n",
       "      <th></th>\n",
       "      <th>asin</th>\n",
       "      <th>helpful</th>\n",
       "      <th>overall</th>\n",
       "      <th>reviewText</th>\n",
       "      <th>ReviewTime</th>\n",
       "    </tr>\n",
       "  </thead>\n",
       "  <tbody>\n",
       "    <tr>\n",
       "      <th>0</th>\n",
       "      <td>0077614992</td>\n",
       "      <td>[0, 0]</td>\n",
       "      <td>5</td>\n",
       "      <td>This book was a requirement for a college clas...</td>\n",
       "      <td>2013-02-15</td>\n",
       "    </tr>\n",
       "  </tbody>\n",
       "</table>\n",
       "</div>"
      ],
      "text/plain": [
       "         asin helpful  overall  \\\n",
       "0  0077614992  [0, 0]        5   \n",
       "\n",
       "                                          reviewText ReviewTime  \n",
       "0  This book was a requirement for a college clas... 2013-02-15  "
      ]
     },
     "execution_count": 27,
     "metadata": {},
     "output_type": "execute_result"
    }
   ],
   "source": [
    "df_health_review.head(1)"
   ]
  },
  {
   "cell_type": "code",
   "execution_count": 28,
   "metadata": {},
   "outputs": [
    {
     "data": {
      "text/html": [
       "<div>\n",
       "<style scoped>\n",
       "    .dataframe tbody tr th:only-of-type {\n",
       "        vertical-align: middle;\n",
       "    }\n",
       "\n",
       "    .dataframe tbody tr th {\n",
       "        vertical-align: top;\n",
       "    }\n",
       "\n",
       "    .dataframe thead th {\n",
       "        text-align: right;\n",
       "    }\n",
       "</style>\n",
       "<table border=\"1\" class=\"dataframe\">\n",
       "  <thead>\n",
       "    <tr style=\"text-align: right;\">\n",
       "      <th></th>\n",
       "      <th>asin</th>\n",
       "      <th>helpful</th>\n",
       "      <th>overall</th>\n",
       "      <th>reviewText</th>\n",
       "      <th>ReviewTime</th>\n",
       "    </tr>\n",
       "  </thead>\n",
       "  <tbody>\n",
       "    <tr>\n",
       "      <th>0</th>\n",
       "      <td>0000031852</td>\n",
       "      <td>[0, 0]</td>\n",
       "      <td>4</td>\n",
       "      <td>Tutus are cute but a little thin. Can't compla...</td>\n",
       "      <td>2013-12-29</td>\n",
       "    </tr>\n",
       "  </tbody>\n",
       "</table>\n",
       "</div>"
      ],
      "text/plain": [
       "         asin helpful  overall  \\\n",
       "0  0000031852  [0, 0]        4   \n",
       "\n",
       "                                          reviewText ReviewTime  \n",
       "0  Tutus are cute but a little thin. Can't compla... 2013-12-29  "
      ]
     },
     "execution_count": 28,
     "metadata": {},
     "output_type": "execute_result"
    }
   ],
   "source": [
    "df_sports_review.head(1)"
   ]
  },
  {
   "cell_type": "markdown",
   "metadata": {},
   "source": [
    "3.4 Check if there exists Nan Value in the DataFrame\n",
    "\n",
    "The following results show that there isn't any Nan value in the dataframe."
   ]
  },
  {
   "cell_type": "markdown",
   "metadata": {},
   "source": [
    "For Health & Care review data"
   ]
  },
  {
   "cell_type": "code",
   "execution_count": 29,
   "metadata": {},
   "outputs": [
    {
     "name": "stdout",
     "output_type": "stream",
     "text": [
      "Check if column asin exists Nan value: False\n",
      "Check if column helpful exists Nan value: False\n",
      "Check if column overall exists Nan value: False\n",
      "Check if column reviewText exists Nan value: False\n",
      "Check if column ReviewTime exists Nan value: False\n"
     ]
    },
    {
     "data": {
      "text/plain": [
       "[]"
      ]
     },
     "execution_count": 29,
     "metadata": {},
     "output_type": "execute_result"
    }
   ],
   "source": [
    "checkDataframeNanValue(df_health_review)"
   ]
  },
  {
   "cell_type": "markdown",
   "metadata": {},
   "source": [
    "For Sports & Outdoors review data"
   ]
  },
  {
   "cell_type": "code",
   "execution_count": 30,
   "metadata": {},
   "outputs": [
    {
     "name": "stdout",
     "output_type": "stream",
     "text": [
      "Check if column asin exists Nan value: False\n",
      "Check if column helpful exists Nan value: False\n",
      "Check if column overall exists Nan value: False\n",
      "Check if column reviewText exists Nan value: False\n",
      "Check if column ReviewTime exists Nan value: False\n"
     ]
    },
    {
     "data": {
      "text/plain": [
       "[]"
      ]
     },
     "execution_count": 30,
     "metadata": {},
     "output_type": "execute_result"
    }
   ],
   "source": [
    "checkDataframeNanValue(df_sports_review)"
   ]
  },
  {
   "cell_type": "markdown",
   "metadata": {},
   "source": [
    "3.5  Filter out the product using asin which exists in the meta data"
   ]
  },
  {
   "cell_type": "code",
   "execution_count": 35,
   "metadata": {},
   "outputs": [],
   "source": [
    "df_health_review = df_health_review.loc[df_health_review['asin'].isin(health_asin)]\n",
    "df_sports_review = df_sports_review.loc[df_sports_review['asin'].isin(sports_asin)]"
   ]
  },
  {
   "cell_type": "markdown",
   "metadata": {},
   "source": [
    "3.6  Generate pickle file"
   ]
  },
  {
   "cell_type": "code",
   "execution_count": 36,
   "metadata": {},
   "outputs": [],
   "source": [
    "df_health_review.to_pickle('health_review.pkl')"
   ]
  },
  {
   "cell_type": "code",
   "execution_count": 37,
   "metadata": {},
   "outputs": [],
   "source": [
    "df_sports_review.to_pickle('sports_review.pkl')"
   ]
  },
  {
   "cell_type": "markdown",
   "metadata": {},
   "source": [
    "### 4. Merge metadata and review"
   ]
  },
  {
   "cell_type": "markdown",
   "metadata": {},
   "source": [
    "4.1 Load metadata and review of Health & Care and Sports & Outdoors"
   ]
  },
  {
   "cell_type": "code",
   "execution_count": 26,
   "metadata": {},
   "outputs": [],
   "source": [
    "df_health_meta = pd.read_pickle('health_metadata.pkl')\n",
    "df_health_review = pd.read_pickle('health_review.pkl')"
   ]
  },
  {
   "cell_type": "code",
   "execution_count": 3,
   "metadata": {},
   "outputs": [],
   "source": [
    "df_sports_meta = pd.read_pickle('sports_metadata.pkl')\n",
    "df_sports_review = pd.read_pickle('sports_review.pkl')"
   ]
  },
  {
   "cell_type": "markdown",
   "metadata": {},
   "source": [
    "Skim the meta data and review data of Health & Care."
   ]
  },
  {
   "cell_type": "code",
   "execution_count": 42,
   "metadata": {},
   "outputs": [
    {
     "data": {
      "text/html": [
       "<div>\n",
       "<style scoped>\n",
       "    .dataframe tbody tr th:only-of-type {\n",
       "        vertical-align: middle;\n",
       "    }\n",
       "\n",
       "    .dataframe tbody tr th {\n",
       "        vertical-align: top;\n",
       "    }\n",
       "\n",
       "    .dataframe thead th {\n",
       "        text-align: right;\n",
       "    }\n",
       "</style>\n",
       "<table border=\"1\" class=\"dataframe\">\n",
       "  <thead>\n",
       "    <tr style=\"text-align: right;\">\n",
       "      <th></th>\n",
       "      <th>title</th>\n",
       "      <th>related</th>\n",
       "      <th>salesRank</th>\n",
       "      <th>categories</th>\n",
       "      <th>price</th>\n",
       "      <th>brand</th>\n",
       "    </tr>\n",
       "    <tr>\n",
       "      <th>asin</th>\n",
       "      <th></th>\n",
       "      <th></th>\n",
       "      <th></th>\n",
       "      <th></th>\n",
       "      <th></th>\n",
       "      <th></th>\n",
       "    </tr>\n",
       "  </thead>\n",
       "  <tbody>\n",
       "    <tr>\n",
       "      <th>0077614992</th>\n",
       "      <td>Principles of Mgmt + Oper-CSUF Custom C</td>\n",
       "      <td>{'also_bought': ['0471730726', '0132834871', '...</td>\n",
       "      <td>{'Health &amp; Personal Care': 168429}</td>\n",
       "      <td>[[Health &amp; Personal Care]]</td>\n",
       "      <td>0.0</td>\n",
       "      <td>NaN</td>\n",
       "    </tr>\n",
       "  </tbody>\n",
       "</table>\n",
       "</div>"
      ],
      "text/plain": [
       "                                              title  \\\n",
       "asin                                                  \n",
       "0077614992  Principles of Mgmt + Oper-CSUF Custom C   \n",
       "\n",
       "                                                      related  \\\n",
       "asin                                                            \n",
       "0077614992  {'also_bought': ['0471730726', '0132834871', '...   \n",
       "\n",
       "                                     salesRank                  categories  \\\n",
       "asin                                                                         \n",
       "0077614992  {'Health & Personal Care': 168429}  [[Health & Personal Care]]   \n",
       "\n",
       "            price brand  \n",
       "asin                     \n",
       "0077614992    0.0   NaN  "
      ]
     },
     "execution_count": 42,
     "metadata": {},
     "output_type": "execute_result"
    }
   ],
   "source": [
    "df_health_meta.head(1)"
   ]
  },
  {
   "cell_type": "code",
   "execution_count": 43,
   "metadata": {},
   "outputs": [
    {
     "data": {
      "text/html": [
       "<div>\n",
       "<style scoped>\n",
       "    .dataframe tbody tr th:only-of-type {\n",
       "        vertical-align: middle;\n",
       "    }\n",
       "\n",
       "    .dataframe tbody tr th {\n",
       "        vertical-align: top;\n",
       "    }\n",
       "\n",
       "    .dataframe thead th {\n",
       "        text-align: right;\n",
       "    }\n",
       "</style>\n",
       "<table border=\"1\" class=\"dataframe\">\n",
       "  <thead>\n",
       "    <tr style=\"text-align: right;\">\n",
       "      <th></th>\n",
       "      <th>asin</th>\n",
       "      <th>helpful</th>\n",
       "      <th>overall</th>\n",
       "      <th>reviewText</th>\n",
       "      <th>ReviewTime</th>\n",
       "    </tr>\n",
       "  </thead>\n",
       "  <tbody>\n",
       "    <tr>\n",
       "      <th>0</th>\n",
       "      <td>0077614992</td>\n",
       "      <td>[0, 0]</td>\n",
       "      <td>5</td>\n",
       "      <td>This book was a requirement for a college clas...</td>\n",
       "      <td>2013-02-15</td>\n",
       "    </tr>\n",
       "  </tbody>\n",
       "</table>\n",
       "</div>"
      ],
      "text/plain": [
       "         asin helpful  overall  \\\n",
       "0  0077614992  [0, 0]        5   \n",
       "\n",
       "                                          reviewText ReviewTime  \n",
       "0  This book was a requirement for a college clas... 2013-02-15  "
      ]
     },
     "execution_count": 43,
     "metadata": {},
     "output_type": "execute_result"
    }
   ],
   "source": [
    "df_health_review.head(1)"
   ]
  },
  {
   "cell_type": "markdown",
   "metadata": {},
   "source": [
    "Skim the meta data and review data of Sports & Outdoors."
   ]
  },
  {
   "cell_type": "code",
   "execution_count": 44,
   "metadata": {},
   "outputs": [
    {
     "data": {
      "text/html": [
       "<div>\n",
       "<style scoped>\n",
       "    .dataframe tbody tr th:only-of-type {\n",
       "        vertical-align: middle;\n",
       "    }\n",
       "\n",
       "    .dataframe tbody tr th {\n",
       "        vertical-align: top;\n",
       "    }\n",
       "\n",
       "    .dataframe thead th {\n",
       "        text-align: right;\n",
       "    }\n",
       "</style>\n",
       "<table border=\"1\" class=\"dataframe\">\n",
       "  <thead>\n",
       "    <tr style=\"text-align: right;\">\n",
       "      <th></th>\n",
       "      <th>title</th>\n",
       "      <th>price</th>\n",
       "      <th>related</th>\n",
       "      <th>brand</th>\n",
       "      <th>categories</th>\n",
       "      <th>salesRank</th>\n",
       "    </tr>\n",
       "    <tr>\n",
       "      <th>asin</th>\n",
       "      <th></th>\n",
       "      <th></th>\n",
       "      <th></th>\n",
       "      <th></th>\n",
       "      <th></th>\n",
       "      <th></th>\n",
       "    </tr>\n",
       "  </thead>\n",
       "  <tbody>\n",
       "    <tr>\n",
       "      <th>0000032069</th>\n",
       "      <td>Adult Ballet Tutu Cheetah Pink</td>\n",
       "      <td>7.89</td>\n",
       "      <td>{'also_bought': ['0000032050', 'B00D0DJAEG', '...</td>\n",
       "      <td>BubuBibi</td>\n",
       "      <td>[[Sports &amp; Outdoors, Other Sports, Dance, Clot...</td>\n",
       "      <td>NaN</td>\n",
       "    </tr>\n",
       "  </tbody>\n",
       "</table>\n",
       "</div>"
      ],
      "text/plain": [
       "                                     title  price  \\\n",
       "asin                                                \n",
       "0000032069  Adult Ballet Tutu Cheetah Pink   7.89   \n",
       "\n",
       "                                                      related     brand  \\\n",
       "asin                                                                      \n",
       "0000032069  {'also_bought': ['0000032050', 'B00D0DJAEG', '...  BubuBibi   \n",
       "\n",
       "                                                   categories salesRank  \n",
       "asin                                                                     \n",
       "0000032069  [[Sports & Outdoors, Other Sports, Dance, Clot...       NaN  "
      ]
     },
     "execution_count": 44,
     "metadata": {},
     "output_type": "execute_result"
    }
   ],
   "source": [
    "df_sports_meta.head(1)"
   ]
  },
  {
   "cell_type": "code",
   "execution_count": 45,
   "metadata": {},
   "outputs": [
    {
     "data": {
      "text/html": [
       "<div>\n",
       "<style scoped>\n",
       "    .dataframe tbody tr th:only-of-type {\n",
       "        vertical-align: middle;\n",
       "    }\n",
       "\n",
       "    .dataframe tbody tr th {\n",
       "        vertical-align: top;\n",
       "    }\n",
       "\n",
       "    .dataframe thead th {\n",
       "        text-align: right;\n",
       "    }\n",
       "</style>\n",
       "<table border=\"1\" class=\"dataframe\">\n",
       "  <thead>\n",
       "    <tr style=\"text-align: right;\">\n",
       "      <th></th>\n",
       "      <th>asin</th>\n",
       "      <th>helpful</th>\n",
       "      <th>overall</th>\n",
       "      <th>reviewText</th>\n",
       "      <th>ReviewTime</th>\n",
       "    </tr>\n",
       "  </thead>\n",
       "  <tbody>\n",
       "    <tr>\n",
       "      <th>0</th>\n",
       "      <td>0000031852</td>\n",
       "      <td>[0, 0]</td>\n",
       "      <td>4</td>\n",
       "      <td>Tutus are cute but a little thin. Can't compla...</td>\n",
       "      <td>2013-12-29</td>\n",
       "    </tr>\n",
       "  </tbody>\n",
       "</table>\n",
       "</div>"
      ],
      "text/plain": [
       "         asin helpful  overall  \\\n",
       "0  0000031852  [0, 0]        4   \n",
       "\n",
       "                                          reviewText ReviewTime  \n",
       "0  Tutus are cute but a little thin. Can't compla... 2013-12-29  "
      ]
     },
     "execution_count": 45,
     "metadata": {},
     "output_type": "execute_result"
    }
   ],
   "source": [
    "df_sports_review.head(1)"
   ]
  },
  {
   "cell_type": "code",
   "execution_count": 46,
   "metadata": {},
   "outputs": [
    {
     "name": "stdout",
     "output_type": "stream",
     "text": [
      "the shape of df_health_review : (2973186, 5)\n",
      "the shape of df_health_metadata : (262317, 6)\n",
      "the shape of df_sports_metadata : (529989, 6)\n",
      "the shape of df_sports_review : (3241614, 5)\n"
     ]
    }
   ],
   "source": [
    "print(\"the shape of df_health_review : {s}\".format(s=df_health_review.shape))\n",
    "print(\"the shape of df_health_metadata : {s}\".format(s=df_health_meta.shape))\n",
    "print(\"the shape of df_sports_metadata : {s}\".format(s=df_sports_meta.shape))\n",
    "print(\"the shape of df_sports_review : {s}\".format(s=df_sports_review.shape))"
   ]
  },
  {
   "cell_type": "markdown",
   "metadata": {},
   "source": [
    "4.2 Merge metadata and review"
   ]
  },
  {
   "cell_type": "code",
   "execution_count": 51,
   "metadata": {},
   "outputs": [],
   "source": [
    "df_merge_health = df_health_review.merge(df_health_meta, how ='inner', left_on='asin',right_index=True)\n",
    "df_merge_sports = df_sports_review.merge(df_sports_meta, how ='inner', left_on='asin', right_index=True)"
   ]
  },
  {
   "cell_type": "markdown",
   "metadata": {},
   "source": [
    "4.3  Generate pickle file"
   ]
  },
  {
   "cell_type": "code",
   "execution_count": 52,
   "metadata": {},
   "outputs": [],
   "source": [
    "df_merge_health.to_pickle('health_merge.pkl')"
   ]
  },
  {
   "cell_type": "code",
   "execution_count": 9,
   "metadata": {},
   "outputs": [],
   "source": [
    "df_merge_sports.to_pickle('sports_merge.pkl')"
   ]
  },
  {
   "cell_type": "markdown",
   "metadata": {},
   "source": [
    "#### Citation: \n",
    "R. He, J. McAuley. Modeling the visual evolution of fashion trends with one-class collaborative filtering. WWW, 2016<br/>\n",
    "J. McAuley, C. Targett, J. Shi, A. van den Hengel. Image-based recommendations on styles and substitutes. SIGIR, 2015"
   ]
  }
 ],
 "metadata": {
  "kernelspec": {
   "display_name": "Python [default]",
   "language": "python",
   "name": "python3"
  },
  "language_info": {
   "codemirror_mode": {
    "name": "ipython",
    "version": 3
   },
   "file_extension": ".py",
   "mimetype": "text/x-python",
   "name": "python",
   "nbconvert_exporter": "python",
   "pygments_lexer": "ipython3",
   "version": "3.6.6"
  }
 },
 "nbformat": 4,
 "nbformat_minor": 2
}
